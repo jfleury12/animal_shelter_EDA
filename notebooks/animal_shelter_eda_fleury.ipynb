{
 "cells": [
  {
   "cell_type": "markdown",
   "metadata": {},
   "source": [
    "# Animal Shelter EDA"
   ]
  },
  {
   "cell_type": "markdown",
   "metadata": {},
   "source": [
    "## Import Relevant Libraries"
   ]
  },
  {
   "cell_type": "code",
   "execution_count": 91,
   "metadata": {},
   "outputs": [
    {
     "data": {
      "text/html": [
       "        <script type=\"text/javascript\">\n",
       "        window.PlotlyConfig = {MathJaxConfig: 'local'};\n",
       "        if (window.MathJax) {MathJax.Hub.Config({SVG: {font: \"STIX-Web\"}});}\n",
       "        if (typeof require !== 'undefined') {\n",
       "        require.undef(\"plotly\");\n",
       "        requirejs.config({\n",
       "            paths: {\n",
       "                'plotly': ['https://cdn.plot.ly/plotly-latest.min']\n",
       "            }\n",
       "        });\n",
       "        require(['plotly'], function(Plotly) {\n",
       "            window._Plotly = Plotly;\n",
       "        });\n",
       "        }\n",
       "        </script>\n",
       "        "
      ]
     },
     "metadata": {},
     "output_type": "display_data"
    }
   ],
   "source": [
    "import pandas as pd\n",
    "import matplotlib.pyplot as plt\n",
    "import seaborn as sns\n",
    "%matplotlib inline\n",
    "plt.rcParams['figure.figsize'] = [12,8] #set default fig size\n",
    "# pd.set_option('max_columns', None)\n",
    "# pd.set_option('max_rows', None)\n",
    "import cufflinks # !pip install ipywidgets\n",
    "cufflinks.go_offline()\n",
    "cufflinks.set_config_file(world_readable=True, theme='pearl')\n",
    "from plotly.offline import iplot"
   ]
  },
  {
   "cell_type": "markdown",
   "metadata": {},
   "source": [
    "## Data Importation and Cleaning"
   ]
  },
  {
   "cell_type": "code",
   "execution_count": 112,
   "metadata": {},
   "outputs": [
    {
     "data": {
      "text/plain": [
       "(22557, 34)"
      ]
     },
     "execution_count": 112,
     "metadata": {},
     "output_type": "execute_result"
    }
   ],
   "source": [
    "df = pd.read_excel('../data/EDA Instructions and Data.xlsx', sheet_name = 'Data')\n",
    "df.shape"
   ]
  },
  {
   "cell_type": "code",
   "execution_count": 113,
   "metadata": {},
   "outputs": [
    {
     "data": {
      "text/html": [
       "<div>\n",
       "<style scoped>\n",
       "    .dataframe tbody tr th:only-of-type {\n",
       "        vertical-align: middle;\n",
       "    }\n",
       "\n",
       "    .dataframe tbody tr th {\n",
       "        vertical-align: top;\n",
       "    }\n",
       "\n",
       "    .dataframe thead th {\n",
       "        text-align: right;\n",
       "    }\n",
       "</style>\n",
       "<table border=\"1\" class=\"dataframe\">\n",
       "  <thead>\n",
       "    <tr style=\"text-align: right;\">\n",
       "      <th></th>\n",
       "      <th>Animal Id</th>\n",
       "      <th>Animal Type</th>\n",
       "      <th>Animal Breed</th>\n",
       "      <th>Kennel Number</th>\n",
       "      <th>Kennel Status</th>\n",
       "      <th>Tag Type</th>\n",
       "      <th>Activity Number</th>\n",
       "      <th>Activity Sequence</th>\n",
       "      <th>Source Id</th>\n",
       "      <th>Census Tract</th>\n",
       "      <th>...</th>\n",
       "      <th>Outcome Time</th>\n",
       "      <th>Receipt Number</th>\n",
       "      <th>Impound Number</th>\n",
       "      <th>Service Request Number</th>\n",
       "      <th>Outcome Condition</th>\n",
       "      <th>Chip Status</th>\n",
       "      <th>Animal Origin</th>\n",
       "      <th>Additional Information</th>\n",
       "      <th>Month</th>\n",
       "      <th>Year</th>\n",
       "    </tr>\n",
       "  </thead>\n",
       "  <tbody>\n",
       "    <tr>\n",
       "      <td>0</td>\n",
       "      <td>A0144701</td>\n",
       "      <td>DOG</td>\n",
       "      <td>HAVANESE</td>\n",
       "      <td>VT 12</td>\n",
       "      <td>IMPOUNDED</td>\n",
       "      <td>NaN</td>\n",
       "      <td>NaN</td>\n",
       "      <td>1</td>\n",
       "      <td>P0098773</td>\n",
       "      <td>6301</td>\n",
       "      <td>...</td>\n",
       "      <td>11:31:00</td>\n",
       "      <td>R19-558731</td>\n",
       "      <td>K19-486742</td>\n",
       "      <td>NaN</td>\n",
       "      <td>APP SICK</td>\n",
       "      <td>SCAN CHIP</td>\n",
       "      <td>OVER THE COUNTER</td>\n",
       "      <td>RETURNED TO OWNER</td>\n",
       "      <td>NOV.2019</td>\n",
       "      <td>FY2020</td>\n",
       "    </tr>\n",
       "    <tr>\n",
       "      <td>1</td>\n",
       "      <td>A0442587</td>\n",
       "      <td>DOG</td>\n",
       "      <td>TERRIER MIX</td>\n",
       "      <td>FREEZER</td>\n",
       "      <td>IMPOUNDED</td>\n",
       "      <td>NaN</td>\n",
       "      <td>NaN</td>\n",
       "      <td>1</td>\n",
       "      <td>P0492284</td>\n",
       "      <td>7102</td>\n",
       "      <td>...</td>\n",
       "      <td>00:00:00</td>\n",
       "      <td>NaN</td>\n",
       "      <td>K19-486954</td>\n",
       "      <td>NaN</td>\n",
       "      <td>DEAD</td>\n",
       "      <td>SCAN CHIP</td>\n",
       "      <td>OVER THE COUNTER</td>\n",
       "      <td>NaN</td>\n",
       "      <td>NOV.2019</td>\n",
       "      <td>FY2020</td>\n",
       "    </tr>\n",
       "    <tr>\n",
       "      <td>2</td>\n",
       "      <td>A0458972</td>\n",
       "      <td>DOG</td>\n",
       "      <td>CATAHOULA</td>\n",
       "      <td>RECEIVING</td>\n",
       "      <td>UNAVAILABLE</td>\n",
       "      <td>NaN</td>\n",
       "      <td>A19-195601</td>\n",
       "      <td>1</td>\n",
       "      <td>P9991718</td>\n",
       "      <td>4600</td>\n",
       "      <td>...</td>\n",
       "      <td>13:36:00</td>\n",
       "      <td>NaN</td>\n",
       "      <td>K19-482022</td>\n",
       "      <td>NaN</td>\n",
       "      <td>TREATABLE REHABILITABLE NON-CONTAGIOUS</td>\n",
       "      <td>SCAN NO CHIP</td>\n",
       "      <td>SWEEP</td>\n",
       "      <td>NaN</td>\n",
       "      <td>OCT.2019</td>\n",
       "      <td>FY2020</td>\n",
       "    </tr>\n",
       "    <tr>\n",
       "      <td>3</td>\n",
       "      <td>A0525642</td>\n",
       "      <td>DOG</td>\n",
       "      <td>GERM SHEPHERD</td>\n",
       "      <td>INJD 001</td>\n",
       "      <td>IMPOUNDED</td>\n",
       "      <td>NaN</td>\n",
       "      <td>A19-196573</td>\n",
       "      <td>1</td>\n",
       "      <td>P0903792</td>\n",
       "      <td>16605</td>\n",
       "      <td>...</td>\n",
       "      <td>17:35:00</td>\n",
       "      <td>NaN</td>\n",
       "      <td>K19-483073</td>\n",
       "      <td>NaN</td>\n",
       "      <td>TREATABLE REHABILITABLE NON-CONTAGIOUS</td>\n",
       "      <td>SCAN CHIP</td>\n",
       "      <td>SWEEP</td>\n",
       "      <td>TAGGED</td>\n",
       "      <td>OCT.2019</td>\n",
       "      <td>FY2020</td>\n",
       "    </tr>\n",
       "    <tr>\n",
       "      <td>4</td>\n",
       "      <td>A0565586</td>\n",
       "      <td>DOG</td>\n",
       "      <td>SILKY TERRIER</td>\n",
       "      <td>LFD 119</td>\n",
       "      <td>UNAVAILABLE</td>\n",
       "      <td>NaN</td>\n",
       "      <td>NaN</td>\n",
       "      <td>1</td>\n",
       "      <td>P0890077</td>\n",
       "      <td>6900</td>\n",
       "      <td>...</td>\n",
       "      <td>12:57:00</td>\n",
       "      <td>R19-558750</td>\n",
       "      <td>K19-486694</td>\n",
       "      <td>NaN</td>\n",
       "      <td>APP WNL</td>\n",
       "      <td>SCAN CHIP</td>\n",
       "      <td>OVER THE COUNTER</td>\n",
       "      <td>RETURNED TO OWNER</td>\n",
       "      <td>NOV.2019</td>\n",
       "      <td>FY2020</td>\n",
       "    </tr>\n",
       "  </tbody>\n",
       "</table>\n",
       "<p>5 rows × 34 columns</p>\n",
       "</div>"
      ],
      "text/plain": [
       "  Animal Id Animal Type   Animal Breed Kennel Number Kennel Status  Tag Type  \\\n",
       "0  A0144701         DOG       HAVANESE         VT 12     IMPOUNDED       NaN   \n",
       "1  A0442587         DOG    TERRIER MIX       FREEZER     IMPOUNDED       NaN   \n",
       "2  A0458972         DOG      CATAHOULA     RECEIVING   UNAVAILABLE       NaN   \n",
       "3  A0525642         DOG  GERM SHEPHERD      INJD 001     IMPOUNDED       NaN   \n",
       "4  A0565586         DOG  SILKY TERRIER       LFD 119   UNAVAILABLE       NaN   \n",
       "\n",
       "  Activity Number  Activity Sequence Source Id Census Tract  ... Outcome Time  \\\n",
       "0             NaN                  1  P0098773         6301  ...     11:31:00   \n",
       "1             NaN                  1  P0492284         7102  ...     00:00:00   \n",
       "2      A19-195601                  1  P9991718         4600  ...     13:36:00   \n",
       "3      A19-196573                  1  P0903792        16605  ...     17:35:00   \n",
       "4             NaN                  1  P0890077         6900  ...     12:57:00   \n",
       "\n",
       "  Receipt Number Impound Number  Service Request Number  \\\n",
       "0     R19-558731     K19-486742                     NaN   \n",
       "1            NaN     K19-486954                     NaN   \n",
       "2            NaN     K19-482022                     NaN   \n",
       "3            NaN     K19-483073                     NaN   \n",
       "4     R19-558750     K19-486694                     NaN   \n",
       "\n",
       "                        Outcome Condition   Chip Status     Animal Origin  \\\n",
       "0                                APP SICK     SCAN CHIP  OVER THE COUNTER   \n",
       "1                                    DEAD     SCAN CHIP  OVER THE COUNTER   \n",
       "2  TREATABLE REHABILITABLE NON-CONTAGIOUS  SCAN NO CHIP             SWEEP   \n",
       "3  TREATABLE REHABILITABLE NON-CONTAGIOUS     SCAN CHIP             SWEEP   \n",
       "4                                 APP WNL     SCAN CHIP  OVER THE COUNTER   \n",
       "\n",
       "  Additional Information     Month    Year  \n",
       "0      RETURNED TO OWNER  NOV.2019  FY2020  \n",
       "1                    NaN  NOV.2019  FY2020  \n",
       "2                    NaN  OCT.2019  FY2020  \n",
       "3                 TAGGED  OCT.2019  FY2020  \n",
       "4      RETURNED TO OWNER  NOV.2019  FY2020  \n",
       "\n",
       "[5 rows x 34 columns]"
      ]
     },
     "execution_count": 113,
     "metadata": {},
     "output_type": "execute_result"
    }
   ],
   "source": [
    "df.head()"
   ]
  },
  {
   "cell_type": "code",
   "execution_count": 114,
   "metadata": {},
   "outputs": [
    {
     "name": "stdout",
     "output_type": "stream",
     "text": [
      "<class 'pandas.core.frame.DataFrame'>\n",
      "RangeIndex: 22557 entries, 0 to 22556\n",
      "Data columns (total 34 columns):\n",
      "Animal Id                 22557 non-null object\n",
      "Animal Type               22557 non-null object\n",
      "Animal Breed              22557 non-null object\n",
      "Kennel Number             22557 non-null object\n",
      "Kennel Status             22557 non-null object\n",
      "Tag Type                  0 non-null float64\n",
      "Activity Number           11974 non-null object\n",
      "Activity Sequence         22557 non-null int64\n",
      "Source Id                 22557 non-null object\n",
      "Census Tract              19799 non-null object\n",
      "Council District          19799 non-null object\n",
      "Intake Type               22557 non-null object\n",
      "Intake Subtype            22557 non-null object\n",
      "Intake Total              22557 non-null int64\n",
      "Reason                    21229 non-null object\n",
      "Staff Id                  22557 non-null object\n",
      "Intake Date               22557 non-null datetime64[ns]\n",
      "Intake Time               22557 non-null object\n",
      "Due Out                   22557 non-null datetime64[ns]\n",
      "Intake Condition          22557 non-null object\n",
      "Hold Request              15725 non-null object\n",
      "Outcome Type              22557 non-null object\n",
      "Outcome Subtype           22557 non-null object\n",
      "Outcome Date              22190 non-null datetime64[ns]\n",
      "Outcome Time              22557 non-null object\n",
      "Receipt Number            9057 non-null object\n",
      "Impound Number            22557 non-null object\n",
      "Service Request Number    56 non-null object\n",
      "Outcome Condition         21019 non-null object\n",
      "Chip Status               21229 non-null object\n",
      "Animal Origin             21229 non-null object\n",
      "Additional Information    9237 non-null object\n",
      "Month                     22557 non-null object\n",
      "Year                      22557 non-null object\n",
      "dtypes: datetime64[ns](3), float64(1), int64(2), object(28)\n",
      "memory usage: 5.9+ MB\n"
     ]
    }
   ],
   "source": [
    "df.info()"
   ]
  },
  {
   "cell_type": "code",
   "execution_count": 115,
   "metadata": {},
   "outputs": [],
   "source": [
    "# Specify columns to drop\n",
    "dropped_cols = ['Tag Type','Activity Number','Activity Sequence','Source Id','Intake Total',\n",
    "                'Reason','Staff Id','Hold Request','Receipt Number','Impound Number',\n",
    "                'Service Request Number','Chip Status','Animal Origin','Additional Information']\n",
    "\n",
    "df = df.drop(dropped_cols, axis=1)"
   ]
  },
  {
   "cell_type": "code",
   "execution_count": 7,
   "metadata": {},
   "outputs": [
    {
     "name": "stdout",
     "output_type": "stream",
     "text": [
      "<class 'pandas.core.frame.DataFrame'>\n",
      "RangeIndex: 22557 entries, 0 to 22556\n",
      "Data columns (total 20 columns):\n",
      "Animal Id            22557 non-null object\n",
      "Animal Type          22557 non-null object\n",
      "Animal Breed         22557 non-null object\n",
      "Kennel Number        22557 non-null object\n",
      "Kennel Status        22557 non-null object\n",
      "Census Tract         19799 non-null object\n",
      "Council District     19799 non-null object\n",
      "Intake Type          22557 non-null object\n",
      "Intake Subtype       22557 non-null object\n",
      "Intake Date          22557 non-null datetime64[ns]\n",
      "Intake Time          22557 non-null object\n",
      "Due Out              22557 non-null datetime64[ns]\n",
      "Intake Condition     22557 non-null object\n",
      "Outcome Type         22557 non-null object\n",
      "Outcome Subtype      22557 non-null object\n",
      "Outcome Date         22190 non-null datetime64[ns]\n",
      "Outcome Time         22557 non-null object\n",
      "Outcome Condition    21019 non-null object\n",
      "Month                22557 non-null object\n",
      "Year                 22557 non-null object\n",
      "dtypes: datetime64[ns](3), object(17)\n",
      "memory usage: 3.4+ MB\n"
     ]
    }
   ],
   "source": [
    "df.info()"
   ]
  },
  {
   "cell_type": "code",
   "execution_count": 8,
   "metadata": {},
   "outputs": [
    {
     "data": {
      "text/plain": [
       "Animal Id               0\n",
       "Animal Type             0\n",
       "Animal Breed            0\n",
       "Kennel Number           0\n",
       "Kennel Status           0\n",
       "Census Tract         2758\n",
       "Council District     2758\n",
       "Intake Type             0\n",
       "Intake Subtype          0\n",
       "Intake Date             0\n",
       "Intake Time             0\n",
       "Due Out                 0\n",
       "Intake Condition        0\n",
       "Outcome Type            0\n",
       "Outcome Subtype         0\n",
       "Outcome Date          367\n",
       "Outcome Time            0\n",
       "Outcome Condition    1538\n",
       "Month                   0\n",
       "Year                    0\n",
       "dtype: int64"
      ]
     },
     "execution_count": 8,
     "metadata": {},
     "output_type": "execute_result"
    }
   ],
   "source": [
    "# Check null values\n",
    "df.isnull().sum()"
   ]
  },
  {
   "cell_type": "code",
   "execution_count": 9,
   "metadata": {},
   "outputs": [
    {
     "data": {
      "text/html": [
       "<div>\n",
       "<style scoped>\n",
       "    .dataframe tbody tr th:only-of-type {\n",
       "        vertical-align: middle;\n",
       "    }\n",
       "\n",
       "    .dataframe tbody tr th {\n",
       "        vertical-align: top;\n",
       "    }\n",
       "\n",
       "    .dataframe thead th {\n",
       "        text-align: right;\n",
       "    }\n",
       "</style>\n",
       "<table border=\"1\" class=\"dataframe\">\n",
       "  <thead>\n",
       "    <tr style=\"text-align: right;\">\n",
       "      <th></th>\n",
       "      <th>Animal Id</th>\n",
       "      <th>Animal Type</th>\n",
       "      <th>Animal Breed</th>\n",
       "      <th>Kennel Number</th>\n",
       "      <th>Kennel Status</th>\n",
       "      <th>Census Tract</th>\n",
       "      <th>Council District</th>\n",
       "      <th>Intake Type</th>\n",
       "      <th>Intake Subtype</th>\n",
       "      <th>Intake Date</th>\n",
       "      <th>Intake Time</th>\n",
       "      <th>Due Out</th>\n",
       "      <th>Intake Condition</th>\n",
       "      <th>Outcome Type</th>\n",
       "      <th>Outcome Subtype</th>\n",
       "      <th>Outcome Date</th>\n",
       "      <th>Outcome Time</th>\n",
       "      <th>Outcome Condition</th>\n",
       "      <th>Month</th>\n",
       "      <th>Year</th>\n",
       "    </tr>\n",
       "  </thead>\n",
       "  <tbody>\n",
       "    <tr>\n",
       "      <td>0</td>\n",
       "      <td>A0144701</td>\n",
       "      <td>DOG</td>\n",
       "      <td>HAVANESE</td>\n",
       "      <td>VT 12</td>\n",
       "      <td>IMPOUNDED</td>\n",
       "      <td>6301</td>\n",
       "      <td>4</td>\n",
       "      <td>OWNER SURRENDER</td>\n",
       "      <td>GENERAL</td>\n",
       "      <td>2019-11-08</td>\n",
       "      <td>15:48:00</td>\n",
       "      <td>2019-11-14</td>\n",
       "      <td>APP SICK</td>\n",
       "      <td>RETURNED TO OWNER</td>\n",
       "      <td>WALK IN</td>\n",
       "      <td>2019-11-09</td>\n",
       "      <td>11:31:00</td>\n",
       "      <td>APP SICK</td>\n",
       "      <td>NOV.2019</td>\n",
       "      <td>FY2020</td>\n",
       "    </tr>\n",
       "    <tr>\n",
       "      <td>1</td>\n",
       "      <td>A0442587</td>\n",
       "      <td>DOG</td>\n",
       "      <td>TERRIER MIX</td>\n",
       "      <td>FREEZER</td>\n",
       "      <td>IMPOUNDED</td>\n",
       "      <td>7102</td>\n",
       "      <td>2</td>\n",
       "      <td>OWNER SURRENDER</td>\n",
       "      <td>DEAD ON ARRIVAL</td>\n",
       "      <td>2019-11-10</td>\n",
       "      <td>14:18:00</td>\n",
       "      <td>2019-11-10</td>\n",
       "      <td>DEAD</td>\n",
       "      <td>DEAD ON ARRIVAL</td>\n",
       "      <td>DISPOSAL</td>\n",
       "      <td>2019-11-10</td>\n",
       "      <td>00:00:00</td>\n",
       "      <td>DEAD</td>\n",
       "      <td>NOV.2019</td>\n",
       "      <td>FY2020</td>\n",
       "    </tr>\n",
       "    <tr>\n",
       "      <td>2</td>\n",
       "      <td>A0458972</td>\n",
       "      <td>DOG</td>\n",
       "      <td>CATAHOULA</td>\n",
       "      <td>RECEIVING</td>\n",
       "      <td>UNAVAILABLE</td>\n",
       "      <td>4600</td>\n",
       "      <td>1</td>\n",
       "      <td>STRAY</td>\n",
       "      <td>AT LARGE</td>\n",
       "      <td>2019-10-03</td>\n",
       "      <td>11:08:00</td>\n",
       "      <td>2019-10-03</td>\n",
       "      <td>TREATABLE REHABILITABLE NON-CONTAGIOUS</td>\n",
       "      <td>RETURNED TO OWNER</td>\n",
       "      <td>FIELD</td>\n",
       "      <td>2019-10-03</td>\n",
       "      <td>13:36:00</td>\n",
       "      <td>TREATABLE REHABILITABLE NON-CONTAGIOUS</td>\n",
       "      <td>OCT.2019</td>\n",
       "      <td>FY2020</td>\n",
       "    </tr>\n",
       "    <tr>\n",
       "      <td>3</td>\n",
       "      <td>A0525642</td>\n",
       "      <td>DOG</td>\n",
       "      <td>GERM SHEPHERD</td>\n",
       "      <td>INJD 001</td>\n",
       "      <td>IMPOUNDED</td>\n",
       "      <td>16605</td>\n",
       "      <td>8</td>\n",
       "      <td>OWNER SURRENDER</td>\n",
       "      <td>GENERAL</td>\n",
       "      <td>2019-10-11</td>\n",
       "      <td>09:55:00</td>\n",
       "      <td>2019-10-17</td>\n",
       "      <td>TREATABLE REHABILITABLE NON-CONTAGIOUS</td>\n",
       "      <td>TRANSFER</td>\n",
       "      <td>MEDICAL-CONTAGIOUS</td>\n",
       "      <td>2019-10-15</td>\n",
       "      <td>17:35:00</td>\n",
       "      <td>TREATABLE REHABILITABLE NON-CONTAGIOUS</td>\n",
       "      <td>OCT.2019</td>\n",
       "      <td>FY2020</td>\n",
       "    </tr>\n",
       "    <tr>\n",
       "      <td>4</td>\n",
       "      <td>A0565586</td>\n",
       "      <td>DOG</td>\n",
       "      <td>SILKY TERRIER</td>\n",
       "      <td>LFD 119</td>\n",
       "      <td>UNAVAILABLE</td>\n",
       "      <td>6900</td>\n",
       "      <td>1</td>\n",
       "      <td>STRAY</td>\n",
       "      <td>AT LARGE</td>\n",
       "      <td>2019-11-08</td>\n",
       "      <td>11:55:00</td>\n",
       "      <td>2019-11-14</td>\n",
       "      <td>APP WNL</td>\n",
       "      <td>RETURNED TO OWNER</td>\n",
       "      <td>WALK IN</td>\n",
       "      <td>2019-11-09</td>\n",
       "      <td>12:57:00</td>\n",
       "      <td>APP WNL</td>\n",
       "      <td>NOV.2019</td>\n",
       "      <td>FY2020</td>\n",
       "    </tr>\n",
       "  </tbody>\n",
       "</table>\n",
       "</div>"
      ],
      "text/plain": [
       "  Animal Id Animal Type   Animal Breed Kennel Number Kennel Status  \\\n",
       "0  A0144701         DOG       HAVANESE         VT 12     IMPOUNDED   \n",
       "1  A0442587         DOG    TERRIER MIX       FREEZER     IMPOUNDED   \n",
       "2  A0458972         DOG      CATAHOULA     RECEIVING   UNAVAILABLE   \n",
       "3  A0525642         DOG  GERM SHEPHERD      INJD 001     IMPOUNDED   \n",
       "4  A0565586         DOG  SILKY TERRIER       LFD 119   UNAVAILABLE   \n",
       "\n",
       "  Census Tract Council District      Intake Type   Intake Subtype Intake Date  \\\n",
       "0         6301                4  OWNER SURRENDER          GENERAL  2019-11-08   \n",
       "1         7102                2  OWNER SURRENDER  DEAD ON ARRIVAL  2019-11-10   \n",
       "2         4600                1            STRAY         AT LARGE  2019-10-03   \n",
       "3        16605                8  OWNER SURRENDER          GENERAL  2019-10-11   \n",
       "4         6900                1            STRAY         AT LARGE  2019-11-08   \n",
       "\n",
       "  Intake Time    Due Out                        Intake Condition  \\\n",
       "0    15:48:00 2019-11-14                                APP SICK   \n",
       "1    14:18:00 2019-11-10                                    DEAD   \n",
       "2    11:08:00 2019-10-03  TREATABLE REHABILITABLE NON-CONTAGIOUS   \n",
       "3    09:55:00 2019-10-17  TREATABLE REHABILITABLE NON-CONTAGIOUS   \n",
       "4    11:55:00 2019-11-14                                 APP WNL   \n",
       "\n",
       "        Outcome Type     Outcome Subtype Outcome Date Outcome Time  \\\n",
       "0  RETURNED TO OWNER             WALK IN   2019-11-09     11:31:00   \n",
       "1    DEAD ON ARRIVAL            DISPOSAL   2019-11-10     00:00:00   \n",
       "2  RETURNED TO OWNER               FIELD   2019-10-03     13:36:00   \n",
       "3           TRANSFER  MEDICAL-CONTAGIOUS   2019-10-15     17:35:00   \n",
       "4  RETURNED TO OWNER             WALK IN   2019-11-09     12:57:00   \n",
       "\n",
       "                        Outcome Condition     Month    Year  \n",
       "0                                APP SICK  NOV.2019  FY2020  \n",
       "1                                    DEAD  NOV.2019  FY2020  \n",
       "2  TREATABLE REHABILITABLE NON-CONTAGIOUS  OCT.2019  FY2020  \n",
       "3  TREATABLE REHABILITABLE NON-CONTAGIOUS  OCT.2019  FY2020  \n",
       "4                                 APP WNL  NOV.2019  FY2020  "
      ]
     },
     "execution_count": 9,
     "metadata": {},
     "output_type": "execute_result"
    }
   ],
   "source": [
    "df.head()"
   ]
  },
  {
   "cell_type": "markdown",
   "metadata": {},
   "source": [
    "## Some Data Exploration"
   ]
  },
  {
   "cell_type": "markdown",
   "metadata": {},
   "source": [
    "It's good to explore entries that have missing values to determine why they might be missing."
   ]
  },
  {
   "cell_type": "code",
   "execution_count": 10,
   "metadata": {},
   "outputs": [
    {
     "name": "stdout",
     "output_type": "stream",
     "text": [
      "Index(['Census Tract', 'Council District', 'Outcome Date',\n",
      "       'Outcome Condition'],\n",
      "      dtype='object')\n"
     ]
    },
    {
     "data": {
      "text/html": [
       "<div>\n",
       "<style scoped>\n",
       "    .dataframe tbody tr th:only-of-type {\n",
       "        vertical-align: middle;\n",
       "    }\n",
       "\n",
       "    .dataframe tbody tr th {\n",
       "        vertical-align: top;\n",
       "    }\n",
       "\n",
       "    .dataframe thead th {\n",
       "        text-align: right;\n",
       "    }\n",
       "</style>\n",
       "<table border=\"1\" class=\"dataframe\">\n",
       "  <thead>\n",
       "    <tr style=\"text-align: right;\">\n",
       "      <th></th>\n",
       "      <th>Animal Id</th>\n",
       "      <th>Animal Type</th>\n",
       "      <th>Animal Breed</th>\n",
       "      <th>Kennel Number</th>\n",
       "      <th>Kennel Status</th>\n",
       "      <th>Census Tract</th>\n",
       "      <th>Council District</th>\n",
       "      <th>Intake Type</th>\n",
       "      <th>Intake Subtype</th>\n",
       "      <th>Intake Date</th>\n",
       "      <th>Intake Time</th>\n",
       "      <th>Due Out</th>\n",
       "      <th>Intake Condition</th>\n",
       "      <th>Outcome Type</th>\n",
       "      <th>Outcome Subtype</th>\n",
       "      <th>Outcome Date</th>\n",
       "      <th>Outcome Time</th>\n",
       "      <th>Outcome Condition</th>\n",
       "      <th>Month</th>\n",
       "      <th>Year</th>\n",
       "    </tr>\n",
       "  </thead>\n",
       "  <tbody>\n",
       "    <tr>\n",
       "      <td>16343</td>\n",
       "      <td>A1093994</td>\n",
       "      <td>DOG</td>\n",
       "      <td>AUST CATTLE DOG</td>\n",
       "      <td>LOST</td>\n",
       "      <td>IMPOUNDED</td>\n",
       "      <td>NaN</td>\n",
       "      <td>NaN</td>\n",
       "      <td>STRAY</td>\n",
       "      <td>WEB</td>\n",
       "      <td>2020-01-22</td>\n",
       "      <td>14:25:00</td>\n",
       "      <td>2020-01-22</td>\n",
       "      <td>NORMAL</td>\n",
       "      <td>LOST EXP</td>\n",
       "      <td>OTHER</td>\n",
       "      <td>2020-02-22</td>\n",
       "      <td>00:00:00</td>\n",
       "      <td>NaN</td>\n",
       "      <td>JAN.2020</td>\n",
       "      <td>FY2020</td>\n",
       "    </tr>\n",
       "    <tr>\n",
       "      <td>10886</td>\n",
       "      <td>A1089102</td>\n",
       "      <td>DOG</td>\n",
       "      <td>CANE CORSO</td>\n",
       "      <td>FOUND</td>\n",
       "      <td>IMPOUNDED</td>\n",
       "      <td>NaN</td>\n",
       "      <td>NaN</td>\n",
       "      <td>STRAY</td>\n",
       "      <td>WEB</td>\n",
       "      <td>2019-11-21</td>\n",
       "      <td>10:25:00</td>\n",
       "      <td>2019-11-22</td>\n",
       "      <td>NORMAL</td>\n",
       "      <td>FOUND EXP</td>\n",
       "      <td>OTHER</td>\n",
       "      <td>2019-12-23</td>\n",
       "      <td>00:00:00</td>\n",
       "      <td>NaN</td>\n",
       "      <td>NOV.2019</td>\n",
       "      <td>FY2020</td>\n",
       "    </tr>\n",
       "    <tr>\n",
       "      <td>2514</td>\n",
       "      <td>A1084205</td>\n",
       "      <td>DOG</td>\n",
       "      <td>GERM SHEPHERD</td>\n",
       "      <td>LOST</td>\n",
       "      <td>IMPOUNDED</td>\n",
       "      <td>NaN</td>\n",
       "      <td>NaN</td>\n",
       "      <td>STRAY</td>\n",
       "      <td>WEB</td>\n",
       "      <td>2019-10-01</td>\n",
       "      <td>11:25:00</td>\n",
       "      <td>2019-10-02</td>\n",
       "      <td>NORMAL</td>\n",
       "      <td>LOST EXP</td>\n",
       "      <td>OTHER</td>\n",
       "      <td>2019-11-02</td>\n",
       "      <td>00:00:00</td>\n",
       "      <td>NaN</td>\n",
       "      <td>OCT.2019</td>\n",
       "      <td>FY2020</td>\n",
       "    </tr>\n",
       "    <tr>\n",
       "      <td>22530</td>\n",
       "      <td>A1100954</td>\n",
       "      <td>DOG</td>\n",
       "      <td>PIT BULL</td>\n",
       "      <td>QD 06</td>\n",
       "      <td>UNAVAILABLE</td>\n",
       "      <td>20200</td>\n",
       "      <td>8</td>\n",
       "      <td>OWNER SURRENDER</td>\n",
       "      <td>QUARANTINE</td>\n",
       "      <td>2020-05-08</td>\n",
       "      <td>20:54:00</td>\n",
       "      <td>2020-05-08</td>\n",
       "      <td>APP WNL</td>\n",
       "      <td>OTHER</td>\n",
       "      <td>OTHER</td>\n",
       "      <td>NaT</td>\n",
       "      <td>00:00:00</td>\n",
       "      <td>NaN</td>\n",
       "      <td>MAY.2020</td>\n",
       "      <td>FY2020</td>\n",
       "    </tr>\n",
       "    <tr>\n",
       "      <td>5129</td>\n",
       "      <td>A1086677</td>\n",
       "      <td>DOG</td>\n",
       "      <td>RAT TERRIER</td>\n",
       "      <td>LOST</td>\n",
       "      <td>IMPOUNDED</td>\n",
       "      <td>NaN</td>\n",
       "      <td>NaN</td>\n",
       "      <td>STRAY</td>\n",
       "      <td>WEB</td>\n",
       "      <td>2019-10-23</td>\n",
       "      <td>12:25:00</td>\n",
       "      <td>2019-10-26</td>\n",
       "      <td>NORMAL</td>\n",
       "      <td>LOST EXP</td>\n",
       "      <td>OTHER</td>\n",
       "      <td>2019-11-26</td>\n",
       "      <td>00:00:00</td>\n",
       "      <td>NaN</td>\n",
       "      <td>OCT.2019</td>\n",
       "      <td>FY2020</td>\n",
       "    </tr>\n",
       "  </tbody>\n",
       "</table>\n",
       "</div>"
      ],
      "text/plain": [
       "      Animal Id Animal Type     Animal Breed Kennel Number Kennel Status  \\\n",
       "16343  A1093994         DOG  AUST CATTLE DOG          LOST     IMPOUNDED   \n",
       "10886  A1089102         DOG       CANE CORSO         FOUND     IMPOUNDED   \n",
       "2514   A1084205         DOG    GERM SHEPHERD          LOST     IMPOUNDED   \n",
       "22530  A1100954         DOG         PIT BULL         QD 06   UNAVAILABLE   \n",
       "5129   A1086677         DOG      RAT TERRIER          LOST     IMPOUNDED   \n",
       "\n",
       "      Census Tract Council District      Intake Type Intake Subtype  \\\n",
       "16343          NaN              NaN            STRAY            WEB   \n",
       "10886          NaN              NaN            STRAY            WEB   \n",
       "2514           NaN              NaN            STRAY            WEB   \n",
       "22530        20200                8  OWNER SURRENDER     QUARANTINE   \n",
       "5129           NaN              NaN            STRAY            WEB   \n",
       "\n",
       "      Intake Date Intake Time    Due Out Intake Condition Outcome Type  \\\n",
       "16343  2020-01-22    14:25:00 2020-01-22           NORMAL     LOST EXP   \n",
       "10886  2019-11-21    10:25:00 2019-11-22           NORMAL    FOUND EXP   \n",
       "2514   2019-10-01    11:25:00 2019-10-02           NORMAL     LOST EXP   \n",
       "22530  2020-05-08    20:54:00 2020-05-08          APP WNL        OTHER   \n",
       "5129   2019-10-23    12:25:00 2019-10-26           NORMAL     LOST EXP   \n",
       "\n",
       "      Outcome Subtype Outcome Date Outcome Time Outcome Condition     Month  \\\n",
       "16343           OTHER   2020-02-22     00:00:00               NaN  JAN.2020   \n",
       "10886           OTHER   2019-12-23     00:00:00               NaN  NOV.2019   \n",
       "2514            OTHER   2019-11-02     00:00:00               NaN  OCT.2019   \n",
       "22530           OTHER          NaT     00:00:00               NaN  MAY.2020   \n",
       "5129            OTHER   2019-11-26     00:00:00               NaN  OCT.2019   \n",
       "\n",
       "         Year  \n",
       "16343  FY2020  \n",
       "10886  FY2020  \n",
       "2514   FY2020  \n",
       "22530  FY2020  \n",
       "5129   FY2020  "
      ]
     },
     "execution_count": 10,
     "metadata": {},
     "output_type": "execute_result"
    }
   ],
   "source": [
    "# Let's explore what these null entries look like\n",
    "\n",
    "# Identify columns with nulls\n",
    "cols = df.columns[df.isnull().any()]\n",
    "print(cols)\n",
    "\n",
    "# Look at the table\n",
    "df.loc[df['Outcome Condition'].isnull()].sample(5)\n",
    "# many of these animals have been sheltered > 7 days w/ outcome type = ['LOST EXP', 'FOUND EXP', 'OTHER']"
   ]
  },
  {
   "cell_type": "code",
   "execution_count": 11,
   "metadata": {},
   "outputs": [
    {
     "data": {
      "text/html": [
       "<div>\n",
       "<style scoped>\n",
       "    .dataframe tbody tr th:only-of-type {\n",
       "        vertical-align: middle;\n",
       "    }\n",
       "\n",
       "    .dataframe tbody tr th {\n",
       "        vertical-align: top;\n",
       "    }\n",
       "\n",
       "    .dataframe thead th {\n",
       "        text-align: right;\n",
       "    }\n",
       "</style>\n",
       "<table border=\"1\" class=\"dataframe\">\n",
       "  <thead>\n",
       "    <tr style=\"text-align: right;\">\n",
       "      <th></th>\n",
       "      <th>Animal Id</th>\n",
       "      <th>Animal Type</th>\n",
       "      <th>Animal Breed</th>\n",
       "      <th>Kennel Number</th>\n",
       "      <th>Kennel Status</th>\n",
       "      <th>Census Tract</th>\n",
       "      <th>Council District</th>\n",
       "      <th>Intake Type</th>\n",
       "      <th>Intake Subtype</th>\n",
       "      <th>Intake Date</th>\n",
       "      <th>Intake Time</th>\n",
       "      <th>Due Out</th>\n",
       "      <th>Intake Condition</th>\n",
       "      <th>Outcome Type</th>\n",
       "      <th>Outcome Subtype</th>\n",
       "      <th>Outcome Date</th>\n",
       "      <th>Outcome Time</th>\n",
       "      <th>Outcome Condition</th>\n",
       "      <th>Month</th>\n",
       "      <th>Year</th>\n",
       "    </tr>\n",
       "  </thead>\n",
       "  <tbody>\n",
       "    <tr>\n",
       "      <td>21234</td>\n",
       "      <td>A1100148</td>\n",
       "      <td>DOG</td>\n",
       "      <td>PIT BULL</td>\n",
       "      <td>LOST</td>\n",
       "      <td>IMPOUNDED</td>\n",
       "      <td>NaN</td>\n",
       "      <td>NaN</td>\n",
       "      <td>STRAY</td>\n",
       "      <td>WEB</td>\n",
       "      <td>2020-04-19</td>\n",
       "      <td>06:25:00</td>\n",
       "      <td>2020-04-21</td>\n",
       "      <td>NORMAL</td>\n",
       "      <td>OTHER</td>\n",
       "      <td>OTHER</td>\n",
       "      <td>NaT</td>\n",
       "      <td>00:00:00</td>\n",
       "      <td>NaN</td>\n",
       "      <td>APR.2020</td>\n",
       "      <td>FY2020</td>\n",
       "    </tr>\n",
       "    <tr>\n",
       "      <td>19749</td>\n",
       "      <td>A1099911</td>\n",
       "      <td>DOG</td>\n",
       "      <td>GERM SHEPHERD</td>\n",
       "      <td>LOST</td>\n",
       "      <td>IMPOUNDED</td>\n",
       "      <td>NaN</td>\n",
       "      <td>NaN</td>\n",
       "      <td>STRAY</td>\n",
       "      <td>WEB</td>\n",
       "      <td>2020-04-13</td>\n",
       "      <td>22:25:00</td>\n",
       "      <td>2020-04-14</td>\n",
       "      <td>NORMAL</td>\n",
       "      <td>OTHER</td>\n",
       "      <td>OTHER</td>\n",
       "      <td>NaT</td>\n",
       "      <td>00:00:00</td>\n",
       "      <td>NaN</td>\n",
       "      <td>APR.2020</td>\n",
       "      <td>FY2020</td>\n",
       "    </tr>\n",
       "    <tr>\n",
       "      <td>22554</td>\n",
       "      <td>A1100905</td>\n",
       "      <td>DOG</td>\n",
       "      <td>LABRADOR RETR</td>\n",
       "      <td>LFSD 11</td>\n",
       "      <td>IMPOUNDED</td>\n",
       "      <td>7302</td>\n",
       "      <td>13</td>\n",
       "      <td>STRAY</td>\n",
       "      <td>AT LARGE</td>\n",
       "      <td>2020-05-07</td>\n",
       "      <td>21:04:00</td>\n",
       "      <td>2020-05-11</td>\n",
       "      <td>APP WNL</td>\n",
       "      <td>ADOPTION</td>\n",
       "      <td>TELEADOPT</td>\n",
       "      <td>NaT</td>\n",
       "      <td>00:00:00</td>\n",
       "      <td>APP WNL</td>\n",
       "      <td>MAY.2020</td>\n",
       "      <td>FY2020</td>\n",
       "    </tr>\n",
       "    <tr>\n",
       "      <td>22463</td>\n",
       "      <td>A0898761</td>\n",
       "      <td>DOG</td>\n",
       "      <td>PIT BULL</td>\n",
       "      <td>LFD 106</td>\n",
       "      <td>IMPOUNDED</td>\n",
       "      <td>20500</td>\n",
       "      <td>6</td>\n",
       "      <td>STRAY</td>\n",
       "      <td>OTC</td>\n",
       "      <td>2020-05-08</td>\n",
       "      <td>11:41:00</td>\n",
       "      <td>2020-05-08</td>\n",
       "      <td>APP WNL</td>\n",
       "      <td>OTHER</td>\n",
       "      <td>OTHER</td>\n",
       "      <td>NaT</td>\n",
       "      <td>00:00:00</td>\n",
       "      <td>NaN</td>\n",
       "      <td>MAY.2020</td>\n",
       "      <td>FY2020</td>\n",
       "    </tr>\n",
       "    <tr>\n",
       "      <td>21960</td>\n",
       "      <td>A1100594</td>\n",
       "      <td>DOG</td>\n",
       "      <td>PIT BULL</td>\n",
       "      <td>QD 29</td>\n",
       "      <td>UNAVAILABLE</td>\n",
       "      <td>12800</td>\n",
       "      <td>9</td>\n",
       "      <td>CONFISCATED</td>\n",
       "      <td>QUARANTINE</td>\n",
       "      <td>2020-05-01</td>\n",
       "      <td>05:31:00</td>\n",
       "      <td>2020-05-10</td>\n",
       "      <td>APP INJ</td>\n",
       "      <td>OTHER</td>\n",
       "      <td>OTHER</td>\n",
       "      <td>NaT</td>\n",
       "      <td>00:00:00</td>\n",
       "      <td>NaN</td>\n",
       "      <td>MAY.2020</td>\n",
       "      <td>FY2020</td>\n",
       "    </tr>\n",
       "  </tbody>\n",
       "</table>\n",
       "</div>"
      ],
      "text/plain": [
       "      Animal Id Animal Type   Animal Breed Kennel Number Kennel Status  \\\n",
       "21234  A1100148         DOG       PIT BULL          LOST     IMPOUNDED   \n",
       "19749  A1099911         DOG  GERM SHEPHERD          LOST     IMPOUNDED   \n",
       "22554  A1100905         DOG  LABRADOR RETR       LFSD 11     IMPOUNDED   \n",
       "22463  A0898761         DOG       PIT BULL       LFD 106     IMPOUNDED   \n",
       "21960  A1100594         DOG       PIT BULL         QD 29   UNAVAILABLE   \n",
       "\n",
       "      Census Tract Council District  Intake Type Intake Subtype Intake Date  \\\n",
       "21234          NaN              NaN        STRAY            WEB  2020-04-19   \n",
       "19749          NaN              NaN        STRAY            WEB  2020-04-13   \n",
       "22554         7302               13        STRAY       AT LARGE  2020-05-07   \n",
       "22463        20500                6        STRAY            OTC  2020-05-08   \n",
       "21960        12800                9  CONFISCATED     QUARANTINE  2020-05-01   \n",
       "\n",
       "      Intake Time    Due Out Intake Condition Outcome Type Outcome Subtype  \\\n",
       "21234    06:25:00 2020-04-21           NORMAL        OTHER           OTHER   \n",
       "19749    22:25:00 2020-04-14           NORMAL        OTHER           OTHER   \n",
       "22554    21:04:00 2020-05-11          APP WNL     ADOPTION       TELEADOPT   \n",
       "22463    11:41:00 2020-05-08          APP WNL        OTHER           OTHER   \n",
       "21960    05:31:00 2020-05-10          APP INJ        OTHER           OTHER   \n",
       "\n",
       "      Outcome Date Outcome Time Outcome Condition     Month    Year  \n",
       "21234          NaT     00:00:00               NaN  APR.2020  FY2020  \n",
       "19749          NaT     00:00:00               NaN  APR.2020  FY2020  \n",
       "22554          NaT     00:00:00           APP WNL  MAY.2020  FY2020  \n",
       "22463          NaT     00:00:00               NaN  MAY.2020  FY2020  \n",
       "21960          NaT     00:00:00               NaN  MAY.2020  FY2020  "
      ]
     },
     "execution_count": 11,
     "metadata": {},
     "output_type": "execute_result"
    }
   ],
   "source": [
    "df.loc[df['Outcome Date'].isnull()].sample(5)\n",
    "# These animals most likely still at shelter"
   ]
  },
  {
   "cell_type": "code",
   "execution_count": 12,
   "metadata": {},
   "outputs": [
    {
     "name": "stdout",
     "output_type": "stream",
     "text": [
      "22424   2020-05-08\n",
      "22434   2020-05-08\n",
      "22475   2020-05-08\n",
      "22467   2020-05-08\n",
      "22466   2020-05-08\n",
      "Name: Outcome Date, dtype: datetime64[ns]\n"
     ]
    }
   ],
   "source": [
    "# Sanity check\n",
    "print(df['Outcome Date'].sort_values(ascending=False).head())\n",
    "# latest date is 5/8/20"
   ]
  },
  {
   "cell_type": "code",
   "execution_count": 13,
   "metadata": {
    "scrolled": true
   },
   "outputs": [
    {
     "data": {
      "text/html": [
       "<div>\n",
       "<style scoped>\n",
       "    .dataframe tbody tr th:only-of-type {\n",
       "        vertical-align: middle;\n",
       "    }\n",
       "\n",
       "    .dataframe tbody tr th {\n",
       "        vertical-align: top;\n",
       "    }\n",
       "\n",
       "    .dataframe thead th {\n",
       "        text-align: right;\n",
       "    }\n",
       "</style>\n",
       "<table border=\"1\" class=\"dataframe\">\n",
       "  <thead>\n",
       "    <tr style=\"text-align: right;\">\n",
       "      <th></th>\n",
       "      <th>Animal Id</th>\n",
       "      <th>Animal Type</th>\n",
       "      <th>Animal Breed</th>\n",
       "      <th>Kennel Number</th>\n",
       "      <th>Kennel Status</th>\n",
       "      <th>Census Tract</th>\n",
       "      <th>Council District</th>\n",
       "      <th>Intake Type</th>\n",
       "      <th>Intake Subtype</th>\n",
       "      <th>Intake Date</th>\n",
       "      <th>Intake Time</th>\n",
       "      <th>Due Out</th>\n",
       "      <th>Intake Condition</th>\n",
       "      <th>Outcome Type</th>\n",
       "      <th>Outcome Subtype</th>\n",
       "      <th>Outcome Date</th>\n",
       "      <th>Outcome Time</th>\n",
       "      <th>Outcome Condition</th>\n",
       "      <th>Month</th>\n",
       "      <th>Year</th>\n",
       "    </tr>\n",
       "  </thead>\n",
       "  <tbody>\n",
       "    <tr>\n",
       "      <td>16105</td>\n",
       "      <td>A1096261</td>\n",
       "      <td>DOG</td>\n",
       "      <td>PIT BULL</td>\n",
       "      <td>LOST</td>\n",
       "      <td>IMPOUNDED</td>\n",
       "      <td>NaN</td>\n",
       "      <td>NaN</td>\n",
       "      <td>STRAY</td>\n",
       "      <td>WEB</td>\n",
       "      <td>2020-02-15</td>\n",
       "      <td>18:25:00</td>\n",
       "      <td>2020-02-17</td>\n",
       "      <td>NORMAL</td>\n",
       "      <td>LOST EXP</td>\n",
       "      <td>OTHER</td>\n",
       "      <td>2020-03-19</td>\n",
       "      <td>00:00:00</td>\n",
       "      <td>NaN</td>\n",
       "      <td>FEB.2020</td>\n",
       "      <td>FY2020</td>\n",
       "    </tr>\n",
       "    <tr>\n",
       "      <td>5175</td>\n",
       "      <td>A1086716</td>\n",
       "      <td>CAT</td>\n",
       "      <td>DOMESTIC LH</td>\n",
       "      <td>FOUND</td>\n",
       "      <td>IMPOUNDED</td>\n",
       "      <td>NaN</td>\n",
       "      <td>NaN</td>\n",
       "      <td>STRAY</td>\n",
       "      <td>WEB</td>\n",
       "      <td>2019-10-26</td>\n",
       "      <td>16:25:00</td>\n",
       "      <td>2019-10-26</td>\n",
       "      <td>NORMAL</td>\n",
       "      <td>FOUND EXP</td>\n",
       "      <td>OTHER</td>\n",
       "      <td>2019-11-26</td>\n",
       "      <td>00:00:00</td>\n",
       "      <td>NaN</td>\n",
       "      <td>OCT.2019</td>\n",
       "      <td>FY2020</td>\n",
       "    </tr>\n",
       "    <tr>\n",
       "      <td>18469</td>\n",
       "      <td>A1074435</td>\n",
       "      <td>CAT</td>\n",
       "      <td>DOMESTIC SH</td>\n",
       "      <td>PSCAT 07</td>\n",
       "      <td>UNAVAILABLE</td>\n",
       "      <td>NaN</td>\n",
       "      <td>NaN</td>\n",
       "      <td>OWNER SURRENDER</td>\n",
       "      <td>ALUMNI</td>\n",
       "      <td>2020-03-10</td>\n",
       "      <td>12:49:00</td>\n",
       "      <td>2020-03-10</td>\n",
       "      <td>APP WNL</td>\n",
       "      <td>ADOPTION</td>\n",
       "      <td>EAC</td>\n",
       "      <td>2020-03-12</td>\n",
       "      <td>13:53:00</td>\n",
       "      <td>APP WNL</td>\n",
       "      <td>MAR.2020</td>\n",
       "      <td>FY2020</td>\n",
       "    </tr>\n",
       "    <tr>\n",
       "      <td>18220</td>\n",
       "      <td>A1095691</td>\n",
       "      <td>DOG</td>\n",
       "      <td>PIT BULL</td>\n",
       "      <td>LOST</td>\n",
       "      <td>IMPOUNDED</td>\n",
       "      <td>NaN</td>\n",
       "      <td>NaN</td>\n",
       "      <td>STRAY</td>\n",
       "      <td>WEB</td>\n",
       "      <td>2020-02-10</td>\n",
       "      <td>18:25:00</td>\n",
       "      <td>2020-02-10</td>\n",
       "      <td>NORMAL</td>\n",
       "      <td>LOST EXP</td>\n",
       "      <td>OTHER</td>\n",
       "      <td>2020-03-12</td>\n",
       "      <td>00:00:00</td>\n",
       "      <td>NaN</td>\n",
       "      <td>FEB.2020</td>\n",
       "      <td>FY2020</td>\n",
       "    </tr>\n",
       "    <tr>\n",
       "      <td>20338</td>\n",
       "      <td>A1098736</td>\n",
       "      <td>DOG</td>\n",
       "      <td>GREAT DANE</td>\n",
       "      <td>FOUND</td>\n",
       "      <td>IMPOUNDED</td>\n",
       "      <td>NaN</td>\n",
       "      <td>NaN</td>\n",
       "      <td>STRAY</td>\n",
       "      <td>WEB</td>\n",
       "      <td>2020-03-15</td>\n",
       "      <td>23:25:00</td>\n",
       "      <td>2020-03-16</td>\n",
       "      <td>NORMAL</td>\n",
       "      <td>FOUND EXP</td>\n",
       "      <td>OTHER</td>\n",
       "      <td>2020-04-16</td>\n",
       "      <td>00:00:00</td>\n",
       "      <td>NaN</td>\n",
       "      <td>MAR.2020</td>\n",
       "      <td>FY2020</td>\n",
       "    </tr>\n",
       "  </tbody>\n",
       "</table>\n",
       "</div>"
      ],
      "text/plain": [
       "      Animal Id Animal Type Animal Breed Kennel Number Kennel Status  \\\n",
       "16105  A1096261         DOG     PIT BULL          LOST     IMPOUNDED   \n",
       "5175   A1086716         CAT  DOMESTIC LH         FOUND     IMPOUNDED   \n",
       "18469  A1074435         CAT  DOMESTIC SH      PSCAT 07   UNAVAILABLE   \n",
       "18220  A1095691         DOG     PIT BULL          LOST     IMPOUNDED   \n",
       "20338  A1098736         DOG   GREAT DANE         FOUND     IMPOUNDED   \n",
       "\n",
       "      Census Tract Council District      Intake Type Intake Subtype  \\\n",
       "16105          NaN              NaN            STRAY            WEB   \n",
       "5175           NaN              NaN            STRAY            WEB   \n",
       "18469          NaN              NaN  OWNER SURRENDER         ALUMNI   \n",
       "18220          NaN              NaN            STRAY            WEB   \n",
       "20338          NaN              NaN            STRAY            WEB   \n",
       "\n",
       "      Intake Date Intake Time    Due Out Intake Condition Outcome Type  \\\n",
       "16105  2020-02-15    18:25:00 2020-02-17           NORMAL     LOST EXP   \n",
       "5175   2019-10-26    16:25:00 2019-10-26           NORMAL    FOUND EXP   \n",
       "18469  2020-03-10    12:49:00 2020-03-10          APP WNL     ADOPTION   \n",
       "18220  2020-02-10    18:25:00 2020-02-10           NORMAL     LOST EXP   \n",
       "20338  2020-03-15    23:25:00 2020-03-16           NORMAL    FOUND EXP   \n",
       "\n",
       "      Outcome Subtype Outcome Date Outcome Time Outcome Condition     Month  \\\n",
       "16105           OTHER   2020-03-19     00:00:00               NaN  FEB.2020   \n",
       "5175            OTHER   2019-11-26     00:00:00               NaN  OCT.2019   \n",
       "18469             EAC   2020-03-12     13:53:00           APP WNL  MAR.2020   \n",
       "18220           OTHER   2020-03-12     00:00:00               NaN  FEB.2020   \n",
       "20338           OTHER   2020-04-16     00:00:00               NaN  MAR.2020   \n",
       "\n",
       "         Year  \n",
       "16105  FY2020  \n",
       "5175   FY2020  \n",
       "18469  FY2020  \n",
       "18220  FY2020  \n",
       "20338  FY2020  "
      ]
     },
     "execution_count": 13,
     "metadata": {},
     "output_type": "execute_result"
    }
   ],
   "source": [
    "df.loc[df['Census Tract'].isnull()].sample(5)"
   ]
  },
  {
   "cell_type": "code",
   "execution_count": 14,
   "metadata": {},
   "outputs": [
    {
     "data": {
      "text/html": [
       "<div>\n",
       "<style scoped>\n",
       "    .dataframe tbody tr th:only-of-type {\n",
       "        vertical-align: middle;\n",
       "    }\n",
       "\n",
       "    .dataframe tbody tr th {\n",
       "        vertical-align: top;\n",
       "    }\n",
       "\n",
       "    .dataframe thead th {\n",
       "        text-align: right;\n",
       "    }\n",
       "</style>\n",
       "<table border=\"1\" class=\"dataframe\">\n",
       "  <thead>\n",
       "    <tr style=\"text-align: right;\">\n",
       "      <th></th>\n",
       "      <th>Animal Id</th>\n",
       "      <th>Animal Type</th>\n",
       "      <th>Animal Breed</th>\n",
       "      <th>Kennel Number</th>\n",
       "      <th>Kennel Status</th>\n",
       "      <th>Census Tract</th>\n",
       "      <th>Council District</th>\n",
       "      <th>Intake Type</th>\n",
       "      <th>Intake Subtype</th>\n",
       "      <th>Intake Date</th>\n",
       "      <th>Intake Time</th>\n",
       "      <th>Due Out</th>\n",
       "      <th>Intake Condition</th>\n",
       "      <th>Outcome Type</th>\n",
       "      <th>Outcome Subtype</th>\n",
       "      <th>Outcome Date</th>\n",
       "      <th>Outcome Time</th>\n",
       "      <th>Outcome Condition</th>\n",
       "      <th>Month</th>\n",
       "      <th>Year</th>\n",
       "    </tr>\n",
       "  </thead>\n",
       "  <tbody>\n",
       "    <tr>\n",
       "      <td>21825</td>\n",
       "      <td>A1100539</td>\n",
       "      <td>DOG</td>\n",
       "      <td>PIT BULL</td>\n",
       "      <td>LOST</td>\n",
       "      <td>IMPOUNDED</td>\n",
       "      <td>NaN</td>\n",
       "      <td>NaN</td>\n",
       "      <td>STRAY</td>\n",
       "      <td>WEB</td>\n",
       "      <td>2020-04-25</td>\n",
       "      <td>17:25:00</td>\n",
       "      <td>2020-04-29</td>\n",
       "      <td>NORMAL</td>\n",
       "      <td>OTHER</td>\n",
       "      <td>OTHER</td>\n",
       "      <td>NaT</td>\n",
       "      <td>00:00:00</td>\n",
       "      <td>NaN</td>\n",
       "      <td>APR.2020</td>\n",
       "      <td>FY2020</td>\n",
       "    </tr>\n",
       "    <tr>\n",
       "      <td>5552</td>\n",
       "      <td>A1087068</td>\n",
       "      <td>DOG</td>\n",
       "      <td>YORKSHIRE TERR</td>\n",
       "      <td>LOST</td>\n",
       "      <td>IMPOUNDED</td>\n",
       "      <td>NaN</td>\n",
       "      <td>NaN</td>\n",
       "      <td>STRAY</td>\n",
       "      <td>WEB</td>\n",
       "      <td>2019-10-14</td>\n",
       "      <td>14:25:00</td>\n",
       "      <td>2019-10-30</td>\n",
       "      <td>NORMAL</td>\n",
       "      <td>LOST EXP</td>\n",
       "      <td>OTHER</td>\n",
       "      <td>2019-11-30</td>\n",
       "      <td>00:00:00</td>\n",
       "      <td>NaN</td>\n",
       "      <td>OCT.2019</td>\n",
       "      <td>FY2020</td>\n",
       "    </tr>\n",
       "    <tr>\n",
       "      <td>15832</td>\n",
       "      <td>A1097592</td>\n",
       "      <td>DOG</td>\n",
       "      <td>DACHSHUND</td>\n",
       "      <td>LFSD 11</td>\n",
       "      <td>UNAVAILABLE</td>\n",
       "      <td>NaN</td>\n",
       "      <td>NaN</td>\n",
       "      <td>OWNER SURRENDER</td>\n",
       "      <td>GENERAL</td>\n",
       "      <td>2020-03-04</td>\n",
       "      <td>15:40:00</td>\n",
       "      <td>2020-03-05</td>\n",
       "      <td>APP WNL</td>\n",
       "      <td>TRANSFER</td>\n",
       "      <td>GENERAL</td>\n",
       "      <td>2020-03-05</td>\n",
       "      <td>14:40:00</td>\n",
       "      <td>APP WNL</td>\n",
       "      <td>MAR.2020</td>\n",
       "      <td>FY2020</td>\n",
       "    </tr>\n",
       "    <tr>\n",
       "      <td>16440</td>\n",
       "      <td>A1095351</td>\n",
       "      <td>CAT</td>\n",
       "      <td>DOMESTIC SH</td>\n",
       "      <td>CC 27</td>\n",
       "      <td>AVAILABLE</td>\n",
       "      <td>NaN</td>\n",
       "      <td>NaN</td>\n",
       "      <td>OWNER SURRENDER</td>\n",
       "      <td>GENERAL</td>\n",
       "      <td>2020-02-06</td>\n",
       "      <td>11:47:00</td>\n",
       "      <td>2020-02-06</td>\n",
       "      <td>APP WNL</td>\n",
       "      <td>FOSTER</td>\n",
       "      <td>GENERAL</td>\n",
       "      <td>2020-02-07</td>\n",
       "      <td>16:16:00</td>\n",
       "      <td>UNKNOWN</td>\n",
       "      <td>FEB.2020</td>\n",
       "      <td>FY2020</td>\n",
       "    </tr>\n",
       "    <tr>\n",
       "      <td>16519</td>\n",
       "      <td>A1096254</td>\n",
       "      <td>CAT</td>\n",
       "      <td>AMER SH</td>\n",
       "      <td>LOST</td>\n",
       "      <td>IMPOUNDED</td>\n",
       "      <td>NaN</td>\n",
       "      <td>NaN</td>\n",
       "      <td>STRAY</td>\n",
       "      <td>WEB</td>\n",
       "      <td>2020-02-17</td>\n",
       "      <td>17:25:00</td>\n",
       "      <td>2020-02-17</td>\n",
       "      <td>NORMAL</td>\n",
       "      <td>LOST EXP</td>\n",
       "      <td>OTHER</td>\n",
       "      <td>2020-03-19</td>\n",
       "      <td>00:00:00</td>\n",
       "      <td>NaN</td>\n",
       "      <td>FEB.2020</td>\n",
       "      <td>FY2020</td>\n",
       "    </tr>\n",
       "  </tbody>\n",
       "</table>\n",
       "</div>"
      ],
      "text/plain": [
       "      Animal Id Animal Type    Animal Breed Kennel Number Kennel Status  \\\n",
       "21825  A1100539         DOG        PIT BULL          LOST     IMPOUNDED   \n",
       "5552   A1087068         DOG  YORKSHIRE TERR          LOST     IMPOUNDED   \n",
       "15832  A1097592         DOG       DACHSHUND       LFSD 11   UNAVAILABLE   \n",
       "16440  A1095351         CAT     DOMESTIC SH         CC 27     AVAILABLE   \n",
       "16519  A1096254         CAT         AMER SH          LOST     IMPOUNDED   \n",
       "\n",
       "      Census Tract Council District      Intake Type Intake Subtype  \\\n",
       "21825          NaN              NaN            STRAY            WEB   \n",
       "5552           NaN              NaN            STRAY            WEB   \n",
       "15832          NaN              NaN  OWNER SURRENDER        GENERAL   \n",
       "16440          NaN              NaN  OWNER SURRENDER        GENERAL   \n",
       "16519          NaN              NaN            STRAY            WEB   \n",
       "\n",
       "      Intake Date Intake Time    Due Out Intake Condition Outcome Type  \\\n",
       "21825  2020-04-25    17:25:00 2020-04-29           NORMAL        OTHER   \n",
       "5552   2019-10-14    14:25:00 2019-10-30           NORMAL     LOST EXP   \n",
       "15832  2020-03-04    15:40:00 2020-03-05          APP WNL     TRANSFER   \n",
       "16440  2020-02-06    11:47:00 2020-02-06          APP WNL       FOSTER   \n",
       "16519  2020-02-17    17:25:00 2020-02-17           NORMAL     LOST EXP   \n",
       "\n",
       "      Outcome Subtype Outcome Date Outcome Time Outcome Condition     Month  \\\n",
       "21825           OTHER          NaT     00:00:00               NaN  APR.2020   \n",
       "5552            OTHER   2019-11-30     00:00:00               NaN  OCT.2019   \n",
       "15832         GENERAL   2020-03-05     14:40:00           APP WNL  MAR.2020   \n",
       "16440         GENERAL   2020-02-07     16:16:00           UNKNOWN  FEB.2020   \n",
       "16519           OTHER   2020-03-19     00:00:00               NaN  FEB.2020   \n",
       "\n",
       "         Year  \n",
       "21825  FY2020  \n",
       "5552   FY2020  \n",
       "15832  FY2020  \n",
       "16440  FY2020  \n",
       "16519  FY2020  "
      ]
     },
     "execution_count": 14,
     "metadata": {},
     "output_type": "execute_result"
    }
   ],
   "source": [
    "df.loc[df['Council District'].isnull()].sample(5)"
   ]
  },
  {
   "cell_type": "code",
   "execution_count": 15,
   "metadata": {},
   "outputs": [
    {
     "data": {
      "text/plain": [
       "True"
      ]
     },
     "execution_count": 15,
     "metadata": {},
     "output_type": "execute_result"
    }
   ],
   "source": [
    "# Check if the missing values for 'Council District' and 'Census Tract' occur within the same records\n",
    "temp_df1 = df.loc[df['Council District'].isnull()]\n",
    "temp_df2 = df.loc[df['Census Tract'].isnull()]\n",
    "\n",
    "temp_df1.equals(temp_df2) # yes"
   ]
  },
  {
   "cell_type": "markdown",
   "metadata": {},
   "source": [
    "## Univariate Analysis - \"The Big Picture\""
   ]
  },
  {
   "cell_type": "markdown",
   "metadata": {},
   "source": [
    "### Types of Animals"
   ]
  },
  {
   "cell_type": "code",
   "execution_count": 92,
   "metadata": {},
   "outputs": [
    {
     "name": "stdout",
     "output_type": "stream",
     "text": [
      "Types of Animals:  ['DOG', 'CAT', 'BIRD', 'WILDLIFE', 'LIVESTOCK'] \n",
      "\n",
      "DOG          16617\n",
      "CAT           5143\n",
      "WILDLIFE       671\n",
      "BIRD           111\n",
      "LIVESTOCK       15\n",
      "Name: Animal Type, dtype: int64\n"
     ]
    },
    {
     "data": {
      "text/plain": [
       "<matplotlib.axes._subplots.AxesSubplot at 0x12c25b6a0>"
      ]
     },
     "execution_count": 92,
     "metadata": {},
     "output_type": "execute_result"
    },
    {
     "data": {
      "image/png": "[encoded data removed]",
      "text/plain": [
       "<Figure size 864x576 with 1 Axes>"
      ]
     },
     "metadata": {
      "needs_background": "light"
     },
     "output_type": "display_data"
    }
   ],
   "source": [
    "# Explore the Animal Type field\n",
    "\n",
    "# List unique categories\n",
    "print('Types of Animals: ', list(df['Animal Type'].unique()), '\\n')\n",
    "\n",
    "# Frequency counts\n",
    "print(df['Animal Type'].value_counts())\n",
    "\n",
    "# simple bar chart\n",
    "df['Animal Type'].value_counts().plot.bar()\n",
    "\n",
    "# df['Animal Type'].value_counts().iplot(\n",
    "#     kind='bar', xTitle='Count', linecolor='black', orientation='v', color='blue', title='Distribution of Animal Types')"
   ]
  },
  {
   "cell_type": "code",
   "execution_count": 146,
   "metadata": {},
   "outputs": [
    {
     "data": {
      "text/plain": [
       "<matplotlib.axes._subplots.AxesSubplot at 0x13030f400>"
      ]
     },
     "execution_count": 146,
     "metadata": {},
     "output_type": "execute_result"
    },
    {
     "data": {
      "image/png": "[encoded data removed]",
      "text/plain": [
       "<Figure size 864x576 with 1 Axes>"
      ]
     },
     "metadata": {
      "needs_background": "light"
     },
     "output_type": "display_data"
    }
   ],
   "source": [
    "df['Animal Type'].value_counts(normalize=True).plot.bar()"
   ]
  },
  {
   "cell_type": "markdown",
   "metadata": {},
   "source": [
    "~75% of animals taken to shelters are dogs, followed by cats (~23%)."
   ]
  },
  {
   "cell_type": "markdown",
   "metadata": {},
   "source": [
    "### Location of Events"
   ]
  },
  {
   "cell_type": "code",
   "execution_count": 18,
   "metadata": {},
   "outputs": [
    {
     "name": "stdout",
     "output_type": "stream",
     "text": [
      "Total Census Tracts:  312\n",
      "Total Council Districts:  17\n"
     ]
    }
   ],
   "source": [
    "print('Total Census Tracts: ',len(df['Census Tract'].unique()))\n",
    "print('Total Council Districts: ',len(df['Council District'].unique()))"
   ]
  },
  {
   "cell_type": "markdown",
   "metadata": {},
   "source": [
    "#### Census Tracts"
   ]
  },
  {
   "cell_type": "code",
   "execution_count": 95,
   "metadata": {},
   "outputs": [
    {
     "name": "stdout",
     "output_type": "stream",
     "text": [
      "Top Census Tracts with Events Occuring: \n",
      "\n",
      "20500    3684\n",
      "11900     241\n",
      "11602     237\n",
      "17102     236\n",
      "8802      220\n",
      "11701     218\n",
      "11800     218\n",
      "10601     215\n",
      "9201      208\n",
      "17004     203\n",
      "Name: Census Tract, dtype: int64\n"
     ]
    },
    {
     "data": {
      "text/plain": [
       "<matplotlib.axes._subplots.AxesSubplot at 0x12c6749b0>"
      ]
     },
     "execution_count": 95,
     "metadata": {},
     "output_type": "execute_result"
    },
    {
     "data": {
      "image/png": "[encoded data removed]",
      "text/plain": [
       "<Figure size 864x576 with 1 Axes>"
      ]
     },
     "metadata": {
      "needs_background": "light"
     },
     "output_type": "display_data"
    }
   ],
   "source": [
    "# Explore frequency of animal rescues by census tracts\n",
    "print('Top Census Tracts with Events Occuring:', '\\n')\n",
    "print(df['Census Tract'].value_counts().sort_values(ascending=False).head(10))\n",
    "\n",
    "tract_freq = df['Census Tract'].value_counts()\n",
    "tract_freq.loc[tract_freq<250].plot(kind='hist')\n",
    "# df['Animal Type'].value_counts().plot.bar()"
   ]
  },
  {
   "cell_type": "code",
   "execution_count": 96,
   "metadata": {},
   "outputs": [
    {
     "data": {
      "text/plain": [
       "<matplotlib.axes._subplots.AxesSubplot at 0x12a5ff5f8>"
      ]
     },
     "execution_count": 96,
     "metadata": {},
     "output_type": "execute_result"
    },
    {
     "data": {
      "image/png": "[encoded data removed]",
      "text/plain": [
       "<Figure size 864x576 with 1 Axes>"
      ]
     },
     "metadata": {
      "needs_background": "light"
     },
     "output_type": "display_data"
    }
   ],
   "source": [
    "# Alternatively\n",
    "tract_freq.loc[tract_freq<250].to_frame().boxplot()"
   ]
  },
  {
   "cell_type": "markdown",
   "metadata": {},
   "source": [
    "What stands out here is that 75% of census tracts have fewer than 75 cases, while census tract 20500 is a clear outlier with 3684 cases."
   ]
  },
  {
   "cell_type": "markdown",
   "metadata": {},
   "source": [
    "#### Council Districts"
   ]
  },
  {
   "cell_type": "code",
   "execution_count": 21,
   "metadata": {},
   "outputs": [
    {
     "data": {
      "text/plain": [
       "6     5158\n",
       "4     2404\n",
       "8     2238\n",
       "5     2069\n",
       "7     1609\n",
       "1     1436\n",
       "3     1413\n",
       "2      869\n",
       "9      751\n",
       "10     456\n",
       "14     392\n",
       "13     392\n",
       "11     347\n",
       "12     250\n",
       "Name: Council District, dtype: int64"
      ]
     },
     "execution_count": 21,
     "metadata": {},
     "output_type": "execute_result"
    }
   ],
   "source": [
    "district_freq = df['Council District'].value_counts().drop(labels=['AS',0])\n",
    "district_freq"
   ]
  },
  {
   "cell_type": "markdown",
   "metadata": {},
   "source": [
    "#### Frequency of Events by Council District"
   ]
  },
  {
   "cell_type": "code",
   "execution_count": 97,
   "metadata": {},
   "outputs": [
    {
     "data": {
      "text/plain": [
       "<matplotlib.axes._subplots.AxesSubplot at 0x12ca0a198>"
      ]
     },
     "execution_count": 97,
     "metadata": {},
     "output_type": "execute_result"
    },
    {
     "data": {
      "image/png": "[encoded data removed]",
      "text/plain": [
       "<Figure size 864x576 with 1 Axes>"
      ]
     },
     "metadata": {
      "needs_background": "light"
     },
     "output_type": "display_data"
    }
   ],
   "source": [
    "sns.barplot(x=district_freq.index, y = district_freq, order=district_freq.index)"
   ]
  },
  {
   "cell_type": "code",
   "execution_count": 98,
   "metadata": {},
   "outputs": [
    {
     "data": {
      "text/plain": [
       "<matplotlib.axes._subplots.AxesSubplot at 0x12ca0ac18>"
      ]
     },
     "execution_count": 98,
     "metadata": {},
     "output_type": "execute_result"
    },
    {
     "data": {
      "image/png": "[encoded data removed]",
      "text/plain": [
       "<Figure size 864x576 with 1 Axes>"
      ]
     },
     "metadata": {
      "needs_background": "light"
     },
     "output_type": "display_data"
    }
   ],
   "source": [
    "trace = df['Council District'].value_counts(normalize=True).drop(labels=['AS',0])\n",
    "\n",
    "sns.barplot(x=district_freq.index, y = trace, order=district_freq.index)"
   ]
  },
  {
   "cell_type": "markdown",
   "metadata": {},
   "source": [
    "District 6 has the highest frequency of animal shelter intakes (~26%)."
   ]
  },
  {
   "cell_type": "markdown",
   "metadata": {},
   "source": [
    "### Intake Type"
   ]
  },
  {
   "cell_type": "code",
   "execution_count": 24,
   "metadata": {},
   "outputs": [
    {
     "name": "stdout",
     "output_type": "stream",
     "text": [
      "Total Intake Types:  9\n"
     ]
    },
    {
     "data": {
      "text/plain": [
       "STRAY              13010\n",
       "OWNER SURRENDER     4500\n",
       "FOSTER              2414\n",
       "CONFISCATED          865\n",
       "TREATMENT            843\n",
       "WILDLIFE             532\n",
       "TRANSFER             350\n",
       "KEEPSAFE              33\n",
       "DISPOS REQ            10\n",
       "Name: Intake Type, dtype: int64"
      ]
     },
     "execution_count": 24,
     "metadata": {},
     "output_type": "execute_result"
    }
   ],
   "source": [
    "print('Total Intake Types: ', len(df['Intake Type'].unique()))\n",
    "intake_freq = df['Intake Type'].value_counts()\n",
    "intake_freq"
   ]
  },
  {
   "cell_type": "code",
   "execution_count": 99,
   "metadata": {},
   "outputs": [
    {
     "data": {
      "text/plain": [
       "<matplotlib.axes._subplots.AxesSubplot at 0x12ce1d8d0>"
      ]
     },
     "execution_count": 99,
     "metadata": {},
     "output_type": "execute_result"
    },
    {
     "data": {
      "image/png": "[encoded data removed]",
      "text/plain": [
       "<Figure size 864x576 with 1 Axes>"
      ]
     },
     "metadata": {
      "needs_background": "light"
     },
     "output_type": "display_data"
    }
   ],
   "source": [
    "df['Intake Type'].value_counts().plot.bar()"
   ]
  },
  {
   "cell_type": "code",
   "execution_count": 100,
   "metadata": {
    "scrolled": false
   },
   "outputs": [
    {
     "data": {
      "text/plain": [
       "<matplotlib.axes._subplots.AxesSubplot at 0x12cfef080>"
      ]
     },
     "execution_count": 100,
     "metadata": {},
     "output_type": "execute_result"
    },
    {
     "data": {
      "image/png": "[encoded data removed]",
      "text/plain": [
       "<Figure size 864x576 with 1 Axes>"
      ]
     },
     "metadata": {
      "needs_background": "light"
     },
     "output_type": "display_data"
    }
   ],
   "source": [
    "df['Intake Type'].value_counts(normalize=True).plot.bar()"
   ]
  },
  {
   "cell_type": "markdown",
   "metadata": {},
   "source": [
    "We can see that the majority of shelter animals are strays (~57%). With ~80% being strays or surrendered animals."
   ]
  },
  {
   "cell_type": "markdown",
   "metadata": {},
   "source": [
    "### Intake Date"
   ]
  },
  {
   "cell_type": "markdown",
   "metadata": {},
   "source": [
    "When are these events occurring during the year?\n",
    "Aggregate by day/week/month/year. Explore popular days of the week."
   ]
  },
  {
   "cell_type": "code",
   "execution_count": 32,
   "metadata": {},
   "outputs": [
    {
     "data": {
      "text/html": [
       "<div>\n",
       "<style scoped>\n",
       "    .dataframe tbody tr th:only-of-type {\n",
       "        vertical-align: middle;\n",
       "    }\n",
       "\n",
       "    .dataframe tbody tr th {\n",
       "        vertical-align: top;\n",
       "    }\n",
       "\n",
       "    .dataframe thead th {\n",
       "        text-align: right;\n",
       "    }\n",
       "</style>\n",
       "<table border=\"1\" class=\"dataframe\">\n",
       "  <thead>\n",
       "    <tr style=\"text-align: right;\">\n",
       "      <th></th>\n",
       "      <th>Animal Id</th>\n",
       "      <th>Animal Type</th>\n",
       "      <th>Animal Breed</th>\n",
       "      <th>Kennel Number</th>\n",
       "      <th>Kennel Status</th>\n",
       "      <th>Census Tract</th>\n",
       "      <th>Council District</th>\n",
       "      <th>Intake Type</th>\n",
       "      <th>Intake Subtype</th>\n",
       "      <th>Intake Date</th>\n",
       "      <th>Intake Time</th>\n",
       "      <th>Due Out</th>\n",
       "      <th>Intake Condition</th>\n",
       "      <th>Outcome Type</th>\n",
       "      <th>Outcome Subtype</th>\n",
       "      <th>Outcome Date</th>\n",
       "      <th>Outcome Time</th>\n",
       "      <th>Outcome Condition</th>\n",
       "      <th>Month</th>\n",
       "      <th>Year</th>\n",
       "    </tr>\n",
       "  </thead>\n",
       "  <tbody>\n",
       "    <tr>\n",
       "      <td>0</td>\n",
       "      <td>A0144701</td>\n",
       "      <td>DOG</td>\n",
       "      <td>HAVANESE</td>\n",
       "      <td>VT 12</td>\n",
       "      <td>IMPOUNDED</td>\n",
       "      <td>6301</td>\n",
       "      <td>4</td>\n",
       "      <td>OWNER SURRENDER</td>\n",
       "      <td>GENERAL</td>\n",
       "      <td>2019-11-08</td>\n",
       "      <td>15:48:00</td>\n",
       "      <td>2019-11-14</td>\n",
       "      <td>APP SICK</td>\n",
       "      <td>RETURNED TO OWNER</td>\n",
       "      <td>WALK IN</td>\n",
       "      <td>2019-11-09</td>\n",
       "      <td>11:31:00</td>\n",
       "      <td>APP SICK</td>\n",
       "      <td>NOV.2019</td>\n",
       "      <td>FY2020</td>\n",
       "    </tr>\n",
       "    <tr>\n",
       "      <td>1</td>\n",
       "      <td>A0442587</td>\n",
       "      <td>DOG</td>\n",
       "      <td>TERRIER MIX</td>\n",
       "      <td>FREEZER</td>\n",
       "      <td>IMPOUNDED</td>\n",
       "      <td>7102</td>\n",
       "      <td>2</td>\n",
       "      <td>OWNER SURRENDER</td>\n",
       "      <td>DEAD ON ARRIVAL</td>\n",
       "      <td>2019-11-10</td>\n",
       "      <td>14:18:00</td>\n",
       "      <td>2019-11-10</td>\n",
       "      <td>DEAD</td>\n",
       "      <td>DEAD ON ARRIVAL</td>\n",
       "      <td>DISPOSAL</td>\n",
       "      <td>2019-11-10</td>\n",
       "      <td>00:00:00</td>\n",
       "      <td>DEAD</td>\n",
       "      <td>NOV.2019</td>\n",
       "      <td>FY2020</td>\n",
       "    </tr>\n",
       "    <tr>\n",
       "      <td>2</td>\n",
       "      <td>A0458972</td>\n",
       "      <td>DOG</td>\n",
       "      <td>CATAHOULA</td>\n",
       "      <td>RECEIVING</td>\n",
       "      <td>UNAVAILABLE</td>\n",
       "      <td>4600</td>\n",
       "      <td>1</td>\n",
       "      <td>STRAY</td>\n",
       "      <td>AT LARGE</td>\n",
       "      <td>2019-10-03</td>\n",
       "      <td>11:08:00</td>\n",
       "      <td>2019-10-03</td>\n",
       "      <td>TREATABLE REHABILITABLE NON-CONTAGIOUS</td>\n",
       "      <td>RETURNED TO OWNER</td>\n",
       "      <td>FIELD</td>\n",
       "      <td>2019-10-03</td>\n",
       "      <td>13:36:00</td>\n",
       "      <td>TREATABLE REHABILITABLE NON-CONTAGIOUS</td>\n",
       "      <td>OCT.2019</td>\n",
       "      <td>FY2020</td>\n",
       "    </tr>\n",
       "    <tr>\n",
       "      <td>3</td>\n",
       "      <td>A0525642</td>\n",
       "      <td>DOG</td>\n",
       "      <td>GERM SHEPHERD</td>\n",
       "      <td>INJD 001</td>\n",
       "      <td>IMPOUNDED</td>\n",
       "      <td>16605</td>\n",
       "      <td>8</td>\n",
       "      <td>OWNER SURRENDER</td>\n",
       "      <td>GENERAL</td>\n",
       "      <td>2019-10-11</td>\n",
       "      <td>09:55:00</td>\n",
       "      <td>2019-10-17</td>\n",
       "      <td>TREATABLE REHABILITABLE NON-CONTAGIOUS</td>\n",
       "      <td>TRANSFER</td>\n",
       "      <td>MEDICAL-CONTAGIOUS</td>\n",
       "      <td>2019-10-15</td>\n",
       "      <td>17:35:00</td>\n",
       "      <td>TREATABLE REHABILITABLE NON-CONTAGIOUS</td>\n",
       "      <td>OCT.2019</td>\n",
       "      <td>FY2020</td>\n",
       "    </tr>\n",
       "    <tr>\n",
       "      <td>4</td>\n",
       "      <td>A0565586</td>\n",
       "      <td>DOG</td>\n",
       "      <td>SILKY TERRIER</td>\n",
       "      <td>LFD 119</td>\n",
       "      <td>UNAVAILABLE</td>\n",
       "      <td>6900</td>\n",
       "      <td>1</td>\n",
       "      <td>STRAY</td>\n",
       "      <td>AT LARGE</td>\n",
       "      <td>2019-11-08</td>\n",
       "      <td>11:55:00</td>\n",
       "      <td>2019-11-14</td>\n",
       "      <td>APP WNL</td>\n",
       "      <td>RETURNED TO OWNER</td>\n",
       "      <td>WALK IN</td>\n",
       "      <td>2019-11-09</td>\n",
       "      <td>12:57:00</td>\n",
       "      <td>APP WNL</td>\n",
       "      <td>NOV.2019</td>\n",
       "      <td>FY2020</td>\n",
       "    </tr>\n",
       "  </tbody>\n",
       "</table>\n",
       "</div>"
      ],
      "text/plain": [
       "  Animal Id Animal Type   Animal Breed Kennel Number Kennel Status  \\\n",
       "0  A0144701         DOG       HAVANESE         VT 12     IMPOUNDED   \n",
       "1  A0442587         DOG    TERRIER MIX       FREEZER     IMPOUNDED   \n",
       "2  A0458972         DOG      CATAHOULA     RECEIVING   UNAVAILABLE   \n",
       "3  A0525642         DOG  GERM SHEPHERD      INJD 001     IMPOUNDED   \n",
       "4  A0565586         DOG  SILKY TERRIER       LFD 119   UNAVAILABLE   \n",
       "\n",
       "  Census Tract Council District      Intake Type   Intake Subtype Intake Date  \\\n",
       "0         6301                4  OWNER SURRENDER          GENERAL  2019-11-08   \n",
       "1         7102                2  OWNER SURRENDER  DEAD ON ARRIVAL  2019-11-10   \n",
       "2         4600                1            STRAY         AT LARGE  2019-10-03   \n",
       "3        16605                8  OWNER SURRENDER          GENERAL  2019-10-11   \n",
       "4         6900                1            STRAY         AT LARGE  2019-11-08   \n",
       "\n",
       "  Intake Time    Due Out                        Intake Condition  \\\n",
       "0    15:48:00 2019-11-14                                APP SICK   \n",
       "1    14:18:00 2019-11-10                                    DEAD   \n",
       "2    11:08:00 2019-10-03  TREATABLE REHABILITABLE NON-CONTAGIOUS   \n",
       "3    09:55:00 2019-10-17  TREATABLE REHABILITABLE NON-CONTAGIOUS   \n",
       "4    11:55:00 2019-11-14                                 APP WNL   \n",
       "\n",
       "        Outcome Type     Outcome Subtype Outcome Date Outcome Time  \\\n",
       "0  RETURNED TO OWNER             WALK IN   2019-11-09     11:31:00   \n",
       "1    DEAD ON ARRIVAL            DISPOSAL   2019-11-10     00:00:00   \n",
       "2  RETURNED TO OWNER               FIELD   2019-10-03     13:36:00   \n",
       "3           TRANSFER  MEDICAL-CONTAGIOUS   2019-10-15     17:35:00   \n",
       "4  RETURNED TO OWNER             WALK IN   2019-11-09     12:57:00   \n",
       "\n",
       "                        Outcome Condition     Month    Year  \n",
       "0                                APP SICK  NOV.2019  FY2020  \n",
       "1                                    DEAD  NOV.2019  FY2020  \n",
       "2  TREATABLE REHABILITABLE NON-CONTAGIOUS  OCT.2019  FY2020  \n",
       "3  TREATABLE REHABILITABLE NON-CONTAGIOUS  OCT.2019  FY2020  \n",
       "4                                 APP WNL  NOV.2019  FY2020  "
      ]
     },
     "execution_count": 32,
     "metadata": {},
     "output_type": "execute_result"
    }
   ],
   "source": [
    "df.head()"
   ]
  },
  {
   "cell_type": "code",
   "execution_count": 39,
   "metadata": {},
   "outputs": [
    {
     "data": {
      "text/plain": [
       "Intake Date\n",
       "2019-10-01    135\n",
       "2019-10-02    119\n",
       "2019-10-03    135\n",
       "2019-10-04    156\n",
       "2019-10-05    149\n",
       "Name: Animal Id, dtype: int64"
      ]
     },
     "execution_count": 39,
     "metadata": {},
     "output_type": "execute_result"
    }
   ],
   "source": [
    "df.groupby('Intake Date').count().head().iloc[:,0]"
   ]
  },
  {
   "cell_type": "markdown",
   "metadata": {},
   "source": [
    "#### Daily Frequency"
   ]
  },
  {
   "cell_type": "code",
   "execution_count": 101,
   "metadata": {},
   "outputs": [
    {
     "data": {
      "text/plain": [
       "<matplotlib.axes._subplots.AxesSubplot at 0x12d1ffd68>"
      ]
     },
     "execution_count": 101,
     "metadata": {},
     "output_type": "execute_result"
    },
    {
     "data": {
      "image/png": "[encoded data removed]",
      "text/plain": [
       "<Figure size 864x576 with 1 Axes>"
      ]
     },
     "metadata": {
      "needs_background": "light"
     },
     "output_type": "display_data"
    }
   ],
   "source": [
    "df.groupby('Intake Date').count().iloc[:,0].plot()"
   ]
  },
  {
   "cell_type": "markdown",
   "metadata": {},
   "source": [
    "#### Monthly Frequency"
   ]
  },
  {
   "cell_type": "code",
   "execution_count": 54,
   "metadata": {},
   "outputs": [],
   "source": [
    "# Truncate yyyy-mm-dd to yyyy-mm\n",
    "df['Intake Date Month']=df['Intake Date'].dt.to_period('m').dt.to_timestamp()"
   ]
  },
  {
   "cell_type": "code",
   "execution_count": 102,
   "metadata": {},
   "outputs": [
    {
     "data": {
      "text/plain": [
       "<matplotlib.axes._subplots.AxesSubplot at 0x12d4465f8>"
      ]
     },
     "execution_count": 102,
     "metadata": {},
     "output_type": "execute_result"
    },
    {
     "data": {
      "image/png": "[encoded data removed]",
      "text/plain": [
       "<Figure size 864x576 with 1 Axes>"
      ]
     },
     "metadata": {
      "needs_background": "light"
     },
     "output_type": "display_data"
    }
   ],
   "source": [
    "df.groupby('Intake Date Month').count().iloc[:,0].plot()"
   ]
  },
  {
   "cell_type": "markdown",
   "metadata": {},
   "source": [
    "There is a steady decline in cases over the fiscal year. Possibly due to COVID!"
   ]
  },
  {
   "cell_type": "markdown",
   "metadata": {},
   "source": [
    "#### Frequency by Day of the Week"
   ]
  },
  {
   "cell_type": "code",
   "execution_count": 84,
   "metadata": {},
   "outputs": [
    {
     "data": {
      "text/plain": [
       "<matplotlib.axes._subplots.AxesSubplot at 0x1266e0518>"
      ]
     },
     "execution_count": 84,
     "metadata": {},
     "output_type": "execute_result"
    },
    {
     "data": {
      "image/png": "[encoded data removed]",
      "text/plain": [
       "<Figure size 864x576 with 1 Axes>"
      ]
     },
     "metadata": {
      "needs_background": "light"
     },
     "output_type": "display_data"
    }
   ],
   "source": [
    "# Create a new 'day of the week' column\n",
    "df['Day of the Week'] = df['Intake Date'].dt.day_name()\n",
    "\n",
    "trace2 = df['Day of the Week'].value_counts().reindex(\n",
    "    index = ['Monday','Tuesday','Wednesday','Thursday','Friday','Saturday','Sunday'])\n",
    "fig=plt.figure(figsize=(12,8))\n",
    "trace2.plot.bar()"
   ]
  },
  {
   "cell_type": "markdown",
   "metadata": {},
   "source": [
    "No clear indication of day of the week differences. Can perform hypothesis testing to validate further."
   ]
  },
  {
   "cell_type": "markdown",
   "metadata": {},
   "source": [
    "### Time Spent at Shelter"
   ]
  },
  {
   "cell_type": "markdown",
   "metadata": {},
   "source": [
    "How long do these animals stay at the shelter?"
   ]
  },
  {
   "cell_type": "code",
   "execution_count": 121,
   "metadata": {},
   "outputs": [],
   "source": [
    "# Create new 'time at shelter' column\n",
    "df['Time at Shelter'] = (df['Outcome Date']-df['Intake Date']).astype('timedelta64[D]')"
   ]
  },
  {
   "cell_type": "markdown",
   "metadata": {},
   "source": [
    "Descriptive Statistics:"
   ]
  },
  {
   "cell_type": "code",
   "execution_count": 143,
   "metadata": {},
   "outputs": [
    {
     "data": {
      "text/plain": [
       "count    22190.000000\n",
       "mean         5.543758\n",
       "std          9.850340\n",
       "min          0.000000\n",
       "25%          0.000000\n",
       "50%          2.000000\n",
       "75%          6.000000\n",
       "max        140.000000\n",
       "Name: Time at Shelter, dtype: float64"
      ]
     },
     "execution_count": 143,
     "metadata": {},
     "output_type": "execute_result"
    }
   ],
   "source": [
    "df['Time at Shelter'].dropna().describe()"
   ]
  },
  {
   "cell_type": "code",
   "execution_count": 122,
   "metadata": {},
   "outputs": [
    {
     "data": {
      "text/plain": [
       "<matplotlib.axes._subplots.AxesSubplot at 0x12dd86ba8>"
      ]
     },
     "execution_count": 122,
     "metadata": {},
     "output_type": "execute_result"
    },
    {
     "data": {
      "image/png": "[encoded data removed]",
      "text/plain": [
       "<Figure size 864x576 with 1 Axes>"
      ]
     },
     "metadata": {
      "needs_background": "light"
     },
     "output_type": "display_data"
    }
   ],
   "source": [
    "sns.distplot(df['Time at Shelter'].dropna())"
   ]
  },
  {
   "cell_type": "markdown",
   "metadata": {},
   "source": [
    "Slight bimodal distribution with a separate peak at around ~30 days."
   ]
  },
  {
   "cell_type": "markdown",
   "metadata": {},
   "source": [
    "#### Segmenting by Intake Type"
   ]
  },
  {
   "cell_type": "code",
   "execution_count": 140,
   "metadata": {},
   "outputs": [
    {
     "data": {
      "text/plain": [
       "<matplotlib.legend.Legend at 0x12f0e7518>"
      ]
     },
     "execution_count": 140,
     "metadata": {},
     "output_type": "execute_result"
    },
    {
     "data": {
      "image/png": "[encoded data removed]",
      "text/plain": [
       "<Figure size 864x576 with 1 Axes>"
      ]
     },
     "metadata": {
      "needs_background": "light"
     },
     "output_type": "display_data"
    }
   ],
   "source": [
    "sns.distplot(df.loc[df['Intake Type']=='STRAY']['Time at Shelter'].dropna() , color=\"skyblue\", label=\"Strays\")\n",
    "plt.legend()"
   ]
  },
  {
   "cell_type": "code",
   "execution_count": 145,
   "metadata": {},
   "outputs": [
    {
     "data": {
      "text/plain": [
       "<matplotlib.legend.Legend at 0x12f0e7e48>"
      ]
     },
     "execution_count": 145,
     "metadata": {},
     "output_type": "execute_result"
    },
    {
     "data": {
      "image/png": "[encoded data removed]",
      "text/plain": [
       "<Figure size 864x576 with 1 Axes>"
      ]
     },
     "metadata": {
      "needs_background": "light"
     },
     "output_type": "display_data"
    }
   ],
   "source": [
    "sns.distplot(df.loc[df['Intake Type']!='STRAY']['Time at Shelter'].dropna() , color=\"red\", label=\"Non-Strays\")\n",
    "plt.legend()"
   ]
  },
  {
   "cell_type": "markdown",
   "metadata": {},
   "source": [
    "Stray animals account for much of the bimodal distribution. The distribution is also less skewed to the right, with stray animals staying at the shelter for longer than other animals."
   ]
  },
  {
   "cell_type": "markdown",
   "metadata": {},
   "source": [
    "### Intake Condition"
   ]
  },
  {
   "cell_type": "code",
   "execution_count": 150,
   "metadata": {},
   "outputs": [
    {
     "data": {
      "text/plain": [
       "array(['APP SICK', 'DEAD', 'TREATABLE REHABILITABLE NON-CONTAGIOUS',\n",
       "       'APP WNL', 'UNHEALTHY UNTREATABLE NON-CONTAGIOUS', 'CRITICAL',\n",
       "       'APP INJ', 'UNKNOWN', 'UNHEALTHY UNTREATABLE CONTAGIOUS',\n",
       "       'TREATABLE MANAGEABLE NON-CONTAGIOUS', 'NORMAL',\n",
       "       'TREATABLE MANAGEABLE CONTAGIOUS', 'HEALTHY',\n",
       "       'TREATABLE REHABILITABLE CONTAGIOUS', 'UNDERAGE', 'FATAL',\n",
       "       'DECEASED'], dtype=object)"
      ]
     },
     "execution_count": 150,
     "metadata": {},
     "output_type": "execute_result"
    }
   ],
   "source": [
    "print('Total Intake Conditions: ', len(df['Intake Condition'].unique()))\n",
    "df['Intake Condition'].unique()"
   ]
  },
  {
   "cell_type": "code",
   "execution_count": 148,
   "metadata": {},
   "outputs": [
    {
     "name": "stdout",
     "output_type": "stream",
     "text": [
      "Total Intake Conditions:  17\n"
     ]
    },
    {
     "data": {
      "text/plain": [
       "APP WNL                                   14082\n",
       "TREATABLE REHABILITABLE NON-CONTAGIOUS     3255\n",
       "NORMAL                                     1328\n",
       "UNKNOWN                                     980\n",
       "APP SICK                                    830\n",
       "APP INJ                                     757\n",
       "UNDERAGE                                    535\n",
       "CRITICAL                                    187\n",
       "UNHEALTHY UNTREATABLE NON-CONTAGIOUS        150\n",
       "DEAD                                        145\n",
       "HEALTHY                                     115\n",
       "TREATABLE MANAGEABLE NON-CONTAGIOUS          80\n",
       "DECEASED                                     61\n",
       "TREATABLE REHABILITABLE CONTAGIOUS           32\n",
       "FATAL                                        12\n",
       "TREATABLE MANAGEABLE CONTAGIOUS               5\n",
       "UNHEALTHY UNTREATABLE CONTAGIOUS              3\n",
       "Name: Intake Condition, dtype: int64"
      ]
     },
     "execution_count": 148,
     "metadata": {},
     "output_type": "execute_result"
    }
   ],
   "source": [
    "intake_cond = df['Intake Condition'].value_counts()\n",
    "intake_cond\n",
    "\n",
    "# APP WNL = Within Normal Limits\n",
    "# APP INJ = Injured"
   ]
  },
  {
   "cell_type": "code",
   "execution_count": 165,
   "metadata": {},
   "outputs": [
    {
     "data": {
      "text/plain": [
       "<matplotlib.axes._subplots.AxesSubplot at 0x12fdbaa90>"
      ]
     },
     "execution_count": 165,
     "metadata": {},
     "output_type": "execute_result"
    },
    {
     "data": {
      "image/png": "[encoded data removed]",
      "text/plain": [
       "<Figure size 864x576 with 1 Axes>"
      ]
     },
     "metadata": {
      "needs_background": "light"
     },
     "output_type": "display_data"
    }
   ],
   "source": [
    "trace3 = df['Intake Condition'].value_counts(normalize=True)\n",
    "\n",
    "sns.barplot(x = trace3, y=trace3.index, orient = 'h')"
   ]
  },
  {
   "cell_type": "code",
   "execution_count": 179,
   "metadata": {},
   "outputs": [
    {
     "data": {
      "text/plain": [
       "APP WNL                                   0.624285\n",
       "TREATABLE REHABILITABLE NON-CONTAGIOUS    0.144301\n",
       "NORMAL                                    0.058873\n",
       "UNKNOWN                                   0.043445\n",
       "APP SICK                                  0.036796\n",
       "APP INJ                                   0.033559\n",
       "UNDERAGE                                  0.023718\n",
       "CRITICAL                                  0.008290\n",
       "UNHEALTHY UNTREATABLE NON-CONTAGIOUS      0.006650\n",
       "DEAD                                      0.006428\n",
       "HEALTHY                                   0.005098\n",
       "TREATABLE MANAGEABLE NON-CONTAGIOUS       0.003547\n",
       "DECEASED                                  0.002704\n",
       "TREATABLE REHABILITABLE CONTAGIOUS        0.001419\n",
       "FATAL                                     0.000532\n",
       "TREATABLE MANAGEABLE CONTAGIOUS           0.000222\n",
       "UNHEALTHY UNTREATABLE CONTAGIOUS          0.000133\n",
       "Name: Intake Condition, dtype: float64"
      ]
     },
     "execution_count": 179,
     "metadata": {},
     "output_type": "execute_result"
    }
   ],
   "source": [
    "trace3"
   ]
  },
  {
   "cell_type": "markdown",
   "metadata": {},
   "source": [
    "Most animals (~62%) show up within normal limits. ~68% show up within normal limits or 'normal'. The second most popular category is 'Treatable Rehabilitable Non-Contagious', which most likely refers to routine injuries, cuts, bruises."
   ]
  },
  {
   "cell_type": "markdown",
   "metadata": {},
   "source": [
    "#### Segmenting by Animal (Cats)"
   ]
  },
  {
   "cell_type": "code",
   "execution_count": 174,
   "metadata": {},
   "outputs": [
    {
     "data": {
      "text/plain": [
       "<matplotlib.axes._subplots.AxesSubplot at 0x13470aef0>"
      ]
     },
     "execution_count": 174,
     "metadata": {},
     "output_type": "execute_result"
    },
    {
     "data": {
      "image/png": "[encoded data removed]",
      "text/plain": [
       "<Figure size 864x576 with 1 Axes>"
      ]
     },
     "metadata": {
      "needs_background": "light"
     },
     "output_type": "display_data"
    }
   ],
   "source": [
    "trace4 = df.loc[df['Animal Type'] == 'CAT']['Intake Condition'].value_counts(normalize=True)\n",
    "\n",
    "sns.barplot(x = trace4, y=trace4.index, orient = 'h', color='salmon')"
   ]
  },
  {
   "cell_type": "code",
   "execution_count": 180,
   "metadata": {},
   "outputs": [
    {
     "data": {
      "text/plain": [
       "APP WNL                                   0.496208\n",
       "TREATABLE REHABILITABLE NON-CONTAGIOUS    0.182578\n",
       "APP SICK                                  0.066498\n",
       "UNDERAGE                                  0.062415\n",
       "UNKNOWN                                   0.047249\n",
       "NORMAL                                    0.047054\n",
       "APP INJ                                   0.030527\n",
       "HEALTHY                                   0.019249\n",
       "DEAD                                      0.011666\n",
       "CRITICAL                                  0.011472\n",
       "TREATABLE MANAGEABLE NON-CONTAGIOUS       0.007778\n",
       "UNHEALTHY UNTREATABLE NON-CONTAGIOUS      0.006416\n",
       "TREATABLE REHABILITABLE CONTAGIOUS        0.005444\n",
       "DECEASED                                  0.004083\n",
       "FATAL                                     0.000972\n",
       "UNHEALTHY UNTREATABLE CONTAGIOUS          0.000194\n",
       "TREATABLE MANAGEABLE CONTAGIOUS           0.000194\n",
       "Name: Intake Condition, dtype: float64"
      ]
     },
     "execution_count": 180,
     "metadata": {},
     "output_type": "execute_result"
    }
   ],
   "source": [
    "trace4"
   ]
  },
  {
   "cell_type": "markdown",
   "metadata": {},
   "source": [
    "Cats seem to arrive at the shelter in slightly worse condition. Only ~50% show up within normal limits, and approximately ~55% show up within normal limits or 'normal.'"
   ]
  },
  {
   "cell_type": "markdown",
   "metadata": {},
   "source": [
    "#### Segmenting by Animal (Not Dogs or Cats)"
   ]
  },
  {
   "cell_type": "code",
   "execution_count": 175,
   "metadata": {},
   "outputs": [
    {
     "data": {
      "text/plain": [
       "<matplotlib.axes._subplots.AxesSubplot at 0x1349a8748>"
      ]
     },
     "execution_count": 175,
     "metadata": {},
     "output_type": "execute_result"
    },
    {
     "data": {
      "image/png": "[encoded data removed]",
      "text/plain": [
       "<Figure size 864x576 with 1 Axes>"
      ]
     },
     "metadata": {
      "needs_background": "light"
     },
     "output_type": "display_data"
    }
   ],
   "source": [
    "trace5 = df.loc[(df['Animal Type'] != 'CAT') & (df['Animal Type'] != 'DOG')]['Intake Condition'].value_counts(normalize=True)\n",
    "\n",
    "sns.barplot(x = trace5, y=trace5.index, orient = 'h', color = 'palegreen')"
   ]
  },
  {
   "cell_type": "code",
   "execution_count": 177,
   "metadata": {},
   "outputs": [
    {
     "data": {
      "text/plain": [
       "APP WNL                                   0.289837\n",
       "APP INJ                                   0.190715\n",
       "APP SICK                                  0.155583\n",
       "UNKNOWN                                   0.075282\n",
       "TREATABLE REHABILITABLE NON-CONTAGIOUS    0.074028\n",
       "UNDERAGE                                  0.072773\n",
       "CRITICAL                                  0.060226\n",
       "UNHEALTHY UNTREATABLE NON-CONTAGIOUS      0.033877\n",
       "NORMAL                                    0.017566\n",
       "DEAD                                      0.011292\n",
       "DECEASED                                  0.010038\n",
       "TREATABLE MANAGEABLE NON-CONTAGIOUS       0.002509\n",
       "FATAL                                     0.002509\n",
       "UNHEALTHY UNTREATABLE CONTAGIOUS          0.002509\n",
       "HEALTHY                                   0.001255\n",
       "Name: Intake Condition, dtype: float64"
      ]
     },
     "execution_count": 177,
     "metadata": {},
     "output_type": "execute_result"
    }
   ],
   "source": [
    "trace5"
   ]
  },
  {
   "cell_type": "markdown",
   "metadata": {},
   "source": [
    "Birds, livestock, and wildlife show up in the worst condition when arriving at the animal shelter. Only ~30% show up within normal limits or 'normal.' That means 70% show up as injured, sick, deceased, or in critical condition. This tends to make sense since none of these animals are usually kept as pets, and therefore not taken for routine check-ups. If they show up to the shelter, it must usually be for a dire situation."
   ]
  },
  {
   "cell_type": "markdown",
   "metadata": {},
   "source": [
    "### Outcome Type"
   ]
  },
  {
   "cell_type": "code",
   "execution_count": 181,
   "metadata": {},
   "outputs": [
    {
     "name": "stdout",
     "output_type": "stream",
     "text": [
      "Total Outcome Types:  14\n"
     ]
    },
    {
     "data": {
      "text/plain": [
       "array(['RETURNED TO OWNER', 'DEAD ON ARRIVAL', 'TRANSFER', 'DIED',\n",
       "       'EUTHANIZED', 'ADOPTION', 'WILDLIFE', 'FOSTER', 'TREATMENT',\n",
       "       'LOST EXP', 'FOUND EXP', 'MISSING', 'OTHER', 'DISPOSAL'],\n",
       "      dtype=object)"
      ]
     },
     "execution_count": 181,
     "metadata": {},
     "output_type": "execute_result"
    }
   ],
   "source": [
    "print('Total Outcome Types: ', len(df['Outcome Type'].unique()))\n",
    "df['Outcome Type'].unique()"
   ]
  },
  {
   "cell_type": "code",
   "execution_count": 182,
   "metadata": {},
   "outputs": [
    {
     "data": {
      "text/plain": [
       "ADOPTION             7469\n",
       "RETURNED TO OWNER    5273\n",
       "TRANSFER             3191\n",
       "FOSTER               2216\n",
       "EUTHANIZED           1534\n",
       "LOST EXP              862\n",
       "TREATMENT             843\n",
       "OTHER                 332\n",
       "FOUND EXP             249\n",
       "WILDLIFE              207\n",
       "DIED                  195\n",
       "DEAD ON ARRIVAL       153\n",
       "DISPOSAL               20\n",
       "MISSING                13\n",
       "Name: Outcome Type, dtype: int64"
      ]
     },
     "execution_count": 182,
     "metadata": {},
     "output_type": "execute_result"
    }
   ],
   "source": [
    "outcome_freq = df['Outcome Type'].value_counts()\n",
    "outcome_freq"
   ]
  },
  {
   "cell_type": "code",
   "execution_count": 183,
   "metadata": {},
   "outputs": [
    {
     "data": {
      "text/plain": [
       "<matplotlib.axes._subplots.AxesSubplot at 0x134c19198>"
      ]
     },
     "execution_count": 183,
     "metadata": {},
     "output_type": "execute_result"
    },
    {
     "data": {
      "image/png": "[encoded data removed]",
      "text/plain": [
       "<Figure size 864x576 with 1 Axes>"
      ]
     },
     "metadata": {
      "needs_background": "light"
     },
     "output_type": "display_data"
    }
   ],
   "source": [
    "trace6 = df['Outcome Type'].value_counts(normalize=True)\n",
    "\n",
    "sns.barplot(x = trace6, y=trace6.index, orient = 'h')"
   ]
  },
  {
   "cell_type": "code",
   "execution_count": 184,
   "metadata": {},
   "outputs": [
    {
     "data": {
      "text/plain": [
       "ADOPTION             0.331117\n",
       "RETURNED TO OWNER    0.233763\n",
       "TRANSFER             0.141464\n",
       "FOSTER               0.098240\n",
       "EUTHANIZED           0.068005\n",
       "LOST EXP             0.038214\n",
       "TREATMENT            0.037372\n",
       "OTHER                0.014718\n",
       "FOUND EXP            0.011039\n",
       "WILDLIFE             0.009177\n",
       "DIED                 0.008645\n",
       "DEAD ON ARRIVAL      0.006783\n",
       "DISPOSAL             0.000887\n",
       "MISSING              0.000576\n",
       "Name: Outcome Type, dtype: float64"
      ]
     },
     "execution_count": 184,
     "metadata": {},
     "output_type": "execute_result"
    }
   ],
   "source": [
    "trace6"
   ]
  },
  {
   "cell_type": "markdown",
   "metadata": {},
   "source": [
    "~33% of animals entering the shelter end being adopted. This is slightly misleading however, since not all animals that show up to the shelter are eligable for adoption. ~66% end up with an owner by the end of their stay (adoption, returned to owner, foster). Sadly, ~8% are either euthanized or die in captivity."
   ]
  },
  {
   "cell_type": "code",
   "execution_count": null,
   "metadata": {},
   "outputs": [],
   "source": []
  }
 ],
 "metadata": {
  "kernelspec": {
   "display_name": "Python 3",
   "language": "python",
   "name": "python3"
  },
  "language_info": {
   "codemirror_mode": {
    "name": "ipython",
    "version": 3
   },
   "file_extension": ".py",
   "mimetype": "text/x-python",
   "name": "python",
   "nbconvert_exporter": "python",
   "pygments_lexer": "ipython3",
   "version": "3.6.9"
  }
 },
 "nbformat": 4,
 "nbformat_minor": 2
}
