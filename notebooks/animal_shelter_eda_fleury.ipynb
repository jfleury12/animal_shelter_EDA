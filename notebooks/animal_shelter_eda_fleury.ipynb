{
 "cells": [
  {
   "cell_type": "markdown",
   "metadata": {},
   "source": [
    "# Animal Shelter EDA"
   ]
  },
  {
   "cell_type": "markdown",
   "metadata": {},
   "source": [
    "## Import Relevant Libraries"
   ]
  },
  {
   "cell_type": "code",
   "execution_count": 94,
   "metadata": {},
   "outputs": [
    {
     "data": {
      "text/html": [
       "        <script type=\"text/javascript\">\n",
       "        window.PlotlyConfig = {MathJaxConfig: 'local'};\n",
       "        if (window.MathJax) {MathJax.Hub.Config({SVG: {font: \"STIX-Web\"}});}\n",
       "        if (typeof require !== 'undefined') {\n",
       "        require.undef(\"plotly\");\n",
       "        requirejs.config({\n",
       "            paths: {\n",
       "                'plotly': ['https://cdn.plot.ly/plotly-latest.min']\n",
       "            }\n",
       "        });\n",
       "        require(['plotly'], function(Plotly) {\n",
       "            window._Plotly = Plotly;\n",
       "        });\n",
       "        }\n",
       "        </script>\n",
       "        "
      ]
     },
     "metadata": {},
     "output_type": "display_data"
    }
   ],
   "source": [
    "import pandas as pd\n",
    "import matplotlib.pyplot as plt\n",
    "import seaborn as sns\n",
    "%matplotlib inline\n",
    "plt.rcParams['figure.figsize'] = [12,8] #set default fig size\n",
    "pd.set_option('max_columns', None)\n",
    "pd.set_option('max_rows', None)\n",
    "import cufflinks # !pip install ipywidgets\n",
    "cufflinks.go_offline()\n",
    "cufflinks.set_config_file(world_readable=True, theme='pearl')\n",
    "from plotly.offline import iplot"
   ]
  },
  {
   "cell_type": "markdown",
   "metadata": {},
   "source": [
    "## Data Importation and Cleaning"
   ]
  },
  {
   "cell_type": "code",
   "execution_count": 2,
   "metadata": {},
   "outputs": [
    {
     "data": {
      "text/plain": [
       "(22557, 34)"
      ]
     },
     "execution_count": 2,
     "metadata": {},
     "output_type": "execute_result"
    }
   ],
   "source": [
    "df = pd.read_excel('../data/EDA Instructions and Data.xlsx', sheet_name = 'Data')\n",
    "df.shape"
   ]
  },
  {
   "cell_type": "code",
   "execution_count": 3,
   "metadata": {},
   "outputs": [
    {
     "data": {
      "text/html": [
       "<div>\n",
       "<style scoped>\n",
       "    .dataframe tbody tr th:only-of-type {\n",
       "        vertical-align: middle;\n",
       "    }\n",
       "\n",
       "    .dataframe tbody tr th {\n",
       "        vertical-align: top;\n",
       "    }\n",
       "\n",
       "    .dataframe thead th {\n",
       "        text-align: right;\n",
       "    }\n",
       "</style>\n",
       "<table border=\"1\" class=\"dataframe\">\n",
       "  <thead>\n",
       "    <tr style=\"text-align: right;\">\n",
       "      <th></th>\n",
       "      <th>Animal Id</th>\n",
       "      <th>Animal Type</th>\n",
       "      <th>Animal Breed</th>\n",
       "      <th>Kennel Number</th>\n",
       "      <th>Kennel Status</th>\n",
       "      <th>Tag Type</th>\n",
       "      <th>Activity Number</th>\n",
       "      <th>Activity Sequence</th>\n",
       "      <th>Source Id</th>\n",
       "      <th>Census Tract</th>\n",
       "      <th>...</th>\n",
       "      <th>Outcome Time</th>\n",
       "      <th>Receipt Number</th>\n",
       "      <th>Impound Number</th>\n",
       "      <th>Service Request Number</th>\n",
       "      <th>Outcome Condition</th>\n",
       "      <th>Chip Status</th>\n",
       "      <th>Animal Origin</th>\n",
       "      <th>Additional Information</th>\n",
       "      <th>Month</th>\n",
       "      <th>Year</th>\n",
       "    </tr>\n",
       "  </thead>\n",
       "  <tbody>\n",
       "    <tr>\n",
       "      <td>0</td>\n",
       "      <td>A0144701</td>\n",
       "      <td>DOG</td>\n",
       "      <td>HAVANESE</td>\n",
       "      <td>VT 12</td>\n",
       "      <td>IMPOUNDED</td>\n",
       "      <td>NaN</td>\n",
       "      <td>NaN</td>\n",
       "      <td>1</td>\n",
       "      <td>P0098773</td>\n",
       "      <td>6301</td>\n",
       "      <td>...</td>\n",
       "      <td>11:31:00</td>\n",
       "      <td>R19-558731</td>\n",
       "      <td>K19-486742</td>\n",
       "      <td>NaN</td>\n",
       "      <td>APP SICK</td>\n",
       "      <td>SCAN CHIP</td>\n",
       "      <td>OVER THE COUNTER</td>\n",
       "      <td>RETURNED TO OWNER</td>\n",
       "      <td>NOV.2019</td>\n",
       "      <td>FY2020</td>\n",
       "    </tr>\n",
       "    <tr>\n",
       "      <td>1</td>\n",
       "      <td>A0442587</td>\n",
       "      <td>DOG</td>\n",
       "      <td>TERRIER MIX</td>\n",
       "      <td>FREEZER</td>\n",
       "      <td>IMPOUNDED</td>\n",
       "      <td>NaN</td>\n",
       "      <td>NaN</td>\n",
       "      <td>1</td>\n",
       "      <td>P0492284</td>\n",
       "      <td>7102</td>\n",
       "      <td>...</td>\n",
       "      <td>00:00:00</td>\n",
       "      <td>NaN</td>\n",
       "      <td>K19-486954</td>\n",
       "      <td>NaN</td>\n",
       "      <td>DEAD</td>\n",
       "      <td>SCAN CHIP</td>\n",
       "      <td>OVER THE COUNTER</td>\n",
       "      <td>NaN</td>\n",
       "      <td>NOV.2019</td>\n",
       "      <td>FY2020</td>\n",
       "    </tr>\n",
       "    <tr>\n",
       "      <td>2</td>\n",
       "      <td>A0458972</td>\n",
       "      <td>DOG</td>\n",
       "      <td>CATAHOULA</td>\n",
       "      <td>RECEIVING</td>\n",
       "      <td>UNAVAILABLE</td>\n",
       "      <td>NaN</td>\n",
       "      <td>A19-195601</td>\n",
       "      <td>1</td>\n",
       "      <td>P9991718</td>\n",
       "      <td>4600</td>\n",
       "      <td>...</td>\n",
       "      <td>13:36:00</td>\n",
       "      <td>NaN</td>\n",
       "      <td>K19-482022</td>\n",
       "      <td>NaN</td>\n",
       "      <td>TREATABLE REHABILITABLE NON-CONTAGIOUS</td>\n",
       "      <td>SCAN NO CHIP</td>\n",
       "      <td>SWEEP</td>\n",
       "      <td>NaN</td>\n",
       "      <td>OCT.2019</td>\n",
       "      <td>FY2020</td>\n",
       "    </tr>\n",
       "    <tr>\n",
       "      <td>3</td>\n",
       "      <td>A0525642</td>\n",
       "      <td>DOG</td>\n",
       "      <td>GERM SHEPHERD</td>\n",
       "      <td>INJD 001</td>\n",
       "      <td>IMPOUNDED</td>\n",
       "      <td>NaN</td>\n",
       "      <td>A19-196573</td>\n",
       "      <td>1</td>\n",
       "      <td>P0903792</td>\n",
       "      <td>16605</td>\n",
       "      <td>...</td>\n",
       "      <td>17:35:00</td>\n",
       "      <td>NaN</td>\n",
       "      <td>K19-483073</td>\n",
       "      <td>NaN</td>\n",
       "      <td>TREATABLE REHABILITABLE NON-CONTAGIOUS</td>\n",
       "      <td>SCAN CHIP</td>\n",
       "      <td>SWEEP</td>\n",
       "      <td>TAGGED</td>\n",
       "      <td>OCT.2019</td>\n",
       "      <td>FY2020</td>\n",
       "    </tr>\n",
       "    <tr>\n",
       "      <td>4</td>\n",
       "      <td>A0565586</td>\n",
       "      <td>DOG</td>\n",
       "      <td>SILKY TERRIER</td>\n",
       "      <td>LFD 119</td>\n",
       "      <td>UNAVAILABLE</td>\n",
       "      <td>NaN</td>\n",
       "      <td>NaN</td>\n",
       "      <td>1</td>\n",
       "      <td>P0890077</td>\n",
       "      <td>6900</td>\n",
       "      <td>...</td>\n",
       "      <td>12:57:00</td>\n",
       "      <td>R19-558750</td>\n",
       "      <td>K19-486694</td>\n",
       "      <td>NaN</td>\n",
       "      <td>APP WNL</td>\n",
       "      <td>SCAN CHIP</td>\n",
       "      <td>OVER THE COUNTER</td>\n",
       "      <td>RETURNED TO OWNER</td>\n",
       "      <td>NOV.2019</td>\n",
       "      <td>FY2020</td>\n",
       "    </tr>\n",
       "  </tbody>\n",
       "</table>\n",
       "<p>5 rows × 34 columns</p>\n",
       "</div>"
      ],
      "text/plain": [
       "  Animal Id Animal Type   Animal Breed Kennel Number Kennel Status  Tag Type  \\\n",
       "0  A0144701         DOG       HAVANESE         VT 12     IMPOUNDED       NaN   \n",
       "1  A0442587         DOG    TERRIER MIX       FREEZER     IMPOUNDED       NaN   \n",
       "2  A0458972         DOG      CATAHOULA     RECEIVING   UNAVAILABLE       NaN   \n",
       "3  A0525642         DOG  GERM SHEPHERD      INJD 001     IMPOUNDED       NaN   \n",
       "4  A0565586         DOG  SILKY TERRIER       LFD 119   UNAVAILABLE       NaN   \n",
       "\n",
       "  Activity Number  Activity Sequence Source Id Census Tract  ... Outcome Time  \\\n",
       "0             NaN                  1  P0098773         6301  ...     11:31:00   \n",
       "1             NaN                  1  P0492284         7102  ...     00:00:00   \n",
       "2      A19-195601                  1  P9991718         4600  ...     13:36:00   \n",
       "3      A19-196573                  1  P0903792        16605  ...     17:35:00   \n",
       "4             NaN                  1  P0890077         6900  ...     12:57:00   \n",
       "\n",
       "  Receipt Number Impound Number  Service Request Number  \\\n",
       "0     R19-558731     K19-486742                     NaN   \n",
       "1            NaN     K19-486954                     NaN   \n",
       "2            NaN     K19-482022                     NaN   \n",
       "3            NaN     K19-483073                     NaN   \n",
       "4     R19-558750     K19-486694                     NaN   \n",
       "\n",
       "                        Outcome Condition   Chip Status     Animal Origin  \\\n",
       "0                                APP SICK     SCAN CHIP  OVER THE COUNTER   \n",
       "1                                    DEAD     SCAN CHIP  OVER THE COUNTER   \n",
       "2  TREATABLE REHABILITABLE NON-CONTAGIOUS  SCAN NO CHIP             SWEEP   \n",
       "3  TREATABLE REHABILITABLE NON-CONTAGIOUS     SCAN CHIP             SWEEP   \n",
       "4                                 APP WNL     SCAN CHIP  OVER THE COUNTER   \n",
       "\n",
       "  Additional Information     Month    Year  \n",
       "0      RETURNED TO OWNER  NOV.2019  FY2020  \n",
       "1                    NaN  NOV.2019  FY2020  \n",
       "2                    NaN  OCT.2019  FY2020  \n",
       "3                 TAGGED  OCT.2019  FY2020  \n",
       "4      RETURNED TO OWNER  NOV.2019  FY2020  \n",
       "\n",
       "[5 rows x 34 columns]"
      ]
     },
     "execution_count": 3,
     "metadata": {},
     "output_type": "execute_result"
    }
   ],
   "source": [
    "df.head()"
   ]
  },
  {
   "cell_type": "code",
   "execution_count": 4,
   "metadata": {},
   "outputs": [
    {
     "name": "stdout",
     "output_type": "stream",
     "text": [
      "<class 'pandas.core.frame.DataFrame'>\n",
      "RangeIndex: 22557 entries, 0 to 22556\n",
      "Data columns (total 34 columns):\n",
      "Animal Id                 22557 non-null object\n",
      "Animal Type               22557 non-null object\n",
      "Animal Breed              22557 non-null object\n",
      "Kennel Number             22557 non-null object\n",
      "Kennel Status             22557 non-null object\n",
      "Tag Type                  0 non-null float64\n",
      "Activity Number           11974 non-null object\n",
      "Activity Sequence         22557 non-null int64\n",
      "Source Id                 22557 non-null object\n",
      "Census Tract              19799 non-null object\n",
      "Council District          19799 non-null object\n",
      "Intake Type               22557 non-null object\n",
      "Intake Subtype            22557 non-null object\n",
      "Intake Total              22557 non-null int64\n",
      "Reason                    21229 non-null object\n",
      "Staff Id                  22557 non-null object\n",
      "Intake Date               22557 non-null datetime64[ns]\n",
      "Intake Time               22557 non-null object\n",
      "Due Out                   22557 non-null datetime64[ns]\n",
      "Intake Condition          22557 non-null object\n",
      "Hold Request              15725 non-null object\n",
      "Outcome Type              22557 non-null object\n",
      "Outcome Subtype           22557 non-null object\n",
      "Outcome Date              22190 non-null datetime64[ns]\n",
      "Outcome Time              22557 non-null object\n",
      "Receipt Number            9057 non-null object\n",
      "Impound Number            22557 non-null object\n",
      "Service Request Number    56 non-null object\n",
      "Outcome Condition         21019 non-null object\n",
      "Chip Status               21229 non-null object\n",
      "Animal Origin             21229 non-null object\n",
      "Additional Information    9237 non-null object\n",
      "Month                     22557 non-null object\n",
      "Year                      22557 non-null object\n",
      "dtypes: datetime64[ns](3), float64(1), int64(2), object(28)\n",
      "memory usage: 5.9+ MB\n"
     ]
    }
   ],
   "source": [
    "df.info()"
   ]
  },
  {
   "cell_type": "code",
   "execution_count": 5,
   "metadata": {},
   "outputs": [],
   "source": [
    "# Specify columns to drop\n",
    "dropped_cols = ['Tag Type','Activity Number','Activity Sequence','Source Id','Intake Total',\n",
    "                'Reason','Staff Id','Receipt Number','Impound Number',\n",
    "                'Service Request Number','Chip Status','Animal Origin','Additional Information']\n",
    "\n",
    "df = df.drop(dropped_cols, axis=1)"
   ]
  },
  {
   "cell_type": "code",
   "execution_count": 6,
   "metadata": {},
   "outputs": [
    {
     "name": "stdout",
     "output_type": "stream",
     "text": [
      "<class 'pandas.core.frame.DataFrame'>\n",
      "RangeIndex: 22557 entries, 0 to 22556\n",
      "Data columns (total 21 columns):\n",
      "Animal Id            22557 non-null object\n",
      "Animal Type          22557 non-null object\n",
      "Animal Breed         22557 non-null object\n",
      "Kennel Number        22557 non-null object\n",
      "Kennel Status        22557 non-null object\n",
      "Census Tract         19799 non-null object\n",
      "Council District     19799 non-null object\n",
      "Intake Type          22557 non-null object\n",
      "Intake Subtype       22557 non-null object\n",
      "Intake Date          22557 non-null datetime64[ns]\n",
      "Intake Time          22557 non-null object\n",
      "Due Out              22557 non-null datetime64[ns]\n",
      "Intake Condition     22557 non-null object\n",
      "Hold Request         15725 non-null object\n",
      "Outcome Type         22557 non-null object\n",
      "Outcome Subtype      22557 non-null object\n",
      "Outcome Date         22190 non-null datetime64[ns]\n",
      "Outcome Time         22557 non-null object\n",
      "Outcome Condition    21019 non-null object\n",
      "Month                22557 non-null object\n",
      "Year                 22557 non-null object\n",
      "dtypes: datetime64[ns](3), object(18)\n",
      "memory usage: 3.6+ MB\n"
     ]
    }
   ],
   "source": [
    "df.info()"
   ]
  },
  {
   "cell_type": "code",
   "execution_count": 7,
   "metadata": {},
   "outputs": [
    {
     "data": {
      "text/plain": [
       "Animal Id               0\n",
       "Animal Type             0\n",
       "Animal Breed            0\n",
       "Kennel Number           0\n",
       "Kennel Status           0\n",
       "Census Tract         2758\n",
       "Council District     2758\n",
       "Intake Type             0\n",
       "Intake Subtype          0\n",
       "Intake Date             0\n",
       "Intake Time             0\n",
       "Due Out                 0\n",
       "Intake Condition        0\n",
       "Hold Request         6832\n",
       "Outcome Type            0\n",
       "Outcome Subtype         0\n",
       "Outcome Date          367\n",
       "Outcome Time            0\n",
       "Outcome Condition    1538\n",
       "Month                   0\n",
       "Year                    0\n",
       "dtype: int64"
      ]
     },
     "execution_count": 7,
     "metadata": {},
     "output_type": "execute_result"
    }
   ],
   "source": [
    "# Check null values\n",
    "df.isnull().sum()"
   ]
  },
  {
   "cell_type": "code",
   "execution_count": 8,
   "metadata": {},
   "outputs": [
    {
     "data": {
      "text/html": [
       "<div>\n",
       "<style scoped>\n",
       "    .dataframe tbody tr th:only-of-type {\n",
       "        vertical-align: middle;\n",
       "    }\n",
       "\n",
       "    .dataframe tbody tr th {\n",
       "        vertical-align: top;\n",
       "    }\n",
       "\n",
       "    .dataframe thead th {\n",
       "        text-align: right;\n",
       "    }\n",
       "</style>\n",
       "<table border=\"1\" class=\"dataframe\">\n",
       "  <thead>\n",
       "    <tr style=\"text-align: right;\">\n",
       "      <th></th>\n",
       "      <th>Animal Id</th>\n",
       "      <th>Animal Type</th>\n",
       "      <th>Animal Breed</th>\n",
       "      <th>Kennel Number</th>\n",
       "      <th>Kennel Status</th>\n",
       "      <th>Census Tract</th>\n",
       "      <th>Council District</th>\n",
       "      <th>Intake Type</th>\n",
       "      <th>Intake Subtype</th>\n",
       "      <th>Intake Date</th>\n",
       "      <th>...</th>\n",
       "      <th>Due Out</th>\n",
       "      <th>Intake Condition</th>\n",
       "      <th>Hold Request</th>\n",
       "      <th>Outcome Type</th>\n",
       "      <th>Outcome Subtype</th>\n",
       "      <th>Outcome Date</th>\n",
       "      <th>Outcome Time</th>\n",
       "      <th>Outcome Condition</th>\n",
       "      <th>Month</th>\n",
       "      <th>Year</th>\n",
       "    </tr>\n",
       "  </thead>\n",
       "  <tbody>\n",
       "    <tr>\n",
       "      <td>0</td>\n",
       "      <td>A0144701</td>\n",
       "      <td>DOG</td>\n",
       "      <td>HAVANESE</td>\n",
       "      <td>VT 12</td>\n",
       "      <td>IMPOUNDED</td>\n",
       "      <td>6301</td>\n",
       "      <td>4</td>\n",
       "      <td>OWNER SURRENDER</td>\n",
       "      <td>GENERAL</td>\n",
       "      <td>2019-11-08</td>\n",
       "      <td>...</td>\n",
       "      <td>2019-11-14</td>\n",
       "      <td>APP SICK</td>\n",
       "      <td>NaN</td>\n",
       "      <td>RETURNED TO OWNER</td>\n",
       "      <td>WALK IN</td>\n",
       "      <td>2019-11-09</td>\n",
       "      <td>11:31:00</td>\n",
       "      <td>APP SICK</td>\n",
       "      <td>NOV.2019</td>\n",
       "      <td>FY2020</td>\n",
       "    </tr>\n",
       "    <tr>\n",
       "      <td>1</td>\n",
       "      <td>A0442587</td>\n",
       "      <td>DOG</td>\n",
       "      <td>TERRIER MIX</td>\n",
       "      <td>FREEZER</td>\n",
       "      <td>IMPOUNDED</td>\n",
       "      <td>7102</td>\n",
       "      <td>2</td>\n",
       "      <td>OWNER SURRENDER</td>\n",
       "      <td>DEAD ON ARRIVAL</td>\n",
       "      <td>2019-11-10</td>\n",
       "      <td>...</td>\n",
       "      <td>2019-11-10</td>\n",
       "      <td>DEAD</td>\n",
       "      <td>NaN</td>\n",
       "      <td>DEAD ON ARRIVAL</td>\n",
       "      <td>DISPOSAL</td>\n",
       "      <td>2019-11-10</td>\n",
       "      <td>00:00:00</td>\n",
       "      <td>DEAD</td>\n",
       "      <td>NOV.2019</td>\n",
       "      <td>FY2020</td>\n",
       "    </tr>\n",
       "    <tr>\n",
       "      <td>2</td>\n",
       "      <td>A0458972</td>\n",
       "      <td>DOG</td>\n",
       "      <td>CATAHOULA</td>\n",
       "      <td>RECEIVING</td>\n",
       "      <td>UNAVAILABLE</td>\n",
       "      <td>4600</td>\n",
       "      <td>1</td>\n",
       "      <td>STRAY</td>\n",
       "      <td>AT LARGE</td>\n",
       "      <td>2019-10-03</td>\n",
       "      <td>...</td>\n",
       "      <td>2019-10-03</td>\n",
       "      <td>TREATABLE REHABILITABLE NON-CONTAGIOUS</td>\n",
       "      <td>NaN</td>\n",
       "      <td>RETURNED TO OWNER</td>\n",
       "      <td>FIELD</td>\n",
       "      <td>2019-10-03</td>\n",
       "      <td>13:36:00</td>\n",
       "      <td>TREATABLE REHABILITABLE NON-CONTAGIOUS</td>\n",
       "      <td>OCT.2019</td>\n",
       "      <td>FY2020</td>\n",
       "    </tr>\n",
       "    <tr>\n",
       "      <td>3</td>\n",
       "      <td>A0525642</td>\n",
       "      <td>DOG</td>\n",
       "      <td>GERM SHEPHERD</td>\n",
       "      <td>INJD 001</td>\n",
       "      <td>IMPOUNDED</td>\n",
       "      <td>16605</td>\n",
       "      <td>8</td>\n",
       "      <td>OWNER SURRENDER</td>\n",
       "      <td>GENERAL</td>\n",
       "      <td>2019-10-11</td>\n",
       "      <td>...</td>\n",
       "      <td>2019-10-17</td>\n",
       "      <td>TREATABLE REHABILITABLE NON-CONTAGIOUS</td>\n",
       "      <td>EMERGENCY RESCUE</td>\n",
       "      <td>TRANSFER</td>\n",
       "      <td>MEDICAL-CONTAGIOUS</td>\n",
       "      <td>2019-10-15</td>\n",
       "      <td>17:35:00</td>\n",
       "      <td>TREATABLE REHABILITABLE NON-CONTAGIOUS</td>\n",
       "      <td>OCT.2019</td>\n",
       "      <td>FY2020</td>\n",
       "    </tr>\n",
       "    <tr>\n",
       "      <td>4</td>\n",
       "      <td>A0565586</td>\n",
       "      <td>DOG</td>\n",
       "      <td>SILKY TERRIER</td>\n",
       "      <td>LFD 119</td>\n",
       "      <td>UNAVAILABLE</td>\n",
       "      <td>6900</td>\n",
       "      <td>1</td>\n",
       "      <td>STRAY</td>\n",
       "      <td>AT LARGE</td>\n",
       "      <td>2019-11-08</td>\n",
       "      <td>...</td>\n",
       "      <td>2019-11-14</td>\n",
       "      <td>APP WNL</td>\n",
       "      <td>RESCU ONLY</td>\n",
       "      <td>RETURNED TO OWNER</td>\n",
       "      <td>WALK IN</td>\n",
       "      <td>2019-11-09</td>\n",
       "      <td>12:57:00</td>\n",
       "      <td>APP WNL</td>\n",
       "      <td>NOV.2019</td>\n",
       "      <td>FY2020</td>\n",
       "    </tr>\n",
       "  </tbody>\n",
       "</table>\n",
       "<p>5 rows × 21 columns</p>\n",
       "</div>"
      ],
      "text/plain": [
       "  Animal Id Animal Type   Animal Breed Kennel Number Kennel Status  \\\n",
       "0  A0144701         DOG       HAVANESE         VT 12     IMPOUNDED   \n",
       "1  A0442587         DOG    TERRIER MIX       FREEZER     IMPOUNDED   \n",
       "2  A0458972         DOG      CATAHOULA     RECEIVING   UNAVAILABLE   \n",
       "3  A0525642         DOG  GERM SHEPHERD      INJD 001     IMPOUNDED   \n",
       "4  A0565586         DOG  SILKY TERRIER       LFD 119   UNAVAILABLE   \n",
       "\n",
       "  Census Tract Council District      Intake Type   Intake Subtype Intake Date  \\\n",
       "0         6301                4  OWNER SURRENDER          GENERAL  2019-11-08   \n",
       "1         7102                2  OWNER SURRENDER  DEAD ON ARRIVAL  2019-11-10   \n",
       "2         4600                1            STRAY         AT LARGE  2019-10-03   \n",
       "3        16605                8  OWNER SURRENDER          GENERAL  2019-10-11   \n",
       "4         6900                1            STRAY         AT LARGE  2019-11-08   \n",
       "\n",
       "   ...    Due Out                        Intake Condition      Hold Request  \\\n",
       "0  ... 2019-11-14                                APP SICK               NaN   \n",
       "1  ... 2019-11-10                                    DEAD               NaN   \n",
       "2  ... 2019-10-03  TREATABLE REHABILITABLE NON-CONTAGIOUS               NaN   \n",
       "3  ... 2019-10-17  TREATABLE REHABILITABLE NON-CONTAGIOUS  EMERGENCY RESCUE   \n",
       "4  ... 2019-11-14                                 APP WNL        RESCU ONLY   \n",
       "\n",
       "        Outcome Type     Outcome Subtype Outcome Date Outcome Time  \\\n",
       "0  RETURNED TO OWNER             WALK IN   2019-11-09     11:31:00   \n",
       "1    DEAD ON ARRIVAL            DISPOSAL   2019-11-10     00:00:00   \n",
       "2  RETURNED TO OWNER               FIELD   2019-10-03     13:36:00   \n",
       "3           TRANSFER  MEDICAL-CONTAGIOUS   2019-10-15     17:35:00   \n",
       "4  RETURNED TO OWNER             WALK IN   2019-11-09     12:57:00   \n",
       "\n",
       "                        Outcome Condition     Month    Year  \n",
       "0                                APP SICK  NOV.2019  FY2020  \n",
       "1                                    DEAD  NOV.2019  FY2020  \n",
       "2  TREATABLE REHABILITABLE NON-CONTAGIOUS  OCT.2019  FY2020  \n",
       "3  TREATABLE REHABILITABLE NON-CONTAGIOUS  OCT.2019  FY2020  \n",
       "4                                 APP WNL  NOV.2019  FY2020  \n",
       "\n",
       "[5 rows x 21 columns]"
      ]
     },
     "execution_count": 8,
     "metadata": {},
     "output_type": "execute_result"
    }
   ],
   "source": [
    "df.head()"
   ]
  },
  {
   "cell_type": "markdown",
   "metadata": {},
   "source": [
    "## Some Data Exploration"
   ]
  },
  {
   "cell_type": "markdown",
   "metadata": {},
   "source": [
    "It's good to explore entries that have missing values to determine why they might be missing."
   ]
  },
  {
   "cell_type": "code",
   "execution_count": 9,
   "metadata": {},
   "outputs": [
    {
     "name": "stdout",
     "output_type": "stream",
     "text": [
      "Index(['Census Tract', 'Council District', 'Hold Request', 'Outcome Date',\n",
      "       'Outcome Condition'],\n",
      "      dtype='object')\n"
     ]
    },
    {
     "data": {
      "text/html": [
       "<div>\n",
       "<style scoped>\n",
       "    .dataframe tbody tr th:only-of-type {\n",
       "        vertical-align: middle;\n",
       "    }\n",
       "\n",
       "    .dataframe tbody tr th {\n",
       "        vertical-align: top;\n",
       "    }\n",
       "\n",
       "    .dataframe thead th {\n",
       "        text-align: right;\n",
       "    }\n",
       "</style>\n",
       "<table border=\"1\" class=\"dataframe\">\n",
       "  <thead>\n",
       "    <tr style=\"text-align: right;\">\n",
       "      <th></th>\n",
       "      <th>Animal Id</th>\n",
       "      <th>Animal Type</th>\n",
       "      <th>Animal Breed</th>\n",
       "      <th>Kennel Number</th>\n",
       "      <th>Kennel Status</th>\n",
       "      <th>Census Tract</th>\n",
       "      <th>Council District</th>\n",
       "      <th>Intake Type</th>\n",
       "      <th>Intake Subtype</th>\n",
       "      <th>Intake Date</th>\n",
       "      <th>...</th>\n",
       "      <th>Due Out</th>\n",
       "      <th>Intake Condition</th>\n",
       "      <th>Hold Request</th>\n",
       "      <th>Outcome Type</th>\n",
       "      <th>Outcome Subtype</th>\n",
       "      <th>Outcome Date</th>\n",
       "      <th>Outcome Time</th>\n",
       "      <th>Outcome Condition</th>\n",
       "      <th>Month</th>\n",
       "      <th>Year</th>\n",
       "    </tr>\n",
       "  </thead>\n",
       "  <tbody>\n",
       "    <tr>\n",
       "      <td>4837</td>\n",
       "      <td>A1086394</td>\n",
       "      <td>DOG</td>\n",
       "      <td>LABRADOR RETR</td>\n",
       "      <td>FAM GP 04</td>\n",
       "      <td>AVAILABLE</td>\n",
       "      <td>17101</td>\n",
       "      <td>8</td>\n",
       "      <td>STRAY</td>\n",
       "      <td>AT LARGE</td>\n",
       "      <td>2019-10-23</td>\n",
       "      <td>...</td>\n",
       "      <td>2019-10-27</td>\n",
       "      <td>TREATABLE REHABILITABLE NON-CONTAGIOUS</td>\n",
       "      <td>ADOP RESCU</td>\n",
       "      <td>TRANSFER</td>\n",
       "      <td>TRANSPORT</td>\n",
       "      <td>2019-10-31</td>\n",
       "      <td>16:47:00</td>\n",
       "      <td>NaN</td>\n",
       "      <td>OCT.2019</td>\n",
       "      <td>FY2020</td>\n",
       "    </tr>\n",
       "    <tr>\n",
       "      <td>18488</td>\n",
       "      <td>A1096482</td>\n",
       "      <td>DOG</td>\n",
       "      <td>ALASKAN HUSKY</td>\n",
       "      <td>LOST</td>\n",
       "      <td>IMPOUNDED</td>\n",
       "      <td>NaN</td>\n",
       "      <td>NaN</td>\n",
       "      <td>STRAY</td>\n",
       "      <td>WEB</td>\n",
       "      <td>2020-02-20</td>\n",
       "      <td>...</td>\n",
       "      <td>2020-02-20</td>\n",
       "      <td>NORMAL</td>\n",
       "      <td>NaN</td>\n",
       "      <td>LOST EXP</td>\n",
       "      <td>OTHER</td>\n",
       "      <td>2020-03-22</td>\n",
       "      <td>00:00:00</td>\n",
       "      <td>NaN</td>\n",
       "      <td>FEB.2020</td>\n",
       "      <td>FY2020</td>\n",
       "    </tr>\n",
       "    <tr>\n",
       "      <td>22073</td>\n",
       "      <td>A1100672</td>\n",
       "      <td>DOG</td>\n",
       "      <td>STAFFORDSHIRE</td>\n",
       "      <td>LOST</td>\n",
       "      <td>IMPOUNDED</td>\n",
       "      <td>NaN</td>\n",
       "      <td>NaN</td>\n",
       "      <td>STRAY</td>\n",
       "      <td>WEB</td>\n",
       "      <td>2020-05-03</td>\n",
       "      <td>...</td>\n",
       "      <td>2020-05-03</td>\n",
       "      <td>NORMAL</td>\n",
       "      <td>NaN</td>\n",
       "      <td>OTHER</td>\n",
       "      <td>OTHER</td>\n",
       "      <td>NaT</td>\n",
       "      <td>00:00:00</td>\n",
       "      <td>NaN</td>\n",
       "      <td>MAY.2020</td>\n",
       "      <td>FY2020</td>\n",
       "    </tr>\n",
       "    <tr>\n",
       "      <td>21122</td>\n",
       "      <td>A1098921</td>\n",
       "      <td>DOG</td>\n",
       "      <td>AUST CATTLE DOG</td>\n",
       "      <td>LOST</td>\n",
       "      <td>IMPOUNDED</td>\n",
       "      <td>NaN</td>\n",
       "      <td>NaN</td>\n",
       "      <td>STRAY</td>\n",
       "      <td>WEB</td>\n",
       "      <td>2020-03-20</td>\n",
       "      <td>...</td>\n",
       "      <td>2020-03-20</td>\n",
       "      <td>NORMAL</td>\n",
       "      <td>NaN</td>\n",
       "      <td>LOST EXP</td>\n",
       "      <td>OTHER</td>\n",
       "      <td>2020-04-20</td>\n",
       "      <td>00:00:00</td>\n",
       "      <td>NaN</td>\n",
       "      <td>MAR.2020</td>\n",
       "      <td>FY2020</td>\n",
       "    </tr>\n",
       "    <tr>\n",
       "      <td>19854</td>\n",
       "      <td>A1099869</td>\n",
       "      <td>DOG</td>\n",
       "      <td>STAFFORDSHIRE</td>\n",
       "      <td>LOST</td>\n",
       "      <td>IMPOUNDED</td>\n",
       "      <td>NaN</td>\n",
       "      <td>NaN</td>\n",
       "      <td>STRAY</td>\n",
       "      <td>WEB</td>\n",
       "      <td>2020-04-13</td>\n",
       "      <td>...</td>\n",
       "      <td>2020-04-14</td>\n",
       "      <td>NORMAL</td>\n",
       "      <td>NaN</td>\n",
       "      <td>OTHER</td>\n",
       "      <td>OTHER</td>\n",
       "      <td>NaT</td>\n",
       "      <td>00:00:00</td>\n",
       "      <td>NaN</td>\n",
       "      <td>APR.2020</td>\n",
       "      <td>FY2020</td>\n",
       "    </tr>\n",
       "  </tbody>\n",
       "</table>\n",
       "<p>5 rows × 21 columns</p>\n",
       "</div>"
      ],
      "text/plain": [
       "      Animal Id Animal Type     Animal Breed Kennel Number Kennel Status  \\\n",
       "4837   A1086394         DOG    LABRADOR RETR     FAM GP 04     AVAILABLE   \n",
       "18488  A1096482         DOG    ALASKAN HUSKY          LOST     IMPOUNDED   \n",
       "22073  A1100672         DOG    STAFFORDSHIRE          LOST     IMPOUNDED   \n",
       "21122  A1098921         DOG  AUST CATTLE DOG          LOST     IMPOUNDED   \n",
       "19854  A1099869         DOG    STAFFORDSHIRE          LOST     IMPOUNDED   \n",
       "\n",
       "      Census Tract Council District Intake Type Intake Subtype Intake Date  \\\n",
       "4837         17101                8       STRAY       AT LARGE  2019-10-23   \n",
       "18488          NaN              NaN       STRAY            WEB  2020-02-20   \n",
       "22073          NaN              NaN       STRAY            WEB  2020-05-03   \n",
       "21122          NaN              NaN       STRAY            WEB  2020-03-20   \n",
       "19854          NaN              NaN       STRAY            WEB  2020-04-13   \n",
       "\n",
       "       ...    Due Out                        Intake Condition Hold Request  \\\n",
       "4837   ... 2019-10-27  TREATABLE REHABILITABLE NON-CONTAGIOUS   ADOP RESCU   \n",
       "18488  ... 2020-02-20                                  NORMAL          NaN   \n",
       "22073  ... 2020-05-03                                  NORMAL          NaN   \n",
       "21122  ... 2020-03-20                                  NORMAL          NaN   \n",
       "19854  ... 2020-04-14                                  NORMAL          NaN   \n",
       "\n",
       "      Outcome Type Outcome Subtype Outcome Date Outcome Time  \\\n",
       "4837      TRANSFER       TRANSPORT   2019-10-31     16:47:00   \n",
       "18488     LOST EXP           OTHER   2020-03-22     00:00:00   \n",
       "22073        OTHER           OTHER          NaT     00:00:00   \n",
       "21122     LOST EXP           OTHER   2020-04-20     00:00:00   \n",
       "19854        OTHER           OTHER          NaT     00:00:00   \n",
       "\n",
       "      Outcome Condition     Month    Year  \n",
       "4837                NaN  OCT.2019  FY2020  \n",
       "18488               NaN  FEB.2020  FY2020  \n",
       "22073               NaN  MAY.2020  FY2020  \n",
       "21122               NaN  MAR.2020  FY2020  \n",
       "19854               NaN  APR.2020  FY2020  \n",
       "\n",
       "[5 rows x 21 columns]"
      ]
     },
     "execution_count": 9,
     "metadata": {},
     "output_type": "execute_result"
    }
   ],
   "source": [
    "# Let's explore what these null entries look like\n",
    "\n",
    "# Identify columns with nulls\n",
    "cols = df.columns[df.isnull().any()]\n",
    "print(cols)\n",
    "\n",
    "# Look at the table\n",
    "df.loc[df['Outcome Condition'].isnull()].sample(5)\n",
    "# many of these animals have been sheltered > 7 days w/ outcome type = ['LOST EXP', 'FOUND EXP', 'OTHER']"
   ]
  },
  {
   "cell_type": "code",
   "execution_count": 10,
   "metadata": {},
   "outputs": [
    {
     "data": {
      "text/html": [
       "<div>\n",
       "<style scoped>\n",
       "    .dataframe tbody tr th:only-of-type {\n",
       "        vertical-align: middle;\n",
       "    }\n",
       "\n",
       "    .dataframe tbody tr th {\n",
       "        vertical-align: top;\n",
       "    }\n",
       "\n",
       "    .dataframe thead th {\n",
       "        text-align: right;\n",
       "    }\n",
       "</style>\n",
       "<table border=\"1\" class=\"dataframe\">\n",
       "  <thead>\n",
       "    <tr style=\"text-align: right;\">\n",
       "      <th></th>\n",
       "      <th>Animal Id</th>\n",
       "      <th>Animal Type</th>\n",
       "      <th>Animal Breed</th>\n",
       "      <th>Kennel Number</th>\n",
       "      <th>Kennel Status</th>\n",
       "      <th>Census Tract</th>\n",
       "      <th>Council District</th>\n",
       "      <th>Intake Type</th>\n",
       "      <th>Intake Subtype</th>\n",
       "      <th>Intake Date</th>\n",
       "      <th>...</th>\n",
       "      <th>Due Out</th>\n",
       "      <th>Intake Condition</th>\n",
       "      <th>Hold Request</th>\n",
       "      <th>Outcome Type</th>\n",
       "      <th>Outcome Subtype</th>\n",
       "      <th>Outcome Date</th>\n",
       "      <th>Outcome Time</th>\n",
       "      <th>Outcome Condition</th>\n",
       "      <th>Month</th>\n",
       "      <th>Year</th>\n",
       "    </tr>\n",
       "  </thead>\n",
       "  <tbody>\n",
       "    <tr>\n",
       "      <td>22143</td>\n",
       "      <td>A1100328</td>\n",
       "      <td>DOG</td>\n",
       "      <td>YORKSHIRE TERR</td>\n",
       "      <td>QD 30</td>\n",
       "      <td>RELEASED FROM QUARANTINE</td>\n",
       "      <td>17605</td>\n",
       "      <td>7</td>\n",
       "      <td>CONFISCATED</td>\n",
       "      <td>QUARANTINE</td>\n",
       "      <td>2020-04-24</td>\n",
       "      <td>...</td>\n",
       "      <td>2020-05-02</td>\n",
       "      <td>APP WNL</td>\n",
       "      <td>QUARANTINE</td>\n",
       "      <td>OTHER</td>\n",
       "      <td>OTHER</td>\n",
       "      <td>NaT</td>\n",
       "      <td>00:00:00</td>\n",
       "      <td>NaN</td>\n",
       "      <td>APR.2020</td>\n",
       "      <td>FY2020</td>\n",
       "    </tr>\n",
       "    <tr>\n",
       "      <td>22426</td>\n",
       "      <td>A1100708</td>\n",
       "      <td>CAT</td>\n",
       "      <td>DOMESTIC SH</td>\n",
       "      <td>AC 013</td>\n",
       "      <td>UNAVAILABLE</td>\n",
       "      <td>1002</td>\n",
       "      <td>2</td>\n",
       "      <td>STRAY</td>\n",
       "      <td>CONFINED</td>\n",
       "      <td>2020-05-04</td>\n",
       "      <td>...</td>\n",
       "      <td>2020-05-08</td>\n",
       "      <td>APP WNL</td>\n",
       "      <td>RESCU ONLY</td>\n",
       "      <td>TRANSFER</td>\n",
       "      <td>BEHAVIOR</td>\n",
       "      <td>NaT</td>\n",
       "      <td>00:00:00</td>\n",
       "      <td>APP WNL</td>\n",
       "      <td>MAY.2020</td>\n",
       "      <td>FY2020</td>\n",
       "    </tr>\n",
       "    <tr>\n",
       "      <td>22472</td>\n",
       "      <td>A1100915</td>\n",
       "      <td>CAT</td>\n",
       "      <td>DOMESTIC SH</td>\n",
       "      <td>N01</td>\n",
       "      <td>UNAVAILABLE</td>\n",
       "      <td>20400</td>\n",
       "      <td>2</td>\n",
       "      <td>STRAY</td>\n",
       "      <td>CONFINED</td>\n",
       "      <td>2020-05-08</td>\n",
       "      <td>...</td>\n",
       "      <td>2020-05-08</td>\n",
       "      <td>APP SICK</td>\n",
       "      <td>NEONATE</td>\n",
       "      <td>FOSTER</td>\n",
       "      <td>UNDERAGE</td>\n",
       "      <td>NaT</td>\n",
       "      <td>00:00:00</td>\n",
       "      <td>UNDERAGE</td>\n",
       "      <td>MAY.2020</td>\n",
       "      <td>FY2020</td>\n",
       "    </tr>\n",
       "    <tr>\n",
       "      <td>22536</td>\n",
       "      <td>A1100928</td>\n",
       "      <td>DOG</td>\n",
       "      <td>BEAGLE</td>\n",
       "      <td>LOST</td>\n",
       "      <td>IMPOUNDED</td>\n",
       "      <td>NaN</td>\n",
       "      <td>NaN</td>\n",
       "      <td>STRAY</td>\n",
       "      <td>WEB</td>\n",
       "      <td>2020-05-08</td>\n",
       "      <td>...</td>\n",
       "      <td>2020-05-08</td>\n",
       "      <td>NORMAL</td>\n",
       "      <td>NaN</td>\n",
       "      <td>OTHER</td>\n",
       "      <td>OTHER</td>\n",
       "      <td>NaT</td>\n",
       "      <td>00:00:00</td>\n",
       "      <td>NaN</td>\n",
       "      <td>MAY.2020</td>\n",
       "      <td>FY2020</td>\n",
       "    </tr>\n",
       "    <tr>\n",
       "      <td>19443</td>\n",
       "      <td>A1099836</td>\n",
       "      <td>DOG</td>\n",
       "      <td>LABRADOR RETR</td>\n",
       "      <td>LOST</td>\n",
       "      <td>IMPOUNDED</td>\n",
       "      <td>NaN</td>\n",
       "      <td>NaN</td>\n",
       "      <td>STRAY</td>\n",
       "      <td>WEB</td>\n",
       "      <td>2020-04-12</td>\n",
       "      <td>...</td>\n",
       "      <td>2020-04-13</td>\n",
       "      <td>NORMAL</td>\n",
       "      <td>NaN</td>\n",
       "      <td>OTHER</td>\n",
       "      <td>OTHER</td>\n",
       "      <td>NaT</td>\n",
       "      <td>00:00:00</td>\n",
       "      <td>NaN</td>\n",
       "      <td>APR.2020</td>\n",
       "      <td>FY2020</td>\n",
       "    </tr>\n",
       "  </tbody>\n",
       "</table>\n",
       "<p>5 rows × 21 columns</p>\n",
       "</div>"
      ],
      "text/plain": [
       "      Animal Id Animal Type    Animal Breed Kennel Number  \\\n",
       "22143  A1100328         DOG  YORKSHIRE TERR         QD 30   \n",
       "22426  A1100708         CAT     DOMESTIC SH        AC 013   \n",
       "22472  A1100915         CAT     DOMESTIC SH           N01   \n",
       "22536  A1100928         DOG          BEAGLE          LOST   \n",
       "19443  A1099836         DOG   LABRADOR RETR          LOST   \n",
       "\n",
       "                  Kennel Status Census Tract Council District  Intake Type  \\\n",
       "22143  RELEASED FROM QUARANTINE        17605                7  CONFISCATED   \n",
       "22426               UNAVAILABLE         1002                2        STRAY   \n",
       "22472               UNAVAILABLE        20400                2        STRAY   \n",
       "22536                 IMPOUNDED          NaN              NaN        STRAY   \n",
       "19443                 IMPOUNDED          NaN              NaN        STRAY   \n",
       "\n",
       "      Intake Subtype Intake Date  ...    Due Out Intake Condition  \\\n",
       "22143     QUARANTINE  2020-04-24  ... 2020-05-02          APP WNL   \n",
       "22426       CONFINED  2020-05-04  ... 2020-05-08          APP WNL   \n",
       "22472       CONFINED  2020-05-08  ... 2020-05-08         APP SICK   \n",
       "22536            WEB  2020-05-08  ... 2020-05-08           NORMAL   \n",
       "19443            WEB  2020-04-12  ... 2020-04-13           NORMAL   \n",
       "\n",
       "      Hold Request Outcome Type Outcome Subtype Outcome Date Outcome Time  \\\n",
       "22143   QUARANTINE        OTHER           OTHER          NaT     00:00:00   \n",
       "22426   RESCU ONLY     TRANSFER        BEHAVIOR          NaT     00:00:00   \n",
       "22472      NEONATE       FOSTER        UNDERAGE          NaT     00:00:00   \n",
       "22536          NaN        OTHER           OTHER          NaT     00:00:00   \n",
       "19443          NaN        OTHER           OTHER          NaT     00:00:00   \n",
       "\n",
       "      Outcome Condition     Month    Year  \n",
       "22143               NaN  APR.2020  FY2020  \n",
       "22426           APP WNL  MAY.2020  FY2020  \n",
       "22472          UNDERAGE  MAY.2020  FY2020  \n",
       "22536               NaN  MAY.2020  FY2020  \n",
       "19443               NaN  APR.2020  FY2020  \n",
       "\n",
       "[5 rows x 21 columns]"
      ]
     },
     "execution_count": 10,
     "metadata": {},
     "output_type": "execute_result"
    }
   ],
   "source": [
    "df.loc[df['Outcome Date'].isnull()].sample(5)\n",
    "# These animals most likely still at shelter"
   ]
  },
  {
   "cell_type": "code",
   "execution_count": 11,
   "metadata": {},
   "outputs": [
    {
     "name": "stdout",
     "output_type": "stream",
     "text": [
      "22424   2020-05-08\n",
      "22434   2020-05-08\n",
      "22475   2020-05-08\n",
      "22467   2020-05-08\n",
      "22466   2020-05-08\n",
      "Name: Outcome Date, dtype: datetime64[ns]\n"
     ]
    }
   ],
   "source": [
    "# Sanity check\n",
    "print(df['Outcome Date'].sort_values(ascending=False).head())\n",
    "# latest date is 5/8/20"
   ]
  },
  {
   "cell_type": "code",
   "execution_count": 12,
   "metadata": {
    "scrolled": true
   },
   "outputs": [
    {
     "data": {
      "text/html": [
       "<div>\n",
       "<style scoped>\n",
       "    .dataframe tbody tr th:only-of-type {\n",
       "        vertical-align: middle;\n",
       "    }\n",
       "\n",
       "    .dataframe tbody tr th {\n",
       "        vertical-align: top;\n",
       "    }\n",
       "\n",
       "    .dataframe thead th {\n",
       "        text-align: right;\n",
       "    }\n",
       "</style>\n",
       "<table border=\"1\" class=\"dataframe\">\n",
       "  <thead>\n",
       "    <tr style=\"text-align: right;\">\n",
       "      <th></th>\n",
       "      <th>Animal Id</th>\n",
       "      <th>Animal Type</th>\n",
       "      <th>Animal Breed</th>\n",
       "      <th>Kennel Number</th>\n",
       "      <th>Kennel Status</th>\n",
       "      <th>Census Tract</th>\n",
       "      <th>Council District</th>\n",
       "      <th>Intake Type</th>\n",
       "      <th>Intake Subtype</th>\n",
       "      <th>Intake Date</th>\n",
       "      <th>...</th>\n",
       "      <th>Due Out</th>\n",
       "      <th>Intake Condition</th>\n",
       "      <th>Hold Request</th>\n",
       "      <th>Outcome Type</th>\n",
       "      <th>Outcome Subtype</th>\n",
       "      <th>Outcome Date</th>\n",
       "      <th>Outcome Time</th>\n",
       "      <th>Outcome Condition</th>\n",
       "      <th>Month</th>\n",
       "      <th>Year</th>\n",
       "    </tr>\n",
       "  </thead>\n",
       "  <tbody>\n",
       "    <tr>\n",
       "      <td>11293</td>\n",
       "      <td>A1090200</td>\n",
       "      <td>DOG</td>\n",
       "      <td>BASSET HOUND</td>\n",
       "      <td>LOST</td>\n",
       "      <td>IMPOUNDED</td>\n",
       "      <td>NaN</td>\n",
       "      <td>NaN</td>\n",
       "      <td>STRAY</td>\n",
       "      <td>WEB</td>\n",
       "      <td>2019-12-01</td>\n",
       "      <td>...</td>\n",
       "      <td>2019-12-06</td>\n",
       "      <td>NORMAL</td>\n",
       "      <td>NaN</td>\n",
       "      <td>LOST EXP</td>\n",
       "      <td>OTHER</td>\n",
       "      <td>2020-01-06</td>\n",
       "      <td>00:00:00</td>\n",
       "      <td>NaN</td>\n",
       "      <td>DEC.2019</td>\n",
       "      <td>FY2020</td>\n",
       "    </tr>\n",
       "    <tr>\n",
       "      <td>3106</td>\n",
       "      <td>A1084748</td>\n",
       "      <td>DOG</td>\n",
       "      <td>JACK RUSS TERR</td>\n",
       "      <td>FOUND</td>\n",
       "      <td>IMPOUNDED</td>\n",
       "      <td>NaN</td>\n",
       "      <td>NaN</td>\n",
       "      <td>STRAY</td>\n",
       "      <td>WEB</td>\n",
       "      <td>2019-10-05</td>\n",
       "      <td>...</td>\n",
       "      <td>2019-10-07</td>\n",
       "      <td>NORMAL</td>\n",
       "      <td>NaN</td>\n",
       "      <td>FOUND EXP</td>\n",
       "      <td>OTHER</td>\n",
       "      <td>2019-11-07</td>\n",
       "      <td>00:00:00</td>\n",
       "      <td>NaN</td>\n",
       "      <td>OCT.2019</td>\n",
       "      <td>FY2020</td>\n",
       "    </tr>\n",
       "    <tr>\n",
       "      <td>4817</td>\n",
       "      <td>A1086374</td>\n",
       "      <td>DOG</td>\n",
       "      <td>BRITTANY</td>\n",
       "      <td>LOST</td>\n",
       "      <td>IMPOUNDED</td>\n",
       "      <td>NaN</td>\n",
       "      <td>NaN</td>\n",
       "      <td>STRAY</td>\n",
       "      <td>WEB</td>\n",
       "      <td>2019-10-20</td>\n",
       "      <td>...</td>\n",
       "      <td>2019-10-23</td>\n",
       "      <td>NORMAL</td>\n",
       "      <td>NaN</td>\n",
       "      <td>LOST EXP</td>\n",
       "      <td>OTHER</td>\n",
       "      <td>2019-11-23</td>\n",
       "      <td>00:00:00</td>\n",
       "      <td>NaN</td>\n",
       "      <td>OCT.2019</td>\n",
       "      <td>FY2020</td>\n",
       "    </tr>\n",
       "    <tr>\n",
       "      <td>4337</td>\n",
       "      <td>A1085904</td>\n",
       "      <td>CAT</td>\n",
       "      <td>BRITISH SH</td>\n",
       "      <td>FOUND</td>\n",
       "      <td>IMPOUNDED</td>\n",
       "      <td>NaN</td>\n",
       "      <td>NaN</td>\n",
       "      <td>STRAY</td>\n",
       "      <td>WEB</td>\n",
       "      <td>2019-10-17</td>\n",
       "      <td>...</td>\n",
       "      <td>2019-10-18</td>\n",
       "      <td>NORMAL</td>\n",
       "      <td>NaN</td>\n",
       "      <td>FOUND EXP</td>\n",
       "      <td>OTHER</td>\n",
       "      <td>2019-11-18</td>\n",
       "      <td>00:00:00</td>\n",
       "      <td>NaN</td>\n",
       "      <td>OCT.2019</td>\n",
       "      <td>FY2020</td>\n",
       "    </tr>\n",
       "    <tr>\n",
       "      <td>16076</td>\n",
       "      <td>A1093424</td>\n",
       "      <td>DOG</td>\n",
       "      <td>YORKSHIRE TERR</td>\n",
       "      <td>LOST</td>\n",
       "      <td>IMPOUNDED</td>\n",
       "      <td>NaN</td>\n",
       "      <td>NaN</td>\n",
       "      <td>STRAY</td>\n",
       "      <td>WEB</td>\n",
       "      <td>2020-01-14</td>\n",
       "      <td>...</td>\n",
       "      <td>2020-01-15</td>\n",
       "      <td>NORMAL</td>\n",
       "      <td>NaN</td>\n",
       "      <td>LOST EXP</td>\n",
       "      <td>OTHER</td>\n",
       "      <td>2020-02-15</td>\n",
       "      <td>00:00:00</td>\n",
       "      <td>NaN</td>\n",
       "      <td>JAN.2020</td>\n",
       "      <td>FY2020</td>\n",
       "    </tr>\n",
       "  </tbody>\n",
       "</table>\n",
       "<p>5 rows × 21 columns</p>\n",
       "</div>"
      ],
      "text/plain": [
       "      Animal Id Animal Type    Animal Breed Kennel Number Kennel Status  \\\n",
       "11293  A1090200         DOG    BASSET HOUND          LOST     IMPOUNDED   \n",
       "3106   A1084748         DOG  JACK RUSS TERR         FOUND     IMPOUNDED   \n",
       "4817   A1086374         DOG        BRITTANY          LOST     IMPOUNDED   \n",
       "4337   A1085904         CAT      BRITISH SH         FOUND     IMPOUNDED   \n",
       "16076  A1093424         DOG  YORKSHIRE TERR          LOST     IMPOUNDED   \n",
       "\n",
       "      Census Tract Council District Intake Type Intake Subtype Intake Date  \\\n",
       "11293          NaN              NaN       STRAY            WEB  2019-12-01   \n",
       "3106           NaN              NaN       STRAY            WEB  2019-10-05   \n",
       "4817           NaN              NaN       STRAY            WEB  2019-10-20   \n",
       "4337           NaN              NaN       STRAY            WEB  2019-10-17   \n",
       "16076          NaN              NaN       STRAY            WEB  2020-01-14   \n",
       "\n",
       "       ...    Due Out Intake Condition Hold Request Outcome Type  \\\n",
       "11293  ... 2019-12-06           NORMAL          NaN     LOST EXP   \n",
       "3106   ... 2019-10-07           NORMAL          NaN    FOUND EXP   \n",
       "4817   ... 2019-10-23           NORMAL          NaN     LOST EXP   \n",
       "4337   ... 2019-10-18           NORMAL          NaN    FOUND EXP   \n",
       "16076  ... 2020-01-15           NORMAL          NaN     LOST EXP   \n",
       "\n",
       "      Outcome Subtype Outcome Date Outcome Time Outcome Condition     Month  \\\n",
       "11293           OTHER   2020-01-06     00:00:00               NaN  DEC.2019   \n",
       "3106            OTHER   2019-11-07     00:00:00               NaN  OCT.2019   \n",
       "4817            OTHER   2019-11-23     00:00:00               NaN  OCT.2019   \n",
       "4337            OTHER   2019-11-18     00:00:00               NaN  OCT.2019   \n",
       "16076           OTHER   2020-02-15     00:00:00               NaN  JAN.2020   \n",
       "\n",
       "         Year  \n",
       "11293  FY2020  \n",
       "3106   FY2020  \n",
       "4817   FY2020  \n",
       "4337   FY2020  \n",
       "16076  FY2020  \n",
       "\n",
       "[5 rows x 21 columns]"
      ]
     },
     "execution_count": 12,
     "metadata": {},
     "output_type": "execute_result"
    }
   ],
   "source": [
    "df.loc[df['Census Tract'].isnull()].sample(5)"
   ]
  },
  {
   "cell_type": "code",
   "execution_count": 13,
   "metadata": {},
   "outputs": [
    {
     "data": {
      "text/html": [
       "<div>\n",
       "<style scoped>\n",
       "    .dataframe tbody tr th:only-of-type {\n",
       "        vertical-align: middle;\n",
       "    }\n",
       "\n",
       "    .dataframe tbody tr th {\n",
       "        vertical-align: top;\n",
       "    }\n",
       "\n",
       "    .dataframe thead th {\n",
       "        text-align: right;\n",
       "    }\n",
       "</style>\n",
       "<table border=\"1\" class=\"dataframe\">\n",
       "  <thead>\n",
       "    <tr style=\"text-align: right;\">\n",
       "      <th></th>\n",
       "      <th>Animal Id</th>\n",
       "      <th>Animal Type</th>\n",
       "      <th>Animal Breed</th>\n",
       "      <th>Kennel Number</th>\n",
       "      <th>Kennel Status</th>\n",
       "      <th>Census Tract</th>\n",
       "      <th>Council District</th>\n",
       "      <th>Intake Type</th>\n",
       "      <th>Intake Subtype</th>\n",
       "      <th>Intake Date</th>\n",
       "      <th>...</th>\n",
       "      <th>Due Out</th>\n",
       "      <th>Intake Condition</th>\n",
       "      <th>Hold Request</th>\n",
       "      <th>Outcome Type</th>\n",
       "      <th>Outcome Subtype</th>\n",
       "      <th>Outcome Date</th>\n",
       "      <th>Outcome Time</th>\n",
       "      <th>Outcome Condition</th>\n",
       "      <th>Month</th>\n",
       "      <th>Year</th>\n",
       "    </tr>\n",
       "  </thead>\n",
       "  <tbody>\n",
       "    <tr>\n",
       "      <td>13293</td>\n",
       "      <td>A1091702</td>\n",
       "      <td>DOG</td>\n",
       "      <td>GERM SHEPHERD</td>\n",
       "      <td>FOUND</td>\n",
       "      <td>IMPOUNDED</td>\n",
       "      <td>NaN</td>\n",
       "      <td>NaN</td>\n",
       "      <td>STRAY</td>\n",
       "      <td>WEB</td>\n",
       "      <td>2019-12-24</td>\n",
       "      <td>...</td>\n",
       "      <td>2019-12-24</td>\n",
       "      <td>NORMAL</td>\n",
       "      <td>NaN</td>\n",
       "      <td>FOUND EXP</td>\n",
       "      <td>OTHER</td>\n",
       "      <td>2020-01-24</td>\n",
       "      <td>00:00:00</td>\n",
       "      <td>NaN</td>\n",
       "      <td>DEC.2019</td>\n",
       "      <td>FY2020</td>\n",
       "    </tr>\n",
       "    <tr>\n",
       "      <td>5082</td>\n",
       "      <td>A1086630</td>\n",
       "      <td>DOG</td>\n",
       "      <td>PIT BULL</td>\n",
       "      <td>LOST</td>\n",
       "      <td>IMPOUNDED</td>\n",
       "      <td>NaN</td>\n",
       "      <td>NaN</td>\n",
       "      <td>STRAY</td>\n",
       "      <td>WEB</td>\n",
       "      <td>2019-10-01</td>\n",
       "      <td>...</td>\n",
       "      <td>2019-10-25</td>\n",
       "      <td>NORMAL</td>\n",
       "      <td>NaN</td>\n",
       "      <td>LOST EXP</td>\n",
       "      <td>OTHER</td>\n",
       "      <td>2019-11-25</td>\n",
       "      <td>00:00:00</td>\n",
       "      <td>NaN</td>\n",
       "      <td>OCT.2019</td>\n",
       "      <td>FY2020</td>\n",
       "    </tr>\n",
       "    <tr>\n",
       "      <td>21976</td>\n",
       "      <td>A1099420</td>\n",
       "      <td>DOG</td>\n",
       "      <td>SIBERIAN HUSKY</td>\n",
       "      <td>FOUND</td>\n",
       "      <td>IMPOUNDED</td>\n",
       "      <td>NaN</td>\n",
       "      <td>NaN</td>\n",
       "      <td>STRAY</td>\n",
       "      <td>WEB</td>\n",
       "      <td>2020-03-23</td>\n",
       "      <td>...</td>\n",
       "      <td>2020-04-01</td>\n",
       "      <td>NORMAL</td>\n",
       "      <td>NaN</td>\n",
       "      <td>FOUND EXP</td>\n",
       "      <td>OTHER</td>\n",
       "      <td>2020-05-02</td>\n",
       "      <td>00:00:00</td>\n",
       "      <td>NaN</td>\n",
       "      <td>MAR.2020</td>\n",
       "      <td>FY2020</td>\n",
       "    </tr>\n",
       "    <tr>\n",
       "      <td>17754</td>\n",
       "      <td>A1096169</td>\n",
       "      <td>DOG</td>\n",
       "      <td>LABRADOR RETR</td>\n",
       "      <td>PSDOG 16</td>\n",
       "      <td>UNAVAILABLE</td>\n",
       "      <td>NaN</td>\n",
       "      <td>NaN</td>\n",
       "      <td>OWNER SURRENDER</td>\n",
       "      <td>GENERAL</td>\n",
       "      <td>2020-02-16</td>\n",
       "      <td>...</td>\n",
       "      <td>2020-02-17</td>\n",
       "      <td>APP WNL</td>\n",
       "      <td>ADOP RESCU</td>\n",
       "      <td>ADOPTION</td>\n",
       "      <td>EAC</td>\n",
       "      <td>2020-02-24</td>\n",
       "      <td>17:47:00</td>\n",
       "      <td>APP WNL</td>\n",
       "      <td>FEB.2020</td>\n",
       "      <td>FY2020</td>\n",
       "    </tr>\n",
       "    <tr>\n",
       "      <td>21729</td>\n",
       "      <td>A1100223</td>\n",
       "      <td>CAT</td>\n",
       "      <td>DOMESTIC SH</td>\n",
       "      <td>F2</td>\n",
       "      <td>UNAVAILABLE</td>\n",
       "      <td>NaN</td>\n",
       "      <td>NaN</td>\n",
       "      <td>TREATMENT</td>\n",
       "      <td>ILLNESS</td>\n",
       "      <td>2020-04-27</td>\n",
       "      <td>...</td>\n",
       "      <td>2020-04-27</td>\n",
       "      <td>UNDERAGE</td>\n",
       "      <td>NEONATE</td>\n",
       "      <td>TREATMENT</td>\n",
       "      <td>COMPLETED</td>\n",
       "      <td>2020-04-28</td>\n",
       "      <td>08:26:00</td>\n",
       "      <td>UNDERAGE</td>\n",
       "      <td>APR.2020</td>\n",
       "      <td>FY2020</td>\n",
       "    </tr>\n",
       "  </tbody>\n",
       "</table>\n",
       "<p>5 rows × 21 columns</p>\n",
       "</div>"
      ],
      "text/plain": [
       "      Animal Id Animal Type    Animal Breed Kennel Number Kennel Status  \\\n",
       "13293  A1091702         DOG   GERM SHEPHERD         FOUND     IMPOUNDED   \n",
       "5082   A1086630         DOG        PIT BULL          LOST     IMPOUNDED   \n",
       "21976  A1099420         DOG  SIBERIAN HUSKY         FOUND     IMPOUNDED   \n",
       "17754  A1096169         DOG   LABRADOR RETR      PSDOG 16   UNAVAILABLE   \n",
       "21729  A1100223         CAT     DOMESTIC SH            F2   UNAVAILABLE   \n",
       "\n",
       "      Census Tract Council District      Intake Type Intake Subtype  \\\n",
       "13293          NaN              NaN            STRAY            WEB   \n",
       "5082           NaN              NaN            STRAY            WEB   \n",
       "21976          NaN              NaN            STRAY            WEB   \n",
       "17754          NaN              NaN  OWNER SURRENDER        GENERAL   \n",
       "21729          NaN              NaN        TREATMENT        ILLNESS   \n",
       "\n",
       "      Intake Date  ...    Due Out Intake Condition Hold Request Outcome Type  \\\n",
       "13293  2019-12-24  ... 2019-12-24           NORMAL          NaN    FOUND EXP   \n",
       "5082   2019-10-01  ... 2019-10-25           NORMAL          NaN     LOST EXP   \n",
       "21976  2020-03-23  ... 2020-04-01           NORMAL          NaN    FOUND EXP   \n",
       "17754  2020-02-16  ... 2020-02-17          APP WNL   ADOP RESCU     ADOPTION   \n",
       "21729  2020-04-27  ... 2020-04-27         UNDERAGE      NEONATE    TREATMENT   \n",
       "\n",
       "      Outcome Subtype Outcome Date Outcome Time Outcome Condition     Month  \\\n",
       "13293           OTHER   2020-01-24     00:00:00               NaN  DEC.2019   \n",
       "5082            OTHER   2019-11-25     00:00:00               NaN  OCT.2019   \n",
       "21976           OTHER   2020-05-02     00:00:00               NaN  MAR.2020   \n",
       "17754             EAC   2020-02-24     17:47:00           APP WNL  FEB.2020   \n",
       "21729       COMPLETED   2020-04-28     08:26:00          UNDERAGE  APR.2020   \n",
       "\n",
       "         Year  \n",
       "13293  FY2020  \n",
       "5082   FY2020  \n",
       "21976  FY2020  \n",
       "17754  FY2020  \n",
       "21729  FY2020  \n",
       "\n",
       "[5 rows x 21 columns]"
      ]
     },
     "execution_count": 13,
     "metadata": {},
     "output_type": "execute_result"
    }
   ],
   "source": [
    "df.loc[df['Council District'].isnull()].sample(5)"
   ]
  },
  {
   "cell_type": "code",
   "execution_count": 14,
   "metadata": {},
   "outputs": [
    {
     "data": {
      "text/plain": [
       "True"
      ]
     },
     "execution_count": 14,
     "metadata": {},
     "output_type": "execute_result"
    }
   ],
   "source": [
    "# Check if the missing values for 'Council District' and 'Census Tract' occur within the same records\n",
    "temp_df1 = df.loc[df['Council District'].isnull()]\n",
    "temp_df2 = df.loc[df['Census Tract'].isnull()]\n",
    "\n",
    "temp_df1.equals(temp_df2) # yes"
   ]
  },
  {
   "cell_type": "markdown",
   "metadata": {},
   "source": [
    "## Univariate Analysis - \"The Big Picture\""
   ]
  },
  {
   "cell_type": "markdown",
   "metadata": {},
   "source": [
    "### Types of Animals"
   ]
  },
  {
   "cell_type": "code",
   "execution_count": 52,
   "metadata": {},
   "outputs": [
    {
     "name": "stdout",
     "output_type": "stream",
     "text": [
      "Types of Animals:  ['DOG', 'CAT', 'BIRD', 'WILDLIFE', 'LIVESTOCK'] \n",
      "\n",
      "DOG          16617\n",
      "CAT           5143\n",
      "WILDLIFE       671\n",
      "BIRD           111\n",
      "LIVESTOCK       15\n",
      "Name: Animal Type, dtype: int64\n"
     ]
    },
    {
     "data": {
      "text/plain": [
       "<matplotlib.axes._subplots.AxesSubplot at 0x124358f98>"
      ]
     },
     "execution_count": 52,
     "metadata": {},
     "output_type": "execute_result"
    },
    {
     "data": {
      "image/png": "[encoded data removed]",
      "text/plain": [
       "<Figure size 864x576 with 1 Axes>"
      ]
     },
     "metadata": {
      "needs_background": "light"
     },
     "output_type": "display_data"
    }
   ],
   "source": [
    "# Explore the Animal Type field\n",
    "\n",
    "# List unique categories\n",
    "print('Types of Animals: ', list(df['Animal Type'].unique()), '\\n')\n",
    "\n",
    "# Frequency counts\n",
    "print(df['Animal Type'].value_counts())\n",
    "\n",
    "# simple bar chart\n",
    "df['Animal Type'].value_counts().plot.bar()\n",
    "\n",
    "# df['Animal Type'].value_counts().iplot(\n",
    "#     kind='bar', xTitle='Count', linecolor='black', orientation='v', color='blue', title='Distribution of Animal Types')"
   ]
  },
  {
   "cell_type": "code",
   "execution_count": 53,
   "metadata": {},
   "outputs": [
    {
     "data": {
      "text/plain": [
       "<matplotlib.axes._subplots.AxesSubplot at 0x1240ddba8>"
      ]
     },
     "execution_count": 53,
     "metadata": {},
     "output_type": "execute_result"
    },
    {
     "data": {
      "image/png": "[encoded data removed]",
      "text/plain": [
       "<Figure size 864x576 with 1 Axes>"
      ]
     },
     "metadata": {
      "needs_background": "light"
     },
     "output_type": "display_data"
    }
   ],
   "source": [
    "df['Animal Type'].value_counts(normalize=True).plot.bar()"
   ]
  },
  {
   "cell_type": "markdown",
   "metadata": {},
   "source": [
    "~75% of animals taken to shelters are dogs, followed by cats (~23%)."
   ]
  },
  {
   "cell_type": "markdown",
   "metadata": {},
   "source": [
    "### Location of Events"
   ]
  },
  {
   "cell_type": "code",
   "execution_count": 54,
   "metadata": {},
   "outputs": [
    {
     "name": "stdout",
     "output_type": "stream",
     "text": [
      "Total Census Tracts:  312\n",
      "Total Council Districts:  17\n"
     ]
    }
   ],
   "source": [
    "print('Total Census Tracts: ',len(df['Census Tract'].unique()))\n",
    "print('Total Council Districts: ',len(df['Council District'].unique()))"
   ]
  },
  {
   "cell_type": "markdown",
   "metadata": {},
   "source": [
    "#### Census Tracts"
   ]
  },
  {
   "cell_type": "code",
   "execution_count": 55,
   "metadata": {},
   "outputs": [
    {
     "name": "stdout",
     "output_type": "stream",
     "text": [
      "Top Census Tracts with Events Occuring: \n",
      "\n",
      "20500    3684\n",
      "11900     241\n",
      "11602     237\n",
      "17102     236\n",
      "8802      220\n",
      "11800     218\n",
      "11701     218\n",
      "10601     215\n",
      "9201      208\n",
      "17004     203\n",
      "Name: Census Tract, dtype: int64\n"
     ]
    },
    {
     "data": {
      "text/plain": [
       "<matplotlib.axes._subplots.AxesSubplot at 0x123d7e2e8>"
      ]
     },
     "execution_count": 55,
     "metadata": {},
     "output_type": "execute_result"
    },
    {
     "data": {
      "image/png": "[encoded data removed]",
      "text/plain": [
       "<Figure size 864x576 with 1 Axes>"
      ]
     },
     "metadata": {
      "needs_background": "light"
     },
     "output_type": "display_data"
    }
   ],
   "source": [
    "# Explore frequency of animal rescues by census tracts\n",
    "print('Top Census Tracts with Events Occuring:', '\\n')\n",
    "print(df['Census Tract'].value_counts().sort_values(ascending=False).head(10))\n",
    "\n",
    "tract_freq = df['Census Tract'].value_counts()\n",
    "tract_freq.loc[tract_freq<250].plot(kind='hist')\n",
    "# df['Animal Type'].value_counts().plot.bar()"
   ]
  },
  {
   "cell_type": "code",
   "execution_count": 56,
   "metadata": {},
   "outputs": [
    {
     "data": {
      "text/plain": [
       "<matplotlib.axes._subplots.AxesSubplot at 0x124154c88>"
      ]
     },
     "execution_count": 56,
     "metadata": {},
     "output_type": "execute_result"
    },
    {
     "data": {
      "image/png": "[encoded data removed]",
      "text/plain": [
       "<Figure size 864x576 with 1 Axes>"
      ]
     },
     "metadata": {
      "needs_background": "light"
     },
     "output_type": "display_data"
    }
   ],
   "source": [
    "# Alternatively\n",
    "tract_freq.loc[tract_freq<250].to_frame().boxplot()"
   ]
  },
  {
   "cell_type": "markdown",
   "metadata": {},
   "source": [
    "What stands out here is that 75% of census tracts have fewer than 75 cases, while census tract 20500 is a clear outlier with 3684 cases."
   ]
  },
  {
   "cell_type": "markdown",
   "metadata": {},
   "source": [
    "#### Council Districts"
   ]
  },
  {
   "cell_type": "code",
   "execution_count": 57,
   "metadata": {},
   "outputs": [
    {
     "data": {
      "text/plain": [
       "6     5158\n",
       "4     2404\n",
       "8     2238\n",
       "5     2069\n",
       "7     1609\n",
       "1     1436\n",
       "3     1413\n",
       "2      869\n",
       "9      751\n",
       "10     456\n",
       "14     392\n",
       "13     392\n",
       "11     347\n",
       "12     250\n",
       "Name: Council District, dtype: int64"
      ]
     },
     "execution_count": 57,
     "metadata": {},
     "output_type": "execute_result"
    }
   ],
   "source": [
    "district_freq = df['Council District'].value_counts().drop(labels=['AS',0])\n",
    "district_freq"
   ]
  },
  {
   "cell_type": "markdown",
   "metadata": {},
   "source": [
    "#### Frequency of Events by Council District"
   ]
  },
  {
   "cell_type": "code",
   "execution_count": 58,
   "metadata": {},
   "outputs": [
    {
     "data": {
      "text/plain": [
       "<matplotlib.axes._subplots.AxesSubplot at 0x124273b00>"
      ]
     },
     "execution_count": 58,
     "metadata": {},
     "output_type": "execute_result"
    },
    {
     "data": {
      "image/png": "[encoded data removed]",
      "text/plain": [
       "<Figure size 864x576 with 1 Axes>"
      ]
     },
     "metadata": {
      "needs_background": "light"
     },
     "output_type": "display_data"
    }
   ],
   "source": [
    "sns.barplot(x=district_freq.index, y = district_freq, order=district_freq.index)"
   ]
  },
  {
   "cell_type": "code",
   "execution_count": 59,
   "metadata": {},
   "outputs": [
    {
     "data": {
      "text/plain": [
       "<matplotlib.axes._subplots.AxesSubplot at 0x123e2d5c0>"
      ]
     },
     "execution_count": 59,
     "metadata": {},
     "output_type": "execute_result"
    },
    {
     "data": {
      "image/png": "[encoded data removed]",
      "text/plain": [
       "<Figure size 864x576 with 1 Axes>"
      ]
     },
     "metadata": {
      "needs_background": "light"
     },
     "output_type": "display_data"
    }
   ],
   "source": [
    "trace = df['Council District'].value_counts(normalize=True).drop(labels=['AS',0])\n",
    "\n",
    "sns.barplot(x=district_freq.index, y = trace, order=district_freq.index)"
   ]
  },
  {
   "cell_type": "markdown",
   "metadata": {},
   "source": [
    "District 6 has the highest frequency of animal shelter intakes (~26%)."
   ]
  },
  {
   "cell_type": "markdown",
   "metadata": {},
   "source": [
    "### Intake Type"
   ]
  },
  {
   "cell_type": "code",
   "execution_count": 60,
   "metadata": {},
   "outputs": [
    {
     "name": "stdout",
     "output_type": "stream",
     "text": [
      "Total Intake Types:  9\n"
     ]
    },
    {
     "data": {
      "text/plain": [
       "STRAY              13010\n",
       "OWNER SURRENDER     4500\n",
       "FOSTER              2414\n",
       "CONFISCATED          865\n",
       "TREATMENT            843\n",
       "WILDLIFE             532\n",
       "TRANSFER             350\n",
       "KEEPSAFE              33\n",
       "DISPOS REQ            10\n",
       "Name: Intake Type, dtype: int64"
      ]
     },
     "execution_count": 60,
     "metadata": {},
     "output_type": "execute_result"
    }
   ],
   "source": [
    "print('Total Intake Types: ', len(df['Intake Type'].unique()))\n",
    "intake_freq = df['Intake Type'].value_counts()\n",
    "intake_freq"
   ]
  },
  {
   "cell_type": "code",
   "execution_count": 61,
   "metadata": {},
   "outputs": [
    {
     "data": {
      "text/plain": [
       "<matplotlib.axes._subplots.AxesSubplot at 0x12419d550>"
      ]
     },
     "execution_count": 61,
     "metadata": {},
     "output_type": "execute_result"
    },
    {
     "data": {
      "image/png": "[encoded data removed]",
      "text/plain": [
       "<Figure size 864x576 with 1 Axes>"
      ]
     },
     "metadata": {
      "needs_background": "light"
     },
     "output_type": "display_data"
    }
   ],
   "source": [
    "df['Intake Type'].value_counts().plot.bar()"
   ]
  },
  {
   "cell_type": "code",
   "execution_count": 62,
   "metadata": {
    "scrolled": false
   },
   "outputs": [
    {
     "data": {
      "text/plain": [
       "<matplotlib.axes._subplots.AxesSubplot at 0x124084c50>"
      ]
     },
     "execution_count": 62,
     "metadata": {},
     "output_type": "execute_result"
    },
    {
     "data": {
      "image/png": "[encoded data removed]",
      "text/plain": [
       "<Figure size 864x576 with 1 Axes>"
      ]
     },
     "metadata": {
      "needs_background": "light"
     },
     "output_type": "display_data"
    }
   ],
   "source": [
    "df['Intake Type'].value_counts(normalize=True).plot.bar()"
   ]
  },
  {
   "cell_type": "markdown",
   "metadata": {},
   "source": [
    "We can see that the majority of shelter animals are strays (~57%). With ~80% being strays or surrendered animals."
   ]
  },
  {
   "cell_type": "markdown",
   "metadata": {},
   "source": [
    "### Intake Date"
   ]
  },
  {
   "cell_type": "markdown",
   "metadata": {},
   "source": [
    "When are these events occurring during the year?\n",
    "Aggregate by day/week/month/year. Explore popular days of the week."
   ]
  },
  {
   "cell_type": "code",
   "execution_count": 63,
   "metadata": {},
   "outputs": [
    {
     "data": {
      "text/html": [
       "<div>\n",
       "<style scoped>\n",
       "    .dataframe tbody tr th:only-of-type {\n",
       "        vertical-align: middle;\n",
       "    }\n",
       "\n",
       "    .dataframe tbody tr th {\n",
       "        vertical-align: top;\n",
       "    }\n",
       "\n",
       "    .dataframe thead th {\n",
       "        text-align: right;\n",
       "    }\n",
       "</style>\n",
       "<table border=\"1\" class=\"dataframe\">\n",
       "  <thead>\n",
       "    <tr style=\"text-align: right;\">\n",
       "      <th></th>\n",
       "      <th>Animal Id</th>\n",
       "      <th>Animal Type</th>\n",
       "      <th>Animal Breed</th>\n",
       "      <th>Kennel Number</th>\n",
       "      <th>Kennel Status</th>\n",
       "      <th>Census Tract</th>\n",
       "      <th>Council District</th>\n",
       "      <th>Intake Type</th>\n",
       "      <th>Intake Subtype</th>\n",
       "      <th>Intake Date</th>\n",
       "      <th>...</th>\n",
       "      <th>Outcome Type</th>\n",
       "      <th>Outcome Subtype</th>\n",
       "      <th>Outcome Date</th>\n",
       "      <th>Outcome Time</th>\n",
       "      <th>Outcome Condition</th>\n",
       "      <th>Month</th>\n",
       "      <th>Year</th>\n",
       "      <th>Intake Date Month</th>\n",
       "      <th>Day of the Week</th>\n",
       "      <th>Time at Shelter</th>\n",
       "    </tr>\n",
       "  </thead>\n",
       "  <tbody>\n",
       "    <tr>\n",
       "      <td>0</td>\n",
       "      <td>A0144701</td>\n",
       "      <td>DOG</td>\n",
       "      <td>HAVANESE</td>\n",
       "      <td>VT 12</td>\n",
       "      <td>IMPOUNDED</td>\n",
       "      <td>6301</td>\n",
       "      <td>4</td>\n",
       "      <td>OWNER SURRENDER</td>\n",
       "      <td>GENERAL</td>\n",
       "      <td>2019-11-08</td>\n",
       "      <td>...</td>\n",
       "      <td>RETURNED TO OWNER</td>\n",
       "      <td>WALK IN</td>\n",
       "      <td>2019-11-09</td>\n",
       "      <td>11:31:00</td>\n",
       "      <td>APP SICK</td>\n",
       "      <td>NOV.2019</td>\n",
       "      <td>FY2020</td>\n",
       "      <td>2019-11-01</td>\n",
       "      <td>Friday</td>\n",
       "      <td>1.0</td>\n",
       "    </tr>\n",
       "    <tr>\n",
       "      <td>1</td>\n",
       "      <td>A0442587</td>\n",
       "      <td>DOG</td>\n",
       "      <td>TERRIER MIX</td>\n",
       "      <td>FREEZER</td>\n",
       "      <td>IMPOUNDED</td>\n",
       "      <td>7102</td>\n",
       "      <td>2</td>\n",
       "      <td>OWNER SURRENDER</td>\n",
       "      <td>DEAD ON ARRIVAL</td>\n",
       "      <td>2019-11-10</td>\n",
       "      <td>...</td>\n",
       "      <td>DEAD ON ARRIVAL</td>\n",
       "      <td>DISPOSAL</td>\n",
       "      <td>2019-11-10</td>\n",
       "      <td>00:00:00</td>\n",
       "      <td>DEAD</td>\n",
       "      <td>NOV.2019</td>\n",
       "      <td>FY2020</td>\n",
       "      <td>2019-11-01</td>\n",
       "      <td>Sunday</td>\n",
       "      <td>0.0</td>\n",
       "    </tr>\n",
       "    <tr>\n",
       "      <td>2</td>\n",
       "      <td>A0458972</td>\n",
       "      <td>DOG</td>\n",
       "      <td>CATAHOULA</td>\n",
       "      <td>RECEIVING</td>\n",
       "      <td>UNAVAILABLE</td>\n",
       "      <td>4600</td>\n",
       "      <td>1</td>\n",
       "      <td>STRAY</td>\n",
       "      <td>AT LARGE</td>\n",
       "      <td>2019-10-03</td>\n",
       "      <td>...</td>\n",
       "      <td>RETURNED TO OWNER</td>\n",
       "      <td>FIELD</td>\n",
       "      <td>2019-10-03</td>\n",
       "      <td>13:36:00</td>\n",
       "      <td>TREATABLE REHABILITABLE NON-CONTAGIOUS</td>\n",
       "      <td>OCT.2019</td>\n",
       "      <td>FY2020</td>\n",
       "      <td>2019-10-01</td>\n",
       "      <td>Thursday</td>\n",
       "      <td>0.0</td>\n",
       "    </tr>\n",
       "    <tr>\n",
       "      <td>3</td>\n",
       "      <td>A0525642</td>\n",
       "      <td>DOG</td>\n",
       "      <td>GERM SHEPHERD</td>\n",
       "      <td>INJD 001</td>\n",
       "      <td>IMPOUNDED</td>\n",
       "      <td>16605</td>\n",
       "      <td>8</td>\n",
       "      <td>OWNER SURRENDER</td>\n",
       "      <td>GENERAL</td>\n",
       "      <td>2019-10-11</td>\n",
       "      <td>...</td>\n",
       "      <td>TRANSFER</td>\n",
       "      <td>MEDICAL-CONTAGIOUS</td>\n",
       "      <td>2019-10-15</td>\n",
       "      <td>17:35:00</td>\n",
       "      <td>TREATABLE REHABILITABLE NON-CONTAGIOUS</td>\n",
       "      <td>OCT.2019</td>\n",
       "      <td>FY2020</td>\n",
       "      <td>2019-10-01</td>\n",
       "      <td>Friday</td>\n",
       "      <td>4.0</td>\n",
       "    </tr>\n",
       "    <tr>\n",
       "      <td>4</td>\n",
       "      <td>A0565586</td>\n",
       "      <td>DOG</td>\n",
       "      <td>SILKY TERRIER</td>\n",
       "      <td>LFD 119</td>\n",
       "      <td>UNAVAILABLE</td>\n",
       "      <td>6900</td>\n",
       "      <td>1</td>\n",
       "      <td>STRAY</td>\n",
       "      <td>AT LARGE</td>\n",
       "      <td>2019-11-08</td>\n",
       "      <td>...</td>\n",
       "      <td>RETURNED TO OWNER</td>\n",
       "      <td>WALK IN</td>\n",
       "      <td>2019-11-09</td>\n",
       "      <td>12:57:00</td>\n",
       "      <td>APP WNL</td>\n",
       "      <td>NOV.2019</td>\n",
       "      <td>FY2020</td>\n",
       "      <td>2019-11-01</td>\n",
       "      <td>Friday</td>\n",
       "      <td>1.0</td>\n",
       "    </tr>\n",
       "  </tbody>\n",
       "</table>\n",
       "<p>5 rows × 24 columns</p>\n",
       "</div>"
      ],
      "text/plain": [
       "  Animal Id Animal Type   Animal Breed Kennel Number Kennel Status  \\\n",
       "0  A0144701         DOG       HAVANESE         VT 12     IMPOUNDED   \n",
       "1  A0442587         DOG    TERRIER MIX       FREEZER     IMPOUNDED   \n",
       "2  A0458972         DOG      CATAHOULA     RECEIVING   UNAVAILABLE   \n",
       "3  A0525642         DOG  GERM SHEPHERD      INJD 001     IMPOUNDED   \n",
       "4  A0565586         DOG  SILKY TERRIER       LFD 119   UNAVAILABLE   \n",
       "\n",
       "  Census Tract Council District      Intake Type   Intake Subtype Intake Date  \\\n",
       "0         6301                4  OWNER SURRENDER          GENERAL  2019-11-08   \n",
       "1         7102                2  OWNER SURRENDER  DEAD ON ARRIVAL  2019-11-10   \n",
       "2         4600                1            STRAY         AT LARGE  2019-10-03   \n",
       "3        16605                8  OWNER SURRENDER          GENERAL  2019-10-11   \n",
       "4         6900                1            STRAY         AT LARGE  2019-11-08   \n",
       "\n",
       "   ...       Outcome Type     Outcome Subtype Outcome Date Outcome Time  \\\n",
       "0  ...  RETURNED TO OWNER             WALK IN   2019-11-09     11:31:00   \n",
       "1  ...    DEAD ON ARRIVAL            DISPOSAL   2019-11-10     00:00:00   \n",
       "2  ...  RETURNED TO OWNER               FIELD   2019-10-03     13:36:00   \n",
       "3  ...           TRANSFER  MEDICAL-CONTAGIOUS   2019-10-15     17:35:00   \n",
       "4  ...  RETURNED TO OWNER             WALK IN   2019-11-09     12:57:00   \n",
       "\n",
       "                        Outcome Condition     Month    Year Intake Date Month  \\\n",
       "0                                APP SICK  NOV.2019  FY2020        2019-11-01   \n",
       "1                                    DEAD  NOV.2019  FY2020        2019-11-01   \n",
       "2  TREATABLE REHABILITABLE NON-CONTAGIOUS  OCT.2019  FY2020        2019-10-01   \n",
       "3  TREATABLE REHABILITABLE NON-CONTAGIOUS  OCT.2019  FY2020        2019-10-01   \n",
       "4                                 APP WNL  NOV.2019  FY2020        2019-11-01   \n",
       "\n",
       "  Day of the Week Time at Shelter  \n",
       "0          Friday             1.0  \n",
       "1          Sunday             0.0  \n",
       "2        Thursday             0.0  \n",
       "3          Friday             4.0  \n",
       "4          Friday             1.0  \n",
       "\n",
       "[5 rows x 24 columns]"
      ]
     },
     "execution_count": 63,
     "metadata": {},
     "output_type": "execute_result"
    }
   ],
   "source": [
    "df.head()"
   ]
  },
  {
   "cell_type": "code",
   "execution_count": 64,
   "metadata": {},
   "outputs": [
    {
     "data": {
      "text/plain": [
       "Intake Date\n",
       "2019-10-01    135\n",
       "2019-10-02    119\n",
       "2019-10-03    135\n",
       "2019-10-04    156\n",
       "2019-10-05    149\n",
       "Name: Animal Id, dtype: int64"
      ]
     },
     "execution_count": 64,
     "metadata": {},
     "output_type": "execute_result"
    }
   ],
   "source": [
    "df.groupby('Intake Date').count().head().iloc[:,0]"
   ]
  },
  {
   "cell_type": "markdown",
   "metadata": {},
   "source": [
    "#### Daily Frequency"
   ]
  },
  {
   "cell_type": "code",
   "execution_count": 65,
   "metadata": {},
   "outputs": [
    {
     "data": {
      "text/plain": [
       "<matplotlib.axes._subplots.AxesSubplot at 0x12433fe48>"
      ]
     },
     "execution_count": 65,
     "metadata": {},
     "output_type": "execute_result"
    },
    {
     "data": {
      "image/png": "[encoded data removed]",
      "text/plain": [
       "<Figure size 864x576 with 1 Axes>"
      ]
     },
     "metadata": {
      "needs_background": "light"
     },
     "output_type": "display_data"
    }
   ],
   "source": [
    "df.groupby('Intake Date').count().iloc[:,0].plot()"
   ]
  },
  {
   "cell_type": "markdown",
   "metadata": {},
   "source": [
    "#### Monthly Frequency"
   ]
  },
  {
   "cell_type": "code",
   "execution_count": 66,
   "metadata": {},
   "outputs": [],
   "source": [
    "# Truncate yyyy-mm-dd to yyyy-mm\n",
    "df['Intake Date Month']=df['Intake Date'].dt.to_period('m').dt.to_timestamp()"
   ]
  },
  {
   "cell_type": "code",
   "execution_count": 67,
   "metadata": {},
   "outputs": [
    {
     "data": {
      "text/plain": [
       "<matplotlib.axes._subplots.AxesSubplot at 0x123891080>"
      ]
     },
     "execution_count": 67,
     "metadata": {},
     "output_type": "execute_result"
    },
    {
     "data": {
      "image/png": "[encoded data removed]",
      "text/plain": [
       "<Figure size 864x576 with 1 Axes>"
      ]
     },
     "metadata": {
      "needs_background": "light"
     },
     "output_type": "display_data"
    }
   ],
   "source": [
    "df.groupby('Intake Date Month').count().iloc[:,0].plot()"
   ]
  },
  {
   "cell_type": "markdown",
   "metadata": {},
   "source": [
    "There is a steady decline in cases over the fiscal year. Possibly due to COVID!"
   ]
  },
  {
   "cell_type": "markdown",
   "metadata": {},
   "source": [
    "#### Frequency by Day of the Week"
   ]
  },
  {
   "cell_type": "code",
   "execution_count": 68,
   "metadata": {},
   "outputs": [
    {
     "data": {
      "text/plain": [
       "<matplotlib.axes._subplots.AxesSubplot at 0x122a2f390>"
      ]
     },
     "execution_count": 68,
     "metadata": {},
     "output_type": "execute_result"
    },
    {
     "data": {
      "image/png": "[encoded data removed]",
      "text/plain": [
       "<Figure size 864x576 with 1 Axes>"
      ]
     },
     "metadata": {
      "needs_background": "light"
     },
     "output_type": "display_data"
    }
   ],
   "source": [
    "# Create a new 'day of the week' column\n",
    "df['Day of the Week'] = df['Intake Date'].dt.day_name()\n",
    "\n",
    "trace2 = df['Day of the Week'].value_counts().reindex(\n",
    "    index = ['Monday','Tuesday','Wednesday','Thursday','Friday','Saturday','Sunday'])\n",
    "fig=plt.figure(figsize=(12,8))\n",
    "trace2.plot.bar()"
   ]
  },
  {
   "cell_type": "markdown",
   "metadata": {},
   "source": [
    "No clear indication of day of the week differences. Can perform hypothesis testing to validate further."
   ]
  },
  {
   "cell_type": "markdown",
   "metadata": {},
   "source": [
    "### Time Spent at Shelter"
   ]
  },
  {
   "cell_type": "markdown",
   "metadata": {},
   "source": [
    "How long do these animals stay at the shelter?"
   ]
  },
  {
   "cell_type": "code",
   "execution_count": 69,
   "metadata": {},
   "outputs": [],
   "source": [
    "# Create new 'time at shelter' column\n",
    "df['Time at Shelter'] = (df['Outcome Date']-df['Intake Date']).astype('timedelta64[D]')"
   ]
  },
  {
   "cell_type": "markdown",
   "metadata": {},
   "source": [
    "Descriptive Statistics:"
   ]
  },
  {
   "cell_type": "code",
   "execution_count": 70,
   "metadata": {},
   "outputs": [
    {
     "data": {
      "text/plain": [
       "count    22190.000000\n",
       "mean         5.543758\n",
       "std          9.850340\n",
       "min          0.000000\n",
       "25%          0.000000\n",
       "50%          2.000000\n",
       "75%          6.000000\n",
       "max        140.000000\n",
       "Name: Time at Shelter, dtype: float64"
      ]
     },
     "execution_count": 70,
     "metadata": {},
     "output_type": "execute_result"
    }
   ],
   "source": [
    "df['Time at Shelter'].dropna().describe()"
   ]
  },
  {
   "cell_type": "code",
   "execution_count": 71,
   "metadata": {},
   "outputs": [
    {
     "data": {
      "text/plain": [
       "<matplotlib.axes._subplots.AxesSubplot at 0x1223ffb00>"
      ]
     },
     "execution_count": 71,
     "metadata": {},
     "output_type": "execute_result"
    },
    {
     "data": {
      "image/png": "[encoded data removed]",
      "text/plain": [
       "<Figure size 864x576 with 1 Axes>"
      ]
     },
     "metadata": {
      "needs_background": "light"
     },
     "output_type": "display_data"
    }
   ],
   "source": [
    "sns.distplot(df['Time at Shelter'].dropna())"
   ]
  },
  {
   "cell_type": "markdown",
   "metadata": {},
   "source": [
    "Slight bimodal distribution with a separate peak at around ~30 days."
   ]
  },
  {
   "cell_type": "markdown",
   "metadata": {},
   "source": [
    "#### Segmenting by Intake Type"
   ]
  },
  {
   "cell_type": "code",
   "execution_count": 72,
   "metadata": {},
   "outputs": [
    {
     "data": {
      "text/plain": [
       "<matplotlib.legend.Legend at 0x1232825c0>"
      ]
     },
     "execution_count": 72,
     "metadata": {},
     "output_type": "execute_result"
    },
    {
     "data": {
      "image/png": "[encoded data removed]",
      "text/plain": [
       "<Figure size 864x576 with 1 Axes>"
      ]
     },
     "metadata": {
      "needs_background": "light"
     },
     "output_type": "display_data"
    }
   ],
   "source": [
    "sns.distplot(df.loc[df['Intake Type']=='STRAY']['Time at Shelter'].dropna() , color=\"skyblue\", label=\"Strays\")\n",
    "plt.legend()"
   ]
  },
  {
   "cell_type": "code",
   "execution_count": 73,
   "metadata": {},
   "outputs": [
    {
     "data": {
      "text/plain": [
       "<matplotlib.legend.Legend at 0x1236235c0>"
      ]
     },
     "execution_count": 73,
     "metadata": {},
     "output_type": "execute_result"
    },
    {
     "data": {
      "image/png": "[encoded data removed]",
      "text/plain": [
       "<Figure size 864x576 with 1 Axes>"
      ]
     },
     "metadata": {
      "needs_background": "light"
     },
     "output_type": "display_data"
    }
   ],
   "source": [
    "sns.distplot(df.loc[df['Intake Type']!='STRAY']['Time at Shelter'].dropna() , color=\"red\", label=\"Non-Strays\")\n",
    "plt.legend()"
   ]
  },
  {
   "cell_type": "markdown",
   "metadata": {},
   "source": [
    "Stray animals account for much of the bimodal distribution. The distribution is also less skewed to the right, with stray animals staying at the shelter for longer than other animals."
   ]
  },
  {
   "cell_type": "markdown",
   "metadata": {},
   "source": [
    "### Intake Condition"
   ]
  },
  {
   "cell_type": "code",
   "execution_count": 74,
   "metadata": {},
   "outputs": [
    {
     "name": "stdout",
     "output_type": "stream",
     "text": [
      "Total Intake Conditions:  17\n"
     ]
    },
    {
     "data": {
      "text/plain": [
       "array(['APP SICK', 'DEAD', 'TREATABLE REHABILITABLE NON-CONTAGIOUS',\n",
       "       'APP WNL', 'UNHEALTHY UNTREATABLE NON-CONTAGIOUS', 'CRITICAL',\n",
       "       'APP INJ', 'UNKNOWN', 'UNHEALTHY UNTREATABLE CONTAGIOUS',\n",
       "       'TREATABLE MANAGEABLE NON-CONTAGIOUS', 'NORMAL',\n",
       "       'TREATABLE MANAGEABLE CONTAGIOUS', 'HEALTHY',\n",
       "       'TREATABLE REHABILITABLE CONTAGIOUS', 'UNDERAGE', 'FATAL',\n",
       "       'DECEASED'], dtype=object)"
      ]
     },
     "execution_count": 74,
     "metadata": {},
     "output_type": "execute_result"
    }
   ],
   "source": [
    "print('Total Intake Conditions: ', len(df['Intake Condition'].unique()))\n",
    "df['Intake Condition'].unique()"
   ]
  },
  {
   "cell_type": "code",
   "execution_count": 75,
   "metadata": {},
   "outputs": [
    {
     "data": {
      "text/plain": [
       "APP WNL                                   14082\n",
       "TREATABLE REHABILITABLE NON-CONTAGIOUS     3255\n",
       "NORMAL                                     1328\n",
       "UNKNOWN                                     980\n",
       "APP SICK                                    830\n",
       "APP INJ                                     757\n",
       "UNDERAGE                                    535\n",
       "CRITICAL                                    187\n",
       "UNHEALTHY UNTREATABLE NON-CONTAGIOUS        150\n",
       "DEAD                                        145\n",
       "HEALTHY                                     115\n",
       "TREATABLE MANAGEABLE NON-CONTAGIOUS          80\n",
       "DECEASED                                     61\n",
       "TREATABLE REHABILITABLE CONTAGIOUS           32\n",
       "FATAL                                        12\n",
       "TREATABLE MANAGEABLE CONTAGIOUS               5\n",
       "UNHEALTHY UNTREATABLE CONTAGIOUS              3\n",
       "Name: Intake Condition, dtype: int64"
      ]
     },
     "execution_count": 75,
     "metadata": {},
     "output_type": "execute_result"
    }
   ],
   "source": [
    "intake_cond = df['Intake Condition'].value_counts()\n",
    "intake_cond\n",
    "\n",
    "# APP WNL = Within Normal Limits\n",
    "# APP INJ = Injured"
   ]
  },
  {
   "cell_type": "code",
   "execution_count": 76,
   "metadata": {},
   "outputs": [
    {
     "data": {
      "text/plain": [
       "<matplotlib.axes._subplots.AxesSubplot at 0x1236fe518>"
      ]
     },
     "execution_count": 76,
     "metadata": {},
     "output_type": "execute_result"
    },
    {
     "data": {
      "image/png": "[encoded data removed]",
      "text/plain": [
       "<Figure size 864x576 with 1 Axes>"
      ]
     },
     "metadata": {
      "needs_background": "light"
     },
     "output_type": "display_data"
    }
   ],
   "source": [
    "trace3 = df['Intake Condition'].value_counts(normalize=True)\n",
    "\n",
    "sns.barplot(x = trace3, y=trace3.index, orient = 'h')"
   ]
  },
  {
   "cell_type": "code",
   "execution_count": 77,
   "metadata": {},
   "outputs": [
    {
     "data": {
      "text/plain": [
       "APP WNL                                   0.624285\n",
       "TREATABLE REHABILITABLE NON-CONTAGIOUS    0.144301\n",
       "NORMAL                                    0.058873\n",
       "UNKNOWN                                   0.043445\n",
       "APP SICK                                  0.036796\n",
       "APP INJ                                   0.033559\n",
       "UNDERAGE                                  0.023718\n",
       "CRITICAL                                  0.008290\n",
       "UNHEALTHY UNTREATABLE NON-CONTAGIOUS      0.006650\n",
       "DEAD                                      0.006428\n",
       "HEALTHY                                   0.005098\n",
       "TREATABLE MANAGEABLE NON-CONTAGIOUS       0.003547\n",
       "DECEASED                                  0.002704\n",
       "TREATABLE REHABILITABLE CONTAGIOUS        0.001419\n",
       "FATAL                                     0.000532\n",
       "TREATABLE MANAGEABLE CONTAGIOUS           0.000222\n",
       "UNHEALTHY UNTREATABLE CONTAGIOUS          0.000133\n",
       "Name: Intake Condition, dtype: float64"
      ]
     },
     "execution_count": 77,
     "metadata": {},
     "output_type": "execute_result"
    }
   ],
   "source": [
    "trace3"
   ]
  },
  {
   "cell_type": "markdown",
   "metadata": {},
   "source": [
    "Most animals (~62%) show up within normal limits. ~68% show up within normal limits or 'normal'. The second most popular category is 'Treatable Rehabilitable Non-Contagious', which most likely refers to routine injuries, cuts, bruises."
   ]
  },
  {
   "cell_type": "markdown",
   "metadata": {},
   "source": [
    "#### Segmenting by Animal (Cats)"
   ]
  },
  {
   "cell_type": "code",
   "execution_count": 78,
   "metadata": {},
   "outputs": [
    {
     "data": {
      "text/plain": [
       "<matplotlib.axes._subplots.AxesSubplot at 0x1237b8ba8>"
      ]
     },
     "execution_count": 78,
     "metadata": {},
     "output_type": "execute_result"
    },
    {
     "data": {
      "image/png": "[encoded data removed]",
      "text/plain": [
       "<Figure size 864x576 with 1 Axes>"
      ]
     },
     "metadata": {
      "needs_background": "light"
     },
     "output_type": "display_data"
    }
   ],
   "source": [
    "trace4 = df.loc[df['Animal Type'] == 'CAT']['Intake Condition'].value_counts(normalize=True)\n",
    "\n",
    "sns.barplot(x = trace4, y=trace4.index, orient = 'h', color='salmon')"
   ]
  },
  {
   "cell_type": "code",
   "execution_count": 79,
   "metadata": {},
   "outputs": [
    {
     "data": {
      "text/plain": [
       "APP WNL                                   0.496208\n",
       "TREATABLE REHABILITABLE NON-CONTAGIOUS    0.182578\n",
       "APP SICK                                  0.066498\n",
       "UNDERAGE                                  0.062415\n",
       "UNKNOWN                                   0.047249\n",
       "NORMAL                                    0.047054\n",
       "APP INJ                                   0.030527\n",
       "HEALTHY                                   0.019249\n",
       "DEAD                                      0.011666\n",
       "CRITICAL                                  0.011472\n",
       "TREATABLE MANAGEABLE NON-CONTAGIOUS       0.007778\n",
       "UNHEALTHY UNTREATABLE NON-CONTAGIOUS      0.006416\n",
       "TREATABLE REHABILITABLE CONTAGIOUS        0.005444\n",
       "DECEASED                                  0.004083\n",
       "FATAL                                     0.000972\n",
       "TREATABLE MANAGEABLE CONTAGIOUS           0.000194\n",
       "UNHEALTHY UNTREATABLE CONTAGIOUS          0.000194\n",
       "Name: Intake Condition, dtype: float64"
      ]
     },
     "execution_count": 79,
     "metadata": {},
     "output_type": "execute_result"
    }
   ],
   "source": [
    "trace4"
   ]
  },
  {
   "cell_type": "markdown",
   "metadata": {},
   "source": [
    "Cats seem to arrive at the shelter in slightly worse condition. Only ~50% show up within normal limits, and approximately ~55% show up within normal limits or 'normal.'"
   ]
  },
  {
   "cell_type": "markdown",
   "metadata": {},
   "source": [
    "#### Segmenting by Animal (Not Dogs or Cats)"
   ]
  },
  {
   "cell_type": "code",
   "execution_count": 80,
   "metadata": {},
   "outputs": [
    {
     "data": {
      "text/plain": [
       "<matplotlib.axes._subplots.AxesSubplot at 0x1233c7c18>"
      ]
     },
     "execution_count": 80,
     "metadata": {},
     "output_type": "execute_result"
    },
    {
     "data": {
      "image/png": "[encoded data removed]",
      "text/plain": [
       "<Figure size 864x576 with 1 Axes>"
      ]
     },
     "metadata": {
      "needs_background": "light"
     },
     "output_type": "display_data"
    }
   ],
   "source": [
    "trace5 = df.loc[(df['Animal Type'] != 'CAT') & (df['Animal Type'] != 'DOG')]['Intake Condition'].value_counts(normalize=True)\n",
    "\n",
    "sns.barplot(x = trace5, y=trace5.index, orient = 'h', color = 'palegreen')"
   ]
  },
  {
   "cell_type": "code",
   "execution_count": 81,
   "metadata": {},
   "outputs": [
    {
     "data": {
      "text/plain": [
       "APP WNL                                   0.289837\n",
       "APP INJ                                   0.190715\n",
       "APP SICK                                  0.155583\n",
       "UNKNOWN                                   0.075282\n",
       "TREATABLE REHABILITABLE NON-CONTAGIOUS    0.074028\n",
       "UNDERAGE                                  0.072773\n",
       "CRITICAL                                  0.060226\n",
       "UNHEALTHY UNTREATABLE NON-CONTAGIOUS      0.033877\n",
       "NORMAL                                    0.017566\n",
       "DEAD                                      0.011292\n",
       "DECEASED                                  0.010038\n",
       "UNHEALTHY UNTREATABLE CONTAGIOUS          0.002509\n",
       "FATAL                                     0.002509\n",
       "TREATABLE MANAGEABLE NON-CONTAGIOUS       0.002509\n",
       "HEALTHY                                   0.001255\n",
       "Name: Intake Condition, dtype: float64"
      ]
     },
     "execution_count": 81,
     "metadata": {},
     "output_type": "execute_result"
    }
   ],
   "source": [
    "trace5"
   ]
  },
  {
   "cell_type": "markdown",
   "metadata": {},
   "source": [
    "Birds, livestock, and wildlife show up in the worst condition when arriving at the animal shelter. Only ~30% show up within normal limits or 'normal.' That means 70% show up as injured, sick, deceased, or in critical condition. This tends to make sense since none of these animals are usually kept as pets, and therefore not taken for routine check-ups. If they show up to the shelter, it must usually be for a dire situation."
   ]
  },
  {
   "cell_type": "markdown",
   "metadata": {},
   "source": [
    "### Outcome Type"
   ]
  },
  {
   "cell_type": "code",
   "execution_count": 82,
   "metadata": {},
   "outputs": [
    {
     "name": "stdout",
     "output_type": "stream",
     "text": [
      "Total Outcome Types:  14\n"
     ]
    },
    {
     "data": {
      "text/plain": [
       "array(['RETURNED TO OWNER', 'DEAD ON ARRIVAL', 'TRANSFER', 'DIED',\n",
       "       'EUTHANIZED', 'ADOPTION', 'WILDLIFE', 'FOSTER', 'TREATMENT',\n",
       "       'LOST EXP', 'FOUND EXP', 'MISSING', 'OTHER', 'DISPOSAL'],\n",
       "      dtype=object)"
      ]
     },
     "execution_count": 82,
     "metadata": {},
     "output_type": "execute_result"
    }
   ],
   "source": [
    "print('Total Outcome Types: ', len(df['Outcome Type'].unique()))\n",
    "df['Outcome Type'].unique()"
   ]
  },
  {
   "cell_type": "code",
   "execution_count": 83,
   "metadata": {},
   "outputs": [
    {
     "data": {
      "text/plain": [
       "ADOPTION             7469\n",
       "RETURNED TO OWNER    5273\n",
       "TRANSFER             3191\n",
       "FOSTER               2216\n",
       "EUTHANIZED           1534\n",
       "LOST EXP              862\n",
       "TREATMENT             843\n",
       "OTHER                 332\n",
       "FOUND EXP             249\n",
       "WILDLIFE              207\n",
       "DIED                  195\n",
       "DEAD ON ARRIVAL       153\n",
       "DISPOSAL               20\n",
       "MISSING                13\n",
       "Name: Outcome Type, dtype: int64"
      ]
     },
     "execution_count": 83,
     "metadata": {},
     "output_type": "execute_result"
    }
   ],
   "source": [
    "outcome_freq = df['Outcome Type'].value_counts()\n",
    "outcome_freq"
   ]
  },
  {
   "cell_type": "code",
   "execution_count": 84,
   "metadata": {},
   "outputs": [
    {
     "data": {
      "text/plain": [
       "<matplotlib.axes._subplots.AxesSubplot at 0x1231d03c8>"
      ]
     },
     "execution_count": 84,
     "metadata": {},
     "output_type": "execute_result"
    },
    {
     "data": {
      "image/png": "[encoded data removed]",
      "text/plain": [
       "<Figure size 864x576 with 1 Axes>"
      ]
     },
     "metadata": {
      "needs_background": "light"
     },
     "output_type": "display_data"
    }
   ],
   "source": [
    "trace6 = df['Outcome Type'].value_counts(normalize=True)\n",
    "\n",
    "sns.barplot(x = trace6, y=trace6.index, orient = 'h')"
   ]
  },
  {
   "cell_type": "code",
   "execution_count": 85,
   "metadata": {},
   "outputs": [
    {
     "data": {
      "text/plain": [
       "ADOPTION             0.331117\n",
       "RETURNED TO OWNER    0.233763\n",
       "TRANSFER             0.141464\n",
       "FOSTER               0.098240\n",
       "EUTHANIZED           0.068005\n",
       "LOST EXP             0.038214\n",
       "TREATMENT            0.037372\n",
       "OTHER                0.014718\n",
       "FOUND EXP            0.011039\n",
       "WILDLIFE             0.009177\n",
       "DIED                 0.008645\n",
       "DEAD ON ARRIVAL      0.006783\n",
       "DISPOSAL             0.000887\n",
       "MISSING              0.000576\n",
       "Name: Outcome Type, dtype: float64"
      ]
     },
     "execution_count": 85,
     "metadata": {},
     "output_type": "execute_result"
    }
   ],
   "source": [
    "trace6"
   ]
  },
  {
   "cell_type": "markdown",
   "metadata": {},
   "source": [
    "~33% of animals entering the shelter end being adopted. This is slightly misleading however, since not all animals that show up to the shelter are eligable for adoption. ~66% end up with an owner by the end of their stay (adoption, returned to owner, foster). Sadly, ~8% are either euthanized or die in captivity."
   ]
  },
  {
   "cell_type": "markdown",
   "metadata": {},
   "source": [
    "### Summary of Findings so Far:"
   ]
  },
  {
   "cell_type": "markdown",
   "metadata": {},
   "source": [
    "## Bivariate Analysis - \"The Exciting Stuff\"\n",
    "\n",
    "It's usually good to have some focus here, usually in the form of an open-ended business question. Otherwise, 21C2 = 210 combinations are possible for bivariate analysis. So, my questions are as follows:"
   ]
  },
  {
   "cell_type": "markdown",
   "metadata": {},
   "source": [
    "- What factors influence adoption?\n",
    "- Is this animal shelter adhering to \"proper\" standards?"
   ]
  },
  {
   "cell_type": "markdown",
   "metadata": {},
   "source": [
    "### What Factors Influence (timely) Adoption?\n",
    "First, before any analysis, it's important to narrow the population of animals to only those that are **eligible for adoption**. For example, animals that are transferred may have been eligable for adoption."
   ]
  },
  {
   "cell_type": "code",
   "execution_count": 89,
   "metadata": {},
   "outputs": [
    {
     "data": {
      "text/plain": [
       "(10403, 24)"
      ]
     },
     "execution_count": 89,
     "metadata": {},
     "output_type": "execute_result"
    }
   ],
   "source": [
    "# take out from outcome type: returned to owner, died, dead on arrival, disposal, found exp, lost exp, other, treatment, wildlife\n",
    "# take out from intake subtype: web, treatment\n",
    "# take out from intake type: wildlife, treatment, keepsafe (has some adoption cases), dispos req\n",
    "# remove from hold request: rescu only\n",
    "df_a = df.loc[(df['Hold Request']=='ADOPTION') | (df['Hold Request']=='ADOP RESCU') | (df['Outcome Type']=='ADOPTION')]\n",
    "df_a.shape\n"
   ]
  },
  {
   "cell_type": "code",
   "execution_count": 91,
   "metadata": {},
   "outputs": [
    {
     "data": {
      "text/plain": [
       "array(['ADOPTION', 'RETURNED TO OWNER', 'EUTHANIZED', 'TRANSFER',\n",
       "       'FOSTER', 'TREATMENT', 'DIED', 'MISSING', 'OTHER'], dtype=object)"
      ]
     },
     "execution_count": 91,
     "metadata": {},
     "output_type": "execute_result"
    }
   ],
   "source": [
    "df_a['Outcome Type'].unique()"
   ]
  },
  {
   "cell_type": "code",
   "execution_count": 92,
   "metadata": {},
   "outputs": [],
   "source": [
    "# Define a function to determine timely adoption\n",
    "def timely_adoption(row):\n",
    "    if row['Time at Shelter'] <= 7 and row['Outcome Type']=='ADOPTION':\n",
    "        return \"Timely Adoption\"\n",
    "    else:\n",
    "        return \"Late or Other\""
   ]
  },
  {
   "cell_type": "code",
   "execution_count": 96,
   "metadata": {},
   "outputs": [],
   "source": [
    "df_a['Timely Adoption'] = df_a.apply(timely_adoption, axis=1)"
   ]
  },
  {
   "cell_type": "code",
   "execution_count": 98,
   "metadata": {},
   "outputs": [
    {
     "data": {
      "text/html": [
       "<div>\n",
       "<style scoped>\n",
       "    .dataframe tbody tr th:only-of-type {\n",
       "        vertical-align: middle;\n",
       "    }\n",
       "\n",
       "    .dataframe tbody tr th {\n",
       "        vertical-align: top;\n",
       "    }\n",
       "\n",
       "    .dataframe thead th {\n",
       "        text-align: right;\n",
       "    }\n",
       "</style>\n",
       "<table border=\"1\" class=\"dataframe\">\n",
       "  <thead>\n",
       "    <tr style=\"text-align: right;\">\n",
       "      <th></th>\n",
       "      <th>Animal Id</th>\n",
       "      <th>Animal Type</th>\n",
       "      <th>Animal Breed</th>\n",
       "      <th>Kennel Number</th>\n",
       "      <th>Kennel Status</th>\n",
       "      <th>Census Tract</th>\n",
       "      <th>Council District</th>\n",
       "      <th>Intake Type</th>\n",
       "      <th>Intake Subtype</th>\n",
       "      <th>Intake Date</th>\n",
       "      <th>Intake Time</th>\n",
       "      <th>Due Out</th>\n",
       "      <th>Intake Condition</th>\n",
       "      <th>Hold Request</th>\n",
       "      <th>Outcome Type</th>\n",
       "      <th>Outcome Subtype</th>\n",
       "      <th>Outcome Date</th>\n",
       "      <th>Outcome Time</th>\n",
       "      <th>Outcome Condition</th>\n",
       "      <th>Month</th>\n",
       "      <th>Year</th>\n",
       "      <th>Intake Date Month</th>\n",
       "      <th>Day of the Week</th>\n",
       "      <th>Time at Shelter</th>\n",
       "      <th>Timely Adoption</th>\n",
       "    </tr>\n",
       "  </thead>\n",
       "  <tbody>\n",
       "    <tr>\n",
       "      <td>16</td>\n",
       "      <td>A0648253</td>\n",
       "      <td>DOG</td>\n",
       "      <td>CHIHUAHUA SH</td>\n",
       "      <td>SMD08</td>\n",
       "      <td>UNAVAILABLE</td>\n",
       "      <td>17004</td>\n",
       "      <td>8</td>\n",
       "      <td>STRAY</td>\n",
       "      <td>AT LARGE</td>\n",
       "      <td>2019-10-21</td>\n",
       "      <td>13:27:00</td>\n",
       "      <td>2019-10-27</td>\n",
       "      <td>TREATABLE REHABILITABLE NON-CONTAGIOUS</td>\n",
       "      <td>ADOP RESCU</td>\n",
       "      <td>ADOPTION</td>\n",
       "      <td>PROMOTION</td>\n",
       "      <td>2019-10-30</td>\n",
       "      <td>12:00:00</td>\n",
       "      <td>TREATABLE REHABILITABLE NON-CONTAGIOUS</td>\n",
       "      <td>OCT.2019</td>\n",
       "      <td>FY2020</td>\n",
       "      <td>2019-10-01</td>\n",
       "      <td>Monday</td>\n",
       "      <td>9.0</td>\n",
       "      <td>Late or Other</td>\n",
       "    </tr>\n",
       "    <tr>\n",
       "      <td>19</td>\n",
       "      <td>A0666474</td>\n",
       "      <td>DOG</td>\n",
       "      <td>GERM SHEPHERD</td>\n",
       "      <td>AD 001</td>\n",
       "      <td>UNAVAILABLE</td>\n",
       "      <td>20500</td>\n",
       "      <td>6</td>\n",
       "      <td>FOSTER</td>\n",
       "      <td>RETURN</td>\n",
       "      <td>2019-11-20</td>\n",
       "      <td>12:01:00</td>\n",
       "      <td>2019-11-20</td>\n",
       "      <td>APP WNL</td>\n",
       "      <td>ADOP RESCU</td>\n",
       "      <td>ADOPTION</td>\n",
       "      <td>BY FOSTER</td>\n",
       "      <td>2019-11-20</td>\n",
       "      <td>12:02:00</td>\n",
       "      <td>APP WNL</td>\n",
       "      <td>NOV.2019</td>\n",
       "      <td>FY2020</td>\n",
       "      <td>2019-11-01</td>\n",
       "      <td>Wednesday</td>\n",
       "      <td>0.0</td>\n",
       "      <td>Timely Adoption</td>\n",
       "    </tr>\n",
       "    <tr>\n",
       "      <td>23</td>\n",
       "      <td>A0690363</td>\n",
       "      <td>DOG</td>\n",
       "      <td>LHASA APSO</td>\n",
       "      <td>LFD 082</td>\n",
       "      <td>AVAILABLE</td>\n",
       "      <td>20500</td>\n",
       "      <td>6</td>\n",
       "      <td>OWNER SURRENDER</td>\n",
       "      <td>GENERAL</td>\n",
       "      <td>2019-11-03</td>\n",
       "      <td>12:22:00</td>\n",
       "      <td>2019-11-03</td>\n",
       "      <td>TREATABLE REHABILITABLE NON-CONTAGIOUS</td>\n",
       "      <td>ADOP RESCU</td>\n",
       "      <td>ADOPTION</td>\n",
       "      <td>WALK IN</td>\n",
       "      <td>2019-11-03</td>\n",
       "      <td>15:02:00</td>\n",
       "      <td>TREATABLE REHABILITABLE NON-CONTAGIOUS</td>\n",
       "      <td>NOV.2019</td>\n",
       "      <td>FY2020</td>\n",
       "      <td>2019-11-01</td>\n",
       "      <td>Sunday</td>\n",
       "      <td>0.0</td>\n",
       "      <td>Timely Adoption</td>\n",
       "    </tr>\n",
       "    <tr>\n",
       "      <td>25</td>\n",
       "      <td>A0692158</td>\n",
       "      <td>DOG</td>\n",
       "      <td>BOXER</td>\n",
       "      <td>LFD 097</td>\n",
       "      <td>UNAVAILABLE</td>\n",
       "      <td>20500</td>\n",
       "      <td>6</td>\n",
       "      <td>OWNER SURRENDER</td>\n",
       "      <td>GENERAL</td>\n",
       "      <td>2019-10-12</td>\n",
       "      <td>15:47:00</td>\n",
       "      <td>2019-10-12</td>\n",
       "      <td>TREATABLE REHABILITABLE NON-CONTAGIOUS</td>\n",
       "      <td>ADOP RESCU</td>\n",
       "      <td>ADOPTION</td>\n",
       "      <td>WALK IN</td>\n",
       "      <td>2019-10-16</td>\n",
       "      <td>14:41:00</td>\n",
       "      <td>HEALTHY</td>\n",
       "      <td>OCT.2019</td>\n",
       "      <td>FY2020</td>\n",
       "      <td>2019-10-01</td>\n",
       "      <td>Saturday</td>\n",
       "      <td>4.0</td>\n",
       "      <td>Timely Adoption</td>\n",
       "    </tr>\n",
       "    <tr>\n",
       "      <td>26</td>\n",
       "      <td>A0692158</td>\n",
       "      <td>DOG</td>\n",
       "      <td>BOXER</td>\n",
       "      <td>VIP27</td>\n",
       "      <td>UNAVAILABLE</td>\n",
       "      <td>20500</td>\n",
       "      <td>6</td>\n",
       "      <td>OWNER SURRENDER</td>\n",
       "      <td>GENERAL</td>\n",
       "      <td>2019-11-16</td>\n",
       "      <td>11:14:00</td>\n",
       "      <td>2019-11-16</td>\n",
       "      <td>APP WNL</td>\n",
       "      <td>ADOP RESCU</td>\n",
       "      <td>ADOPTION</td>\n",
       "      <td>WALK IN</td>\n",
       "      <td>2019-11-16</td>\n",
       "      <td>15:40:00</td>\n",
       "      <td>APP WNL</td>\n",
       "      <td>NOV.2019</td>\n",
       "      <td>FY2020</td>\n",
       "      <td>2019-11-01</td>\n",
       "      <td>Saturday</td>\n",
       "      <td>0.0</td>\n",
       "      <td>Timely Adoption</td>\n",
       "    </tr>\n",
       "  </tbody>\n",
       "</table>\n",
       "</div>"
      ],
      "text/plain": [
       "   Animal Id Animal Type   Animal Breed Kennel Number Kennel Status  \\\n",
       "16  A0648253         DOG   CHIHUAHUA SH         SMD08   UNAVAILABLE   \n",
       "19  A0666474         DOG  GERM SHEPHERD        AD 001   UNAVAILABLE   \n",
       "23  A0690363         DOG     LHASA APSO       LFD 082     AVAILABLE   \n",
       "25  A0692158         DOG          BOXER       LFD 097   UNAVAILABLE   \n",
       "26  A0692158         DOG          BOXER         VIP27   UNAVAILABLE   \n",
       "\n",
       "   Census Tract Council District      Intake Type Intake Subtype Intake Date  \\\n",
       "16        17004                8            STRAY       AT LARGE  2019-10-21   \n",
       "19        20500                6           FOSTER         RETURN  2019-11-20   \n",
       "23        20500                6  OWNER SURRENDER        GENERAL  2019-11-03   \n",
       "25        20500                6  OWNER SURRENDER        GENERAL  2019-10-12   \n",
       "26        20500                6  OWNER SURRENDER        GENERAL  2019-11-16   \n",
       "\n",
       "   Intake Time    Due Out                        Intake Condition  \\\n",
       "16    13:27:00 2019-10-27  TREATABLE REHABILITABLE NON-CONTAGIOUS   \n",
       "19    12:01:00 2019-11-20                                 APP WNL   \n",
       "23    12:22:00 2019-11-03  TREATABLE REHABILITABLE NON-CONTAGIOUS   \n",
       "25    15:47:00 2019-10-12  TREATABLE REHABILITABLE NON-CONTAGIOUS   \n",
       "26    11:14:00 2019-11-16                                 APP WNL   \n",
       "\n",
       "   Hold Request Outcome Type Outcome Subtype Outcome Date Outcome Time  \\\n",
       "16   ADOP RESCU     ADOPTION       PROMOTION   2019-10-30     12:00:00   \n",
       "19   ADOP RESCU     ADOPTION       BY FOSTER   2019-11-20     12:02:00   \n",
       "23   ADOP RESCU     ADOPTION         WALK IN   2019-11-03     15:02:00   \n",
       "25   ADOP RESCU     ADOPTION         WALK IN   2019-10-16     14:41:00   \n",
       "26   ADOP RESCU     ADOPTION         WALK IN   2019-11-16     15:40:00   \n",
       "\n",
       "                         Outcome Condition     Month    Year  \\\n",
       "16  TREATABLE REHABILITABLE NON-CONTAGIOUS  OCT.2019  FY2020   \n",
       "19                                 APP WNL  NOV.2019  FY2020   \n",
       "23  TREATABLE REHABILITABLE NON-CONTAGIOUS  NOV.2019  FY2020   \n",
       "25                                 HEALTHY  OCT.2019  FY2020   \n",
       "26                                 APP WNL  NOV.2019  FY2020   \n",
       "\n",
       "   Intake Date Month Day of the Week  Time at Shelter  Timely Adoption  \n",
       "16        2019-10-01          Monday              9.0    Late or Other  \n",
       "19        2019-11-01       Wednesday              0.0  Timely Adoption  \n",
       "23        2019-11-01          Sunday              0.0  Timely Adoption  \n",
       "25        2019-10-01        Saturday              4.0  Timely Adoption  \n",
       "26        2019-11-01        Saturday              0.0  Timely Adoption  "
      ]
     },
     "execution_count": 98,
     "metadata": {},
     "output_type": "execute_result"
    }
   ],
   "source": [
    "df_a.head()"
   ]
  },
  {
   "cell_type": "code",
   "execution_count": 97,
   "metadata": {},
   "outputs": [
    {
     "data": {
      "text/plain": [
       "Timely Adoption    0.564068\n",
       "Late or Other      0.435932\n",
       "Name: Timely Adoption, dtype: float64"
      ]
     },
     "execution_count": 97,
     "metadata": {},
     "output_type": "execute_result"
    }
   ],
   "source": [
    "df_a['Timely Adoption'].value_counts(normalize=True)"
   ]
  },
  {
   "cell_type": "code",
   "execution_count": 100,
   "metadata": {},
   "outputs": [
    {
     "data": {
      "text/html": [
       "<div>\n",
       "<style scoped>\n",
       "    .dataframe tbody tr th:only-of-type {\n",
       "        vertical-align: middle;\n",
       "    }\n",
       "\n",
       "    .dataframe tbody tr th {\n",
       "        vertical-align: top;\n",
       "    }\n",
       "\n",
       "    .dataframe thead th {\n",
       "        text-align: right;\n",
       "    }\n",
       "</style>\n",
       "<table border=\"1\" class=\"dataframe\">\n",
       "  <thead>\n",
       "    <tr style=\"text-align: right;\">\n",
       "      <th></th>\n",
       "      <th>total_bill</th>\n",
       "      <th>tip</th>\n",
       "      <th>sex</th>\n",
       "      <th>smoker</th>\n",
       "      <th>day</th>\n",
       "      <th>time</th>\n",
       "      <th>size</th>\n",
       "    </tr>\n",
       "  </thead>\n",
       "  <tbody>\n",
       "    <tr>\n",
       "      <td>0</td>\n",
       "      <td>16.99</td>\n",
       "      <td>1.01</td>\n",
       "      <td>Female</td>\n",
       "      <td>No</td>\n",
       "      <td>Sun</td>\n",
       "      <td>Dinner</td>\n",
       "      <td>2</td>\n",
       "    </tr>\n",
       "    <tr>\n",
       "      <td>1</td>\n",
       "      <td>10.34</td>\n",
       "      <td>1.66</td>\n",
       "      <td>Male</td>\n",
       "      <td>No</td>\n",
       "      <td>Sun</td>\n",
       "      <td>Dinner</td>\n",
       "      <td>3</td>\n",
       "    </tr>\n",
       "    <tr>\n",
       "      <td>2</td>\n",
       "      <td>21.01</td>\n",
       "      <td>3.50</td>\n",
       "      <td>Male</td>\n",
       "      <td>No</td>\n",
       "      <td>Sun</td>\n",
       "      <td>Dinner</td>\n",
       "      <td>3</td>\n",
       "    </tr>\n",
       "    <tr>\n",
       "      <td>3</td>\n",
       "      <td>23.68</td>\n",
       "      <td>3.31</td>\n",
       "      <td>Male</td>\n",
       "      <td>No</td>\n",
       "      <td>Sun</td>\n",
       "      <td>Dinner</td>\n",
       "      <td>2</td>\n",
       "    </tr>\n",
       "    <tr>\n",
       "      <td>4</td>\n",
       "      <td>24.59</td>\n",
       "      <td>3.61</td>\n",
       "      <td>Female</td>\n",
       "      <td>No</td>\n",
       "      <td>Sun</td>\n",
       "      <td>Dinner</td>\n",
       "      <td>4</td>\n",
       "    </tr>\n",
       "  </tbody>\n",
       "</table>\n",
       "</div>"
      ],
      "text/plain": [
       "   total_bill   tip     sex smoker  day    time  size\n",
       "0       16.99  1.01  Female     No  Sun  Dinner     2\n",
       "1       10.34  1.66    Male     No  Sun  Dinner     3\n",
       "2       21.01  3.50    Male     No  Sun  Dinner     3\n",
       "3       23.68  3.31    Male     No  Sun  Dinner     2\n",
       "4       24.59  3.61  Female     No  Sun  Dinner     4"
      ]
     },
     "execution_count": 100,
     "metadata": {},
     "output_type": "execute_result"
    }
   ],
   "source": [
    "tips = sns.load_dataset(\"tips\")\n",
    "tips.head()\n",
    "ax = sns.barplot(x=\"day\", y=\"total_bill\", hue=\"sex\", data=tips)"
   ]
  },
  {
   "cell_type": "code",
   "execution_count": 103,
   "metadata": {},
   "outputs": [
    {
     "data": {
      "image/png": "[encoded data removed]",
      "text/plain": [
       "<Figure size 864x576 with 1 Axes>"
      ]
     },
     "metadata": {
      "needs_background": "light"
     },
     "output_type": "display_data"
    }
   ],
   "source": [
    "ax = sns.barplot(x=\"day\", y=\"total_bill\", hue=\"sex\", data=tips)"
   ]
  },
  {
   "cell_type": "code",
   "execution_count": 102,
   "metadata": {},
   "outputs": [
    {
     "data": {
      "text/plain": [
       "<matplotlib.axes._subplots.AxesSubplot at 0x1294317f0>"
      ]
     },
     "execution_count": 102,
     "metadata": {},
     "output_type": "execute_result"
    },
    {
     "data": {
      "image/png": "[encoded data removed]",
      "text/plain": [
       "<Figure size 864x576 with 1 Axes>"
      ]
     },
     "metadata": {
      "needs_background": "light"
     },
     "output_type": "display_data"
    }
   ],
   "source": [
    "# trace6 = df['Outcome Type'].value_counts(normalize=True)\n",
    "\n",
    "sns.countplot(x = \"Animal Type\", hue='Timely Adoption', data=df_a)"
   ]
  },
  {
   "cell_type": "code",
   "execution_count": null,
   "metadata": {},
   "outputs": [],
   "source": []
  }
 ],
 "metadata": {
  "kernelspec": {
   "display_name": "Python 3",
   "language": "python",
   "name": "python3"
  },
  "language_info": {
   "codemirror_mode": {
    "name": "ipython",
    "version": 3
   },
   "file_extension": ".py",
   "mimetype": "text/x-python",
   "name": "python",
   "nbconvert_exporter": "python",
   "pygments_lexer": "ipython3",
   "version": "3.6.9"
  }
 },
 "nbformat": 4,
 "nbformat_minor": 2
}
