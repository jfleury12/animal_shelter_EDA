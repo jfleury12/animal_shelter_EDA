{
 "cells": [
  {
   "cell_type": "markdown",
   "metadata": {},
   "source": [
    "# Animal Shelter EDA"
   ]
  },
  {
   "cell_type": "markdown",
   "metadata": {},
   "source": [
    "## Import Relevant Libraries"
   ]
  },
  {
   "cell_type": "code",
   "execution_count": 42,
   "metadata": {},
   "outputs": [],
   "source": [
    "import pandas as pd\n",
    "import matplotlib.pyplot as plt\n",
    "import seaborn as sns\n",
    "%matplotlib inline\n",
    "# pd.set_option('max_columns', None)\n",
    "# pd.set_option('max_rows', None)\n",
    "import cufflinks # !pip install ipywidgets\n",
    "cufflinks.go_offline()\n",
    "cufflinks.set_config_file(world_readable=True, theme='pearl')\n",
    "from plotly.offline import iplot"
   ]
  },
  {
   "cell_type": "markdown",
   "metadata": {},
   "source": [
    "## Data Importation and Cleaning"
   ]
  },
  {
   "cell_type": "code",
   "execution_count": 47,
   "metadata": {},
   "outputs": [
    {
     "data": {
      "text/plain": [
       "(22557, 34)"
      ]
     },
     "execution_count": 47,
     "metadata": {},
     "output_type": "execute_result"
    }
   ],
   "source": [
    "df = pd.read_excel('data/EDA Instructions and Data.xlsx', sheet_name = 'Data')\n",
    "df.shape"
   ]
  },
  {
   "cell_type": "code",
   "execution_count": 48,
   "metadata": {},
   "outputs": [
    {
     "data": {
      "text/html": [
       "<div>\n",
       "<style scoped>\n",
       "    .dataframe tbody tr th:only-of-type {\n",
       "        vertical-align: middle;\n",
       "    }\n",
       "\n",
       "    .dataframe tbody tr th {\n",
       "        vertical-align: top;\n",
       "    }\n",
       "\n",
       "    .dataframe thead th {\n",
       "        text-align: right;\n",
       "    }\n",
       "</style>\n",
       "<table border=\"1\" class=\"dataframe\">\n",
       "  <thead>\n",
       "    <tr style=\"text-align: right;\">\n",
       "      <th></th>\n",
       "      <th>Animal Id</th>\n",
       "      <th>Animal Type</th>\n",
       "      <th>Animal Breed</th>\n",
       "      <th>Kennel Number</th>\n",
       "      <th>Kennel Status</th>\n",
       "      <th>Tag Type</th>\n",
       "      <th>Activity Number</th>\n",
       "      <th>Activity Sequence</th>\n",
       "      <th>Source Id</th>\n",
       "      <th>Census Tract</th>\n",
       "      <th>Council District</th>\n",
       "      <th>Intake Type</th>\n",
       "      <th>Intake Subtype</th>\n",
       "      <th>Intake Total</th>\n",
       "      <th>Reason</th>\n",
       "      <th>Staff Id</th>\n",
       "      <th>Intake Date</th>\n",
       "      <th>Intake Time</th>\n",
       "      <th>Due Out</th>\n",
       "      <th>Intake Condition</th>\n",
       "      <th>Hold Request</th>\n",
       "      <th>Outcome Type</th>\n",
       "      <th>Outcome Subtype</th>\n",
       "      <th>Outcome Date</th>\n",
       "      <th>Outcome Time</th>\n",
       "      <th>Receipt Number</th>\n",
       "      <th>Impound Number</th>\n",
       "      <th>Service Request Number</th>\n",
       "      <th>Outcome Condition</th>\n",
       "      <th>Chip Status</th>\n",
       "      <th>Animal Origin</th>\n",
       "      <th>Additional Information</th>\n",
       "      <th>Month</th>\n",
       "      <th>Year</th>\n",
       "    </tr>\n",
       "  </thead>\n",
       "  <tbody>\n",
       "    <tr>\n",
       "      <td>0</td>\n",
       "      <td>A0144701</td>\n",
       "      <td>DOG</td>\n",
       "      <td>HAVANESE</td>\n",
       "      <td>VT 12</td>\n",
       "      <td>IMPOUNDED</td>\n",
       "      <td>NaN</td>\n",
       "      <td>NaN</td>\n",
       "      <td>1</td>\n",
       "      <td>P0098773</td>\n",
       "      <td>6301</td>\n",
       "      <td>4</td>\n",
       "      <td>OWNER SURRENDER</td>\n",
       "      <td>GENERAL</td>\n",
       "      <td>1</td>\n",
       "      <td>PERSNLISSU</td>\n",
       "      <td>CDM</td>\n",
       "      <td>2019-11-08</td>\n",
       "      <td>15:48:00</td>\n",
       "      <td>2019-11-14</td>\n",
       "      <td>APP SICK</td>\n",
       "      <td>NaN</td>\n",
       "      <td>RETURNED TO OWNER</td>\n",
       "      <td>WALK IN</td>\n",
       "      <td>2019-11-09</td>\n",
       "      <td>11:31:00</td>\n",
       "      <td>R19-558731</td>\n",
       "      <td>K19-486742</td>\n",
       "      <td>NaN</td>\n",
       "      <td>APP SICK</td>\n",
       "      <td>SCAN CHIP</td>\n",
       "      <td>OVER THE COUNTER</td>\n",
       "      <td>RETURNED TO OWNER</td>\n",
       "      <td>NOV.2019</td>\n",
       "      <td>FY2020</td>\n",
       "    </tr>\n",
       "    <tr>\n",
       "      <td>1</td>\n",
       "      <td>A0442587</td>\n",
       "      <td>DOG</td>\n",
       "      <td>TERRIER MIX</td>\n",
       "      <td>FREEZER</td>\n",
       "      <td>IMPOUNDED</td>\n",
       "      <td>NaN</td>\n",
       "      <td>NaN</td>\n",
       "      <td>1</td>\n",
       "      <td>P0492284</td>\n",
       "      <td>7102</td>\n",
       "      <td>2</td>\n",
       "      <td>OWNER SURRENDER</td>\n",
       "      <td>DEAD ON ARRIVAL</td>\n",
       "      <td>1</td>\n",
       "      <td>OTHRINTAKS</td>\n",
       "      <td>CDM</td>\n",
       "      <td>2019-11-10</td>\n",
       "      <td>14:18:00</td>\n",
       "      <td>2019-11-10</td>\n",
       "      <td>DEAD</td>\n",
       "      <td>NaN</td>\n",
       "      <td>DEAD ON ARRIVAL</td>\n",
       "      <td>DISPOSAL</td>\n",
       "      <td>2019-11-10</td>\n",
       "      <td>00:00:00</td>\n",
       "      <td>NaN</td>\n",
       "      <td>K19-486954</td>\n",
       "      <td>NaN</td>\n",
       "      <td>DEAD</td>\n",
       "      <td>SCAN CHIP</td>\n",
       "      <td>OVER THE COUNTER</td>\n",
       "      <td>NaN</td>\n",
       "      <td>NOV.2019</td>\n",
       "      <td>FY2020</td>\n",
       "    </tr>\n",
       "    <tr>\n",
       "      <td>2</td>\n",
       "      <td>A0458972</td>\n",
       "      <td>DOG</td>\n",
       "      <td>CATAHOULA</td>\n",
       "      <td>RECEIVING</td>\n",
       "      <td>UNAVAILABLE</td>\n",
       "      <td>NaN</td>\n",
       "      <td>A19-195601</td>\n",
       "      <td>1</td>\n",
       "      <td>P9991718</td>\n",
       "      <td>4600</td>\n",
       "      <td>1</td>\n",
       "      <td>STRAY</td>\n",
       "      <td>AT LARGE</td>\n",
       "      <td>1</td>\n",
       "      <td>OTHER</td>\n",
       "      <td>MG1718</td>\n",
       "      <td>2019-10-03</td>\n",
       "      <td>11:08:00</td>\n",
       "      <td>2019-10-03</td>\n",
       "      <td>TREATABLE REHABILITABLE NON-CONTAGIOUS</td>\n",
       "      <td>NaN</td>\n",
       "      <td>RETURNED TO OWNER</td>\n",
       "      <td>FIELD</td>\n",
       "      <td>2019-10-03</td>\n",
       "      <td>13:36:00</td>\n",
       "      <td>NaN</td>\n",
       "      <td>K19-482022</td>\n",
       "      <td>NaN</td>\n",
       "      <td>TREATABLE REHABILITABLE NON-CONTAGIOUS</td>\n",
       "      <td>SCAN NO CHIP</td>\n",
       "      <td>SWEEP</td>\n",
       "      <td>NaN</td>\n",
       "      <td>OCT.2019</td>\n",
       "      <td>FY2020</td>\n",
       "    </tr>\n",
       "    <tr>\n",
       "      <td>3</td>\n",
       "      <td>A0525642</td>\n",
       "      <td>DOG</td>\n",
       "      <td>GERM SHEPHERD</td>\n",
       "      <td>INJD 001</td>\n",
       "      <td>IMPOUNDED</td>\n",
       "      <td>NaN</td>\n",
       "      <td>A19-196573</td>\n",
       "      <td>1</td>\n",
       "      <td>P0903792</td>\n",
       "      <td>16605</td>\n",
       "      <td>8</td>\n",
       "      <td>OWNER SURRENDER</td>\n",
       "      <td>GENERAL</td>\n",
       "      <td>1</td>\n",
       "      <td>OTHER</td>\n",
       "      <td>RA 1549</td>\n",
       "      <td>2019-10-11</td>\n",
       "      <td>09:55:00</td>\n",
       "      <td>2019-10-17</td>\n",
       "      <td>TREATABLE REHABILITABLE NON-CONTAGIOUS</td>\n",
       "      <td>EMERGENCY RESCUE</td>\n",
       "      <td>TRANSFER</td>\n",
       "      <td>MEDICAL-CONTAGIOUS</td>\n",
       "      <td>2019-10-15</td>\n",
       "      <td>17:35:00</td>\n",
       "      <td>NaN</td>\n",
       "      <td>K19-483073</td>\n",
       "      <td>NaN</td>\n",
       "      <td>TREATABLE REHABILITABLE NON-CONTAGIOUS</td>\n",
       "      <td>SCAN CHIP</td>\n",
       "      <td>SWEEP</td>\n",
       "      <td>TAGGED</td>\n",
       "      <td>OCT.2019</td>\n",
       "      <td>FY2020</td>\n",
       "    </tr>\n",
       "    <tr>\n",
       "      <td>4</td>\n",
       "      <td>A0565586</td>\n",
       "      <td>DOG</td>\n",
       "      <td>SILKY TERRIER</td>\n",
       "      <td>LFD 119</td>\n",
       "      <td>UNAVAILABLE</td>\n",
       "      <td>NaN</td>\n",
       "      <td>NaN</td>\n",
       "      <td>1</td>\n",
       "      <td>P0890077</td>\n",
       "      <td>6900</td>\n",
       "      <td>1</td>\n",
       "      <td>STRAY</td>\n",
       "      <td>AT LARGE</td>\n",
       "      <td>1</td>\n",
       "      <td>OTHRINTAKS</td>\n",
       "      <td>JR</td>\n",
       "      <td>2019-11-08</td>\n",
       "      <td>11:55:00</td>\n",
       "      <td>2019-11-14</td>\n",
       "      <td>APP WNL</td>\n",
       "      <td>RESCU ONLY</td>\n",
       "      <td>RETURNED TO OWNER</td>\n",
       "      <td>WALK IN</td>\n",
       "      <td>2019-11-09</td>\n",
       "      <td>12:57:00</td>\n",
       "      <td>R19-558750</td>\n",
       "      <td>K19-486694</td>\n",
       "      <td>NaN</td>\n",
       "      <td>APP WNL</td>\n",
       "      <td>SCAN CHIP</td>\n",
       "      <td>OVER THE COUNTER</td>\n",
       "      <td>RETURNED TO OWNER</td>\n",
       "      <td>NOV.2019</td>\n",
       "      <td>FY2020</td>\n",
       "    </tr>\n",
       "  </tbody>\n",
       "</table>\n",
       "</div>"
      ],
      "text/plain": [
       "  Animal Id Animal Type   Animal Breed Kennel Number Kennel Status  Tag Type  \\\n",
       "0  A0144701         DOG       HAVANESE         VT 12     IMPOUNDED       NaN   \n",
       "1  A0442587         DOG    TERRIER MIX       FREEZER     IMPOUNDED       NaN   \n",
       "2  A0458972         DOG      CATAHOULA     RECEIVING   UNAVAILABLE       NaN   \n",
       "3  A0525642         DOG  GERM SHEPHERD      INJD 001     IMPOUNDED       NaN   \n",
       "4  A0565586         DOG  SILKY TERRIER       LFD 119   UNAVAILABLE       NaN   \n",
       "\n",
       "  Activity Number  Activity Sequence Source Id Census Tract Council District  \\\n",
       "0             NaN                  1  P0098773         6301                4   \n",
       "1             NaN                  1  P0492284         7102                2   \n",
       "2      A19-195601                  1  P9991718         4600                1   \n",
       "3      A19-196573                  1  P0903792        16605                8   \n",
       "4             NaN                  1  P0890077         6900                1   \n",
       "\n",
       "       Intake Type   Intake Subtype  Intake Total      Reason Staff Id  \\\n",
       "0  OWNER SURRENDER          GENERAL             1  PERSNLISSU      CDM   \n",
       "1  OWNER SURRENDER  DEAD ON ARRIVAL             1  OTHRINTAKS      CDM   \n",
       "2            STRAY         AT LARGE             1       OTHER   MG1718   \n",
       "3  OWNER SURRENDER          GENERAL             1       OTHER  RA 1549   \n",
       "4            STRAY         AT LARGE             1  OTHRINTAKS       JR   \n",
       "\n",
       "  Intake Date Intake Time    Due Out                        Intake Condition  \\\n",
       "0  2019-11-08    15:48:00 2019-11-14                                APP SICK   \n",
       "1  2019-11-10    14:18:00 2019-11-10                                    DEAD   \n",
       "2  2019-10-03    11:08:00 2019-10-03  TREATABLE REHABILITABLE NON-CONTAGIOUS   \n",
       "3  2019-10-11    09:55:00 2019-10-17  TREATABLE REHABILITABLE NON-CONTAGIOUS   \n",
       "4  2019-11-08    11:55:00 2019-11-14                                 APP WNL   \n",
       "\n",
       "       Hold Request       Outcome Type     Outcome Subtype Outcome Date  \\\n",
       "0               NaN  RETURNED TO OWNER             WALK IN   2019-11-09   \n",
       "1               NaN    DEAD ON ARRIVAL            DISPOSAL   2019-11-10   \n",
       "2               NaN  RETURNED TO OWNER               FIELD   2019-10-03   \n",
       "3  EMERGENCY RESCUE           TRANSFER  MEDICAL-CONTAGIOUS   2019-10-15   \n",
       "4        RESCU ONLY  RETURNED TO OWNER             WALK IN   2019-11-09   \n",
       "\n",
       "  Outcome Time Receipt Number Impound Number Service Request Number  \\\n",
       "0     11:31:00     R19-558731     K19-486742                    NaN   \n",
       "1     00:00:00            NaN     K19-486954                    NaN   \n",
       "2     13:36:00            NaN     K19-482022                    NaN   \n",
       "3     17:35:00            NaN     K19-483073                    NaN   \n",
       "4     12:57:00     R19-558750     K19-486694                    NaN   \n",
       "\n",
       "                        Outcome Condition   Chip Status     Animal Origin  \\\n",
       "0                                APP SICK     SCAN CHIP  OVER THE COUNTER   \n",
       "1                                    DEAD     SCAN CHIP  OVER THE COUNTER   \n",
       "2  TREATABLE REHABILITABLE NON-CONTAGIOUS  SCAN NO CHIP             SWEEP   \n",
       "3  TREATABLE REHABILITABLE NON-CONTAGIOUS     SCAN CHIP             SWEEP   \n",
       "4                                 APP WNL     SCAN CHIP  OVER THE COUNTER   \n",
       "\n",
       "  Additional Information     Month    Year  \n",
       "0      RETURNED TO OWNER  NOV.2019  FY2020  \n",
       "1                    NaN  NOV.2019  FY2020  \n",
       "2                    NaN  OCT.2019  FY2020  \n",
       "3                 TAGGED  OCT.2019  FY2020  \n",
       "4      RETURNED TO OWNER  NOV.2019  FY2020  "
      ]
     },
     "execution_count": 48,
     "metadata": {},
     "output_type": "execute_result"
    }
   ],
   "source": [
    "df.head()"
   ]
  },
  {
   "cell_type": "code",
   "execution_count": 49,
   "metadata": {},
   "outputs": [
    {
     "name": "stdout",
     "output_type": "stream",
     "text": [
      "<class 'pandas.core.frame.DataFrame'>\n",
      "RangeIndex: 22557 entries, 0 to 22556\n",
      "Data columns (total 34 columns):\n",
      "Animal Id                 22557 non-null object\n",
      "Animal Type               22557 non-null object\n",
      "Animal Breed              22557 non-null object\n",
      "Kennel Number             22557 non-null object\n",
      "Kennel Status             22557 non-null object\n",
      "Tag Type                  0 non-null float64\n",
      "Activity Number           11974 non-null object\n",
      "Activity Sequence         22557 non-null int64\n",
      "Source Id                 22557 non-null object\n",
      "Census Tract              19799 non-null object\n",
      "Council District          19799 non-null object\n",
      "Intake Type               22557 non-null object\n",
      "Intake Subtype            22557 non-null object\n",
      "Intake Total              22557 non-null int64\n",
      "Reason                    21229 non-null object\n",
      "Staff Id                  22557 non-null object\n",
      "Intake Date               22557 non-null datetime64[ns]\n",
      "Intake Time               22557 non-null object\n",
      "Due Out                   22557 non-null datetime64[ns]\n",
      "Intake Condition          22557 non-null object\n",
      "Hold Request              15725 non-null object\n",
      "Outcome Type              22557 non-null object\n",
      "Outcome Subtype           22557 non-null object\n",
      "Outcome Date              22190 non-null datetime64[ns]\n",
      "Outcome Time              22557 non-null object\n",
      "Receipt Number            9057 non-null object\n",
      "Impound Number            22557 non-null object\n",
      "Service Request Number    56 non-null object\n",
      "Outcome Condition         21019 non-null object\n",
      "Chip Status               21229 non-null object\n",
      "Animal Origin             21229 non-null object\n",
      "Additional Information    9237 non-null object\n",
      "Month                     22557 non-null object\n",
      "Year                      22557 non-null object\n",
      "dtypes: datetime64[ns](3), float64(1), int64(2), object(28)\n",
      "memory usage: 5.9+ MB\n"
     ]
    }
   ],
   "source": [
    "df.info()"
   ]
  },
  {
   "cell_type": "code",
   "execution_count": 50,
   "metadata": {},
   "outputs": [],
   "source": [
    "# Specify columns to drop\n",
    "dropped_cols = ['Tag Type','Activity Number','Activity Sequence','Source Id','Intake Total',\n",
    "                'Reason','Staff Id','Hold Request','Receipt Number','Impound Number',\n",
    "                'Service Request Number','Chip Status','Animal Origin','Additional Information']\n",
    "\n",
    "df = df.drop(dropped_cols, axis=1)"
   ]
  },
  {
   "cell_type": "code",
   "execution_count": 51,
   "metadata": {},
   "outputs": [
    {
     "name": "stdout",
     "output_type": "stream",
     "text": [
      "<class 'pandas.core.frame.DataFrame'>\n",
      "RangeIndex: 22557 entries, 0 to 22556\n",
      "Data columns (total 20 columns):\n",
      "Animal Id            22557 non-null object\n",
      "Animal Type          22557 non-null object\n",
      "Animal Breed         22557 non-null object\n",
      "Kennel Number        22557 non-null object\n",
      "Kennel Status        22557 non-null object\n",
      "Census Tract         19799 non-null object\n",
      "Council District     19799 non-null object\n",
      "Intake Type          22557 non-null object\n",
      "Intake Subtype       22557 non-null object\n",
      "Intake Date          22557 non-null datetime64[ns]\n",
      "Intake Time          22557 non-null object\n",
      "Due Out              22557 non-null datetime64[ns]\n",
      "Intake Condition     22557 non-null object\n",
      "Outcome Type         22557 non-null object\n",
      "Outcome Subtype      22557 non-null object\n",
      "Outcome Date         22190 non-null datetime64[ns]\n",
      "Outcome Time         22557 non-null object\n",
      "Outcome Condition    21019 non-null object\n",
      "Month                22557 non-null object\n",
      "Year                 22557 non-null object\n",
      "dtypes: datetime64[ns](3), object(17)\n",
      "memory usage: 3.4+ MB\n"
     ]
    }
   ],
   "source": [
    "df.info()"
   ]
  },
  {
   "cell_type": "code",
   "execution_count": 52,
   "metadata": {},
   "outputs": [
    {
     "data": {
      "text/plain": [
       "Animal Id               0\n",
       "Animal Type             0\n",
       "Animal Breed            0\n",
       "Kennel Number           0\n",
       "Kennel Status           0\n",
       "Census Tract         2758\n",
       "Council District     2758\n",
       "Intake Type             0\n",
       "Intake Subtype          0\n",
       "Intake Date             0\n",
       "Intake Time             0\n",
       "Due Out                 0\n",
       "Intake Condition        0\n",
       "Outcome Type            0\n",
       "Outcome Subtype         0\n",
       "Outcome Date          367\n",
       "Outcome Time            0\n",
       "Outcome Condition    1538\n",
       "Month                   0\n",
       "Year                    0\n",
       "dtype: int64"
      ]
     },
     "execution_count": 52,
     "metadata": {},
     "output_type": "execute_result"
    }
   ],
   "source": [
    "# Check null values\n",
    "df.isnull().sum()"
   ]
  },
  {
   "cell_type": "code",
   "execution_count": 53,
   "metadata": {},
   "outputs": [
    {
     "data": {
      "text/html": [
       "<div>\n",
       "<style scoped>\n",
       "    .dataframe tbody tr th:only-of-type {\n",
       "        vertical-align: middle;\n",
       "    }\n",
       "\n",
       "    .dataframe tbody tr th {\n",
       "        vertical-align: top;\n",
       "    }\n",
       "\n",
       "    .dataframe thead th {\n",
       "        text-align: right;\n",
       "    }\n",
       "</style>\n",
       "<table border=\"1\" class=\"dataframe\">\n",
       "  <thead>\n",
       "    <tr style=\"text-align: right;\">\n",
       "      <th></th>\n",
       "      <th>Animal Id</th>\n",
       "      <th>Animal Type</th>\n",
       "      <th>Animal Breed</th>\n",
       "      <th>Kennel Number</th>\n",
       "      <th>Kennel Status</th>\n",
       "      <th>Census Tract</th>\n",
       "      <th>Council District</th>\n",
       "      <th>Intake Type</th>\n",
       "      <th>Intake Subtype</th>\n",
       "      <th>Intake Date</th>\n",
       "      <th>Intake Time</th>\n",
       "      <th>Due Out</th>\n",
       "      <th>Intake Condition</th>\n",
       "      <th>Outcome Type</th>\n",
       "      <th>Outcome Subtype</th>\n",
       "      <th>Outcome Date</th>\n",
       "      <th>Outcome Time</th>\n",
       "      <th>Outcome Condition</th>\n",
       "      <th>Month</th>\n",
       "      <th>Year</th>\n",
       "    </tr>\n",
       "  </thead>\n",
       "  <tbody>\n",
       "    <tr>\n",
       "      <td>0</td>\n",
       "      <td>A0144701</td>\n",
       "      <td>DOG</td>\n",
       "      <td>HAVANESE</td>\n",
       "      <td>VT 12</td>\n",
       "      <td>IMPOUNDED</td>\n",
       "      <td>6301</td>\n",
       "      <td>4</td>\n",
       "      <td>OWNER SURRENDER</td>\n",
       "      <td>GENERAL</td>\n",
       "      <td>2019-11-08</td>\n",
       "      <td>15:48:00</td>\n",
       "      <td>2019-11-14</td>\n",
       "      <td>APP SICK</td>\n",
       "      <td>RETURNED TO OWNER</td>\n",
       "      <td>WALK IN</td>\n",
       "      <td>2019-11-09</td>\n",
       "      <td>11:31:00</td>\n",
       "      <td>APP SICK</td>\n",
       "      <td>NOV.2019</td>\n",
       "      <td>FY2020</td>\n",
       "    </tr>\n",
       "    <tr>\n",
       "      <td>1</td>\n",
       "      <td>A0442587</td>\n",
       "      <td>DOG</td>\n",
       "      <td>TERRIER MIX</td>\n",
       "      <td>FREEZER</td>\n",
       "      <td>IMPOUNDED</td>\n",
       "      <td>7102</td>\n",
       "      <td>2</td>\n",
       "      <td>OWNER SURRENDER</td>\n",
       "      <td>DEAD ON ARRIVAL</td>\n",
       "      <td>2019-11-10</td>\n",
       "      <td>14:18:00</td>\n",
       "      <td>2019-11-10</td>\n",
       "      <td>DEAD</td>\n",
       "      <td>DEAD ON ARRIVAL</td>\n",
       "      <td>DISPOSAL</td>\n",
       "      <td>2019-11-10</td>\n",
       "      <td>00:00:00</td>\n",
       "      <td>DEAD</td>\n",
       "      <td>NOV.2019</td>\n",
       "      <td>FY2020</td>\n",
       "    </tr>\n",
       "    <tr>\n",
       "      <td>2</td>\n",
       "      <td>A0458972</td>\n",
       "      <td>DOG</td>\n",
       "      <td>CATAHOULA</td>\n",
       "      <td>RECEIVING</td>\n",
       "      <td>UNAVAILABLE</td>\n",
       "      <td>4600</td>\n",
       "      <td>1</td>\n",
       "      <td>STRAY</td>\n",
       "      <td>AT LARGE</td>\n",
       "      <td>2019-10-03</td>\n",
       "      <td>11:08:00</td>\n",
       "      <td>2019-10-03</td>\n",
       "      <td>TREATABLE REHABILITABLE NON-CONTAGIOUS</td>\n",
       "      <td>RETURNED TO OWNER</td>\n",
       "      <td>FIELD</td>\n",
       "      <td>2019-10-03</td>\n",
       "      <td>13:36:00</td>\n",
       "      <td>TREATABLE REHABILITABLE NON-CONTAGIOUS</td>\n",
       "      <td>OCT.2019</td>\n",
       "      <td>FY2020</td>\n",
       "    </tr>\n",
       "    <tr>\n",
       "      <td>3</td>\n",
       "      <td>A0525642</td>\n",
       "      <td>DOG</td>\n",
       "      <td>GERM SHEPHERD</td>\n",
       "      <td>INJD 001</td>\n",
       "      <td>IMPOUNDED</td>\n",
       "      <td>16605</td>\n",
       "      <td>8</td>\n",
       "      <td>OWNER SURRENDER</td>\n",
       "      <td>GENERAL</td>\n",
       "      <td>2019-10-11</td>\n",
       "      <td>09:55:00</td>\n",
       "      <td>2019-10-17</td>\n",
       "      <td>TREATABLE REHABILITABLE NON-CONTAGIOUS</td>\n",
       "      <td>TRANSFER</td>\n",
       "      <td>MEDICAL-CONTAGIOUS</td>\n",
       "      <td>2019-10-15</td>\n",
       "      <td>17:35:00</td>\n",
       "      <td>TREATABLE REHABILITABLE NON-CONTAGIOUS</td>\n",
       "      <td>OCT.2019</td>\n",
       "      <td>FY2020</td>\n",
       "    </tr>\n",
       "    <tr>\n",
       "      <td>4</td>\n",
       "      <td>A0565586</td>\n",
       "      <td>DOG</td>\n",
       "      <td>SILKY TERRIER</td>\n",
       "      <td>LFD 119</td>\n",
       "      <td>UNAVAILABLE</td>\n",
       "      <td>6900</td>\n",
       "      <td>1</td>\n",
       "      <td>STRAY</td>\n",
       "      <td>AT LARGE</td>\n",
       "      <td>2019-11-08</td>\n",
       "      <td>11:55:00</td>\n",
       "      <td>2019-11-14</td>\n",
       "      <td>APP WNL</td>\n",
       "      <td>RETURNED TO OWNER</td>\n",
       "      <td>WALK IN</td>\n",
       "      <td>2019-11-09</td>\n",
       "      <td>12:57:00</td>\n",
       "      <td>APP WNL</td>\n",
       "      <td>NOV.2019</td>\n",
       "      <td>FY2020</td>\n",
       "    </tr>\n",
       "  </tbody>\n",
       "</table>\n",
       "</div>"
      ],
      "text/plain": [
       "  Animal Id Animal Type   Animal Breed Kennel Number Kennel Status  \\\n",
       "0  A0144701         DOG       HAVANESE         VT 12     IMPOUNDED   \n",
       "1  A0442587         DOG    TERRIER MIX       FREEZER     IMPOUNDED   \n",
       "2  A0458972         DOG      CATAHOULA     RECEIVING   UNAVAILABLE   \n",
       "3  A0525642         DOG  GERM SHEPHERD      INJD 001     IMPOUNDED   \n",
       "4  A0565586         DOG  SILKY TERRIER       LFD 119   UNAVAILABLE   \n",
       "\n",
       "  Census Tract Council District      Intake Type   Intake Subtype Intake Date  \\\n",
       "0         6301                4  OWNER SURRENDER          GENERAL  2019-11-08   \n",
       "1         7102                2  OWNER SURRENDER  DEAD ON ARRIVAL  2019-11-10   \n",
       "2         4600                1            STRAY         AT LARGE  2019-10-03   \n",
       "3        16605                8  OWNER SURRENDER          GENERAL  2019-10-11   \n",
       "4         6900                1            STRAY         AT LARGE  2019-11-08   \n",
       "\n",
       "  Intake Time    Due Out                        Intake Condition  \\\n",
       "0    15:48:00 2019-11-14                                APP SICK   \n",
       "1    14:18:00 2019-11-10                                    DEAD   \n",
       "2    11:08:00 2019-10-03  TREATABLE REHABILITABLE NON-CONTAGIOUS   \n",
       "3    09:55:00 2019-10-17  TREATABLE REHABILITABLE NON-CONTAGIOUS   \n",
       "4    11:55:00 2019-11-14                                 APP WNL   \n",
       "\n",
       "        Outcome Type     Outcome Subtype Outcome Date Outcome Time  \\\n",
       "0  RETURNED TO OWNER             WALK IN   2019-11-09     11:31:00   \n",
       "1    DEAD ON ARRIVAL            DISPOSAL   2019-11-10     00:00:00   \n",
       "2  RETURNED TO OWNER               FIELD   2019-10-03     13:36:00   \n",
       "3           TRANSFER  MEDICAL-CONTAGIOUS   2019-10-15     17:35:00   \n",
       "4  RETURNED TO OWNER             WALK IN   2019-11-09     12:57:00   \n",
       "\n",
       "                        Outcome Condition     Month    Year  \n",
       "0                                APP SICK  NOV.2019  FY2020  \n",
       "1                                    DEAD  NOV.2019  FY2020  \n",
       "2  TREATABLE REHABILITABLE NON-CONTAGIOUS  OCT.2019  FY2020  \n",
       "3  TREATABLE REHABILITABLE NON-CONTAGIOUS  OCT.2019  FY2020  \n",
       "4                                 APP WNL  NOV.2019  FY2020  "
      ]
     },
     "execution_count": 53,
     "metadata": {},
     "output_type": "execute_result"
    }
   ],
   "source": [
    "df.head()"
   ]
  },
  {
   "cell_type": "markdown",
   "metadata": {},
   "source": [
    "## Some Data Exploration"
   ]
  },
  {
   "cell_type": "markdown",
   "metadata": {},
   "source": [
    "It's good to explore entries that have missing values to determine why they might be missing."
   ]
  },
  {
   "cell_type": "code",
   "execution_count": 71,
   "metadata": {},
   "outputs": [
    {
     "name": "stdout",
     "output_type": "stream",
     "text": [
      "Index(['Census Tract', 'Council District', 'Outcome Date',\n",
      "       'Outcome Condition'],\n",
      "      dtype='object')\n"
     ]
    },
    {
     "data": {
      "text/html": [
       "<div>\n",
       "<style scoped>\n",
       "    .dataframe tbody tr th:only-of-type {\n",
       "        vertical-align: middle;\n",
       "    }\n",
       "\n",
       "    .dataframe tbody tr th {\n",
       "        vertical-align: top;\n",
       "    }\n",
       "\n",
       "    .dataframe thead th {\n",
       "        text-align: right;\n",
       "    }\n",
       "</style>\n",
       "<table border=\"1\" class=\"dataframe\">\n",
       "  <thead>\n",
       "    <tr style=\"text-align: right;\">\n",
       "      <th></th>\n",
       "      <th>Animal Id</th>\n",
       "      <th>Animal Type</th>\n",
       "      <th>Animal Breed</th>\n",
       "      <th>Kennel Number</th>\n",
       "      <th>Kennel Status</th>\n",
       "      <th>Census Tract</th>\n",
       "      <th>Council District</th>\n",
       "      <th>Intake Type</th>\n",
       "      <th>Intake Subtype</th>\n",
       "      <th>Intake Date</th>\n",
       "      <th>Intake Time</th>\n",
       "      <th>Due Out</th>\n",
       "      <th>Intake Condition</th>\n",
       "      <th>Outcome Type</th>\n",
       "      <th>Outcome Subtype</th>\n",
       "      <th>Outcome Date</th>\n",
       "      <th>Outcome Time</th>\n",
       "      <th>Outcome Condition</th>\n",
       "      <th>Month</th>\n",
       "      <th>Year</th>\n",
       "    </tr>\n",
       "  </thead>\n",
       "  <tbody>\n",
       "    <tr>\n",
       "      <td>21513</td>\n",
       "      <td>A1099111</td>\n",
       "      <td>DOG</td>\n",
       "      <td>POODLE TOY</td>\n",
       "      <td>LOST</td>\n",
       "      <td>IMPOUNDED</td>\n",
       "      <td>NaN</td>\n",
       "      <td>NaN</td>\n",
       "      <td>STRAY</td>\n",
       "      <td>WEB</td>\n",
       "      <td>2020-03-24</td>\n",
       "      <td>16:25:00</td>\n",
       "      <td>2020-03-24</td>\n",
       "      <td>NORMAL</td>\n",
       "      <td>LOST EXP</td>\n",
       "      <td>OTHER</td>\n",
       "      <td>2020-04-24</td>\n",
       "      <td>00:00:00</td>\n",
       "      <td>NaN</td>\n",
       "      <td>MAR.2020</td>\n",
       "      <td>FY2020</td>\n",
       "    </tr>\n",
       "    <tr>\n",
       "      <td>13788</td>\n",
       "      <td>A1092146</td>\n",
       "      <td>DOG</td>\n",
       "      <td>JAPANESE CHIN</td>\n",
       "      <td>LOST</td>\n",
       "      <td>IMPOUNDED</td>\n",
       "      <td>NaN</td>\n",
       "      <td>NaN</td>\n",
       "      <td>STRAY</td>\n",
       "      <td>WEB</td>\n",
       "      <td>2019-12-29</td>\n",
       "      <td>02:25:00</td>\n",
       "      <td>2019-12-31</td>\n",
       "      <td>NORMAL</td>\n",
       "      <td>LOST EXP</td>\n",
       "      <td>OTHER</td>\n",
       "      <td>2020-01-31</td>\n",
       "      <td>00:00:00</td>\n",
       "      <td>NaN</td>\n",
       "      <td>DEC.2019</td>\n",
       "      <td>FY2020</td>\n",
       "    </tr>\n",
       "    <tr>\n",
       "      <td>20129</td>\n",
       "      <td>A1096038</td>\n",
       "      <td>DOG</td>\n",
       "      <td>ALASKAN HUSKY</td>\n",
       "      <td>LOST</td>\n",
       "      <td>IMPOUNDED</td>\n",
       "      <td>NaN</td>\n",
       "      <td>NaN</td>\n",
       "      <td>STRAY</td>\n",
       "      <td>WEB</td>\n",
       "      <td>2020-02-12</td>\n",
       "      <td>19:25:00</td>\n",
       "      <td>2020-02-14</td>\n",
       "      <td>NORMAL</td>\n",
       "      <td>LOST EXP</td>\n",
       "      <td>OTHER</td>\n",
       "      <td>2020-03-16</td>\n",
       "      <td>00:00:00</td>\n",
       "      <td>NaN</td>\n",
       "      <td>FEB.2020</td>\n",
       "      <td>FY2020</td>\n",
       "    </tr>\n",
       "    <tr>\n",
       "      <td>22460</td>\n",
       "      <td>A1100892</td>\n",
       "      <td>DOG</td>\n",
       "      <td>PIT BULL</td>\n",
       "      <td>LFD 090</td>\n",
       "      <td>IMPOUNDED</td>\n",
       "      <td>11300</td>\n",
       "      <td>3</td>\n",
       "      <td>STRAY</td>\n",
       "      <td>AT LARGE</td>\n",
       "      <td>2020-05-07</td>\n",
       "      <td>17:48:00</td>\n",
       "      <td>2020-05-11</td>\n",
       "      <td>APP WNL</td>\n",
       "      <td>OTHER</td>\n",
       "      <td>OTHER</td>\n",
       "      <td>NaT</td>\n",
       "      <td>00:00:00</td>\n",
       "      <td>NaN</td>\n",
       "      <td>MAY.2020</td>\n",
       "      <td>FY2020</td>\n",
       "    </tr>\n",
       "    <tr>\n",
       "      <td>16528</td>\n",
       "      <td>A1092932</td>\n",
       "      <td>CAT</td>\n",
       "      <td>RUSSIAN BLUE</td>\n",
       "      <td>LOST</td>\n",
       "      <td>IMPOUNDED</td>\n",
       "      <td>NaN</td>\n",
       "      <td>NaN</td>\n",
       "      <td>STRAY</td>\n",
       "      <td>WEB</td>\n",
       "      <td>2020-01-07</td>\n",
       "      <td>11:25:00</td>\n",
       "      <td>2020-01-09</td>\n",
       "      <td>NORMAL</td>\n",
       "      <td>LOST EXP</td>\n",
       "      <td>OTHER</td>\n",
       "      <td>2020-02-09</td>\n",
       "      <td>00:00:00</td>\n",
       "      <td>NaN</td>\n",
       "      <td>JAN.2020</td>\n",
       "      <td>FY2020</td>\n",
       "    </tr>\n",
       "  </tbody>\n",
       "</table>\n",
       "</div>"
      ],
      "text/plain": [
       "      Animal Id Animal Type   Animal Breed Kennel Number Kennel Status  \\\n",
       "21513  A1099111         DOG     POODLE TOY          LOST     IMPOUNDED   \n",
       "13788  A1092146         DOG  JAPANESE CHIN          LOST     IMPOUNDED   \n",
       "20129  A1096038         DOG  ALASKAN HUSKY          LOST     IMPOUNDED   \n",
       "22460  A1100892         DOG       PIT BULL       LFD 090     IMPOUNDED   \n",
       "16528  A1092932         CAT   RUSSIAN BLUE          LOST     IMPOUNDED   \n",
       "\n",
       "      Census Tract Council District Intake Type Intake Subtype Intake Date  \\\n",
       "21513          NaN              NaN       STRAY            WEB  2020-03-24   \n",
       "13788          NaN              NaN       STRAY            WEB  2019-12-29   \n",
       "20129          NaN              NaN       STRAY            WEB  2020-02-12   \n",
       "22460        11300                3       STRAY       AT LARGE  2020-05-07   \n",
       "16528          NaN              NaN       STRAY            WEB  2020-01-07   \n",
       "\n",
       "      Intake Time    Due Out Intake Condition Outcome Type Outcome Subtype  \\\n",
       "21513    16:25:00 2020-03-24           NORMAL     LOST EXP           OTHER   \n",
       "13788    02:25:00 2019-12-31           NORMAL     LOST EXP           OTHER   \n",
       "20129    19:25:00 2020-02-14           NORMAL     LOST EXP           OTHER   \n",
       "22460    17:48:00 2020-05-11          APP WNL        OTHER           OTHER   \n",
       "16528    11:25:00 2020-01-09           NORMAL     LOST EXP           OTHER   \n",
       "\n",
       "      Outcome Date Outcome Time Outcome Condition     Month    Year  \n",
       "21513   2020-04-24     00:00:00               NaN  MAR.2020  FY2020  \n",
       "13788   2020-01-31     00:00:00               NaN  DEC.2019  FY2020  \n",
       "20129   2020-03-16     00:00:00               NaN  FEB.2020  FY2020  \n",
       "22460          NaT     00:00:00               NaN  MAY.2020  FY2020  \n",
       "16528   2020-02-09     00:00:00               NaN  JAN.2020  FY2020  "
      ]
     },
     "execution_count": 71,
     "metadata": {},
     "output_type": "execute_result"
    }
   ],
   "source": [
    "# Let's explore what these null entries look like\n",
    "\n",
    "# Identify columns with nulls\n",
    "cols = df.columns[df.isnull().any()]\n",
    "print(cols)\n",
    "\n",
    "# Look at the table\n",
    "df.loc[df['Outcome Condition'].isnull()].sample(5)\n",
    "# many of these animals have been sheltered > 7 days w/ outcome type = ['LOST EXP', 'FOUND EXP', 'OTHER']"
   ]
  },
  {
   "cell_type": "code",
   "execution_count": 77,
   "metadata": {},
   "outputs": [
    {
     "data": {
      "text/html": [
       "<div>\n",
       "<style scoped>\n",
       "    .dataframe tbody tr th:only-of-type {\n",
       "        vertical-align: middle;\n",
       "    }\n",
       "\n",
       "    .dataframe tbody tr th {\n",
       "        vertical-align: top;\n",
       "    }\n",
       "\n",
       "    .dataframe thead th {\n",
       "        text-align: right;\n",
       "    }\n",
       "</style>\n",
       "<table border=\"1\" class=\"dataframe\">\n",
       "  <thead>\n",
       "    <tr style=\"text-align: right;\">\n",
       "      <th></th>\n",
       "      <th>Animal Id</th>\n",
       "      <th>Animal Type</th>\n",
       "      <th>Animal Breed</th>\n",
       "      <th>Kennel Number</th>\n",
       "      <th>Kennel Status</th>\n",
       "      <th>Census Tract</th>\n",
       "      <th>Council District</th>\n",
       "      <th>Intake Type</th>\n",
       "      <th>Intake Subtype</th>\n",
       "      <th>Intake Date</th>\n",
       "      <th>Intake Time</th>\n",
       "      <th>Due Out</th>\n",
       "      <th>Intake Condition</th>\n",
       "      <th>Outcome Type</th>\n",
       "      <th>Outcome Subtype</th>\n",
       "      <th>Outcome Date</th>\n",
       "      <th>Outcome Time</th>\n",
       "      <th>Outcome Condition</th>\n",
       "      <th>Month</th>\n",
       "      <th>Year</th>\n",
       "    </tr>\n",
       "  </thead>\n",
       "  <tbody>\n",
       "    <tr>\n",
       "      <td>21590</td>\n",
       "      <td>A1100362</td>\n",
       "      <td>DOG</td>\n",
       "      <td>DOBERMAN PINSCH</td>\n",
       "      <td>LOST</td>\n",
       "      <td>IMPOUNDED</td>\n",
       "      <td>NaN</td>\n",
       "      <td>NaN</td>\n",
       "      <td>STRAY</td>\n",
       "      <td>WEB</td>\n",
       "      <td>2020-04-22</td>\n",
       "      <td>16:25:00</td>\n",
       "      <td>2020-04-25</td>\n",
       "      <td>NORMAL</td>\n",
       "      <td>OTHER</td>\n",
       "      <td>OTHER</td>\n",
       "      <td>NaT</td>\n",
       "      <td>00:00:00</td>\n",
       "      <td>NaN</td>\n",
       "      <td>APR.2020</td>\n",
       "      <td>FY2020</td>\n",
       "    </tr>\n",
       "    <tr>\n",
       "      <td>21721</td>\n",
       "      <td>A1100455</td>\n",
       "      <td>CAT</td>\n",
       "      <td>DOMESTIC SH</td>\n",
       "      <td>LOST</td>\n",
       "      <td>IMPOUNDED</td>\n",
       "      <td>NaN</td>\n",
       "      <td>NaN</td>\n",
       "      <td>STRAY</td>\n",
       "      <td>WEB</td>\n",
       "      <td>2020-04-25</td>\n",
       "      <td>02:25:00</td>\n",
       "      <td>2020-04-28</td>\n",
       "      <td>NORMAL</td>\n",
       "      <td>OTHER</td>\n",
       "      <td>OTHER</td>\n",
       "      <td>NaT</td>\n",
       "      <td>00:00:00</td>\n",
       "      <td>NaN</td>\n",
       "      <td>APR.2020</td>\n",
       "      <td>FY2020</td>\n",
       "    </tr>\n",
       "    <tr>\n",
       "      <td>22503</td>\n",
       "      <td>A1092903</td>\n",
       "      <td>DOG</td>\n",
       "      <td>PIT BULL</td>\n",
       "      <td>LFD 102</td>\n",
       "      <td>IMPOUNDED</td>\n",
       "      <td>16701</td>\n",
       "      <td>8</td>\n",
       "      <td>STRAY</td>\n",
       "      <td>AT LARGE</td>\n",
       "      <td>2020-05-07</td>\n",
       "      <td>18:37:00</td>\n",
       "      <td>2020-05-13</td>\n",
       "      <td>APP WNL</td>\n",
       "      <td>OTHER</td>\n",
       "      <td>OTHER</td>\n",
       "      <td>NaT</td>\n",
       "      <td>00:00:00</td>\n",
       "      <td>NaN</td>\n",
       "      <td>MAY.2020</td>\n",
       "      <td>FY2020</td>\n",
       "    </tr>\n",
       "    <tr>\n",
       "      <td>22472</td>\n",
       "      <td>A1100915</td>\n",
       "      <td>CAT</td>\n",
       "      <td>DOMESTIC SH</td>\n",
       "      <td>N01</td>\n",
       "      <td>UNAVAILABLE</td>\n",
       "      <td>20400</td>\n",
       "      <td>2</td>\n",
       "      <td>STRAY</td>\n",
       "      <td>CONFINED</td>\n",
       "      <td>2020-05-08</td>\n",
       "      <td>09:30:00</td>\n",
       "      <td>2020-05-08</td>\n",
       "      <td>APP SICK</td>\n",
       "      <td>FOSTER</td>\n",
       "      <td>UNDERAGE</td>\n",
       "      <td>NaT</td>\n",
       "      <td>00:00:00</td>\n",
       "      <td>UNDERAGE</td>\n",
       "      <td>MAY.2020</td>\n",
       "      <td>FY2020</td>\n",
       "    </tr>\n",
       "    <tr>\n",
       "      <td>22037</td>\n",
       "      <td>A1100688</td>\n",
       "      <td>CAT</td>\n",
       "      <td>DOMESTIC SH</td>\n",
       "      <td>LOST</td>\n",
       "      <td>IMPOUNDED</td>\n",
       "      <td>NaN</td>\n",
       "      <td>NaN</td>\n",
       "      <td>STRAY</td>\n",
       "      <td>WEB</td>\n",
       "      <td>2020-04-28</td>\n",
       "      <td>16:25:00</td>\n",
       "      <td>2020-05-03</td>\n",
       "      <td>NORMAL</td>\n",
       "      <td>OTHER</td>\n",
       "      <td>OTHER</td>\n",
       "      <td>NaT</td>\n",
       "      <td>00:00:00</td>\n",
       "      <td>NaN</td>\n",
       "      <td>APR.2020</td>\n",
       "      <td>FY2020</td>\n",
       "    </tr>\n",
       "  </tbody>\n",
       "</table>\n",
       "</div>"
      ],
      "text/plain": [
       "      Animal Id Animal Type     Animal Breed Kennel Number Kennel Status  \\\n",
       "21590  A1100362         DOG  DOBERMAN PINSCH          LOST     IMPOUNDED   \n",
       "21721  A1100455         CAT      DOMESTIC SH          LOST     IMPOUNDED   \n",
       "22503  A1092903         DOG         PIT BULL       LFD 102     IMPOUNDED   \n",
       "22472  A1100915         CAT      DOMESTIC SH           N01   UNAVAILABLE   \n",
       "22037  A1100688         CAT      DOMESTIC SH          LOST     IMPOUNDED   \n",
       "\n",
       "      Census Tract Council District Intake Type Intake Subtype Intake Date  \\\n",
       "21590          NaN              NaN       STRAY            WEB  2020-04-22   \n",
       "21721          NaN              NaN       STRAY            WEB  2020-04-25   \n",
       "22503        16701                8       STRAY       AT LARGE  2020-05-07   \n",
       "22472        20400                2       STRAY       CONFINED  2020-05-08   \n",
       "22037          NaN              NaN       STRAY            WEB  2020-04-28   \n",
       "\n",
       "      Intake Time    Due Out Intake Condition Outcome Type Outcome Subtype  \\\n",
       "21590    16:25:00 2020-04-25           NORMAL        OTHER           OTHER   \n",
       "21721    02:25:00 2020-04-28           NORMAL        OTHER           OTHER   \n",
       "22503    18:37:00 2020-05-13          APP WNL        OTHER           OTHER   \n",
       "22472    09:30:00 2020-05-08         APP SICK       FOSTER        UNDERAGE   \n",
       "22037    16:25:00 2020-05-03           NORMAL        OTHER           OTHER   \n",
       "\n",
       "      Outcome Date Outcome Time Outcome Condition     Month    Year  \n",
       "21590          NaT     00:00:00               NaN  APR.2020  FY2020  \n",
       "21721          NaT     00:00:00               NaN  APR.2020  FY2020  \n",
       "22503          NaT     00:00:00               NaN  MAY.2020  FY2020  \n",
       "22472          NaT     00:00:00          UNDERAGE  MAY.2020  FY2020  \n",
       "22037          NaT     00:00:00               NaN  APR.2020  FY2020  "
      ]
     },
     "execution_count": 77,
     "metadata": {},
     "output_type": "execute_result"
    }
   ],
   "source": [
    "df.loc[df['Outcome Date'].isnull()].sample(5)\n",
    "# These animals most likely still at shelter"
   ]
  },
  {
   "cell_type": "code",
   "execution_count": 78,
   "metadata": {},
   "outputs": [
    {
     "name": "stdout",
     "output_type": "stream",
     "text": [
      "22424   2020-05-08\n",
      "22434   2020-05-08\n",
      "22475   2020-05-08\n",
      "22467   2020-05-08\n",
      "22466   2020-05-08\n",
      "Name: Outcome Date, dtype: datetime64[ns]\n"
     ]
    }
   ],
   "source": [
    "# Sanity check\n",
    "print(df['Outcome Date'].sort_values(ascending=False).head())\n",
    "# latest date is 5/8/20"
   ]
  },
  {
   "cell_type": "code",
   "execution_count": 72,
   "metadata": {
    "scrolled": true
   },
   "outputs": [
    {
     "data": {
      "text/html": [
       "<div>\n",
       "<style scoped>\n",
       "    .dataframe tbody tr th:only-of-type {\n",
       "        vertical-align: middle;\n",
       "    }\n",
       "\n",
       "    .dataframe tbody tr th {\n",
       "        vertical-align: top;\n",
       "    }\n",
       "\n",
       "    .dataframe thead th {\n",
       "        text-align: right;\n",
       "    }\n",
       "</style>\n",
       "<table border=\"1\" class=\"dataframe\">\n",
       "  <thead>\n",
       "    <tr style=\"text-align: right;\">\n",
       "      <th></th>\n",
       "      <th>Animal Id</th>\n",
       "      <th>Animal Type</th>\n",
       "      <th>Animal Breed</th>\n",
       "      <th>Kennel Number</th>\n",
       "      <th>Kennel Status</th>\n",
       "      <th>Census Tract</th>\n",
       "      <th>Council District</th>\n",
       "      <th>Intake Type</th>\n",
       "      <th>Intake Subtype</th>\n",
       "      <th>Intake Date</th>\n",
       "      <th>Intake Time</th>\n",
       "      <th>Due Out</th>\n",
       "      <th>Intake Condition</th>\n",
       "      <th>Outcome Type</th>\n",
       "      <th>Outcome Subtype</th>\n",
       "      <th>Outcome Date</th>\n",
       "      <th>Outcome Time</th>\n",
       "      <th>Outcome Condition</th>\n",
       "      <th>Month</th>\n",
       "      <th>Year</th>\n",
       "    </tr>\n",
       "  </thead>\n",
       "  <tbody>\n",
       "    <tr>\n",
       "      <td>17772</td>\n",
       "      <td>A1087160</td>\n",
       "      <td>DOG</td>\n",
       "      <td>GREYHOUND</td>\n",
       "      <td>AD 067</td>\n",
       "      <td>UNAVAILABLE</td>\n",
       "      <td>NaN</td>\n",
       "      <td>NaN</td>\n",
       "      <td>TRANSFER</td>\n",
       "      <td>OTHER</td>\n",
       "      <td>2020-02-15</td>\n",
       "      <td>13:38:00</td>\n",
       "      <td>2020-02-15</td>\n",
       "      <td>APP WNL</td>\n",
       "      <td>ADOPTION</td>\n",
       "      <td>WALK IN</td>\n",
       "      <td>2020-02-28</td>\n",
       "      <td>12:47:00</td>\n",
       "      <td>APP WNL</td>\n",
       "      <td>FEB.2020</td>\n",
       "      <td>FY2020</td>\n",
       "    </tr>\n",
       "    <tr>\n",
       "      <td>19797</td>\n",
       "      <td>A1098385</td>\n",
       "      <td>DOG</td>\n",
       "      <td>CATAHOULA</td>\n",
       "      <td>LFSD 04</td>\n",
       "      <td>UNAVAILABLE</td>\n",
       "      <td>NaN</td>\n",
       "      <td>NaN</td>\n",
       "      <td>OWNER SURRENDER</td>\n",
       "      <td>GENERAL</td>\n",
       "      <td>2020-03-12</td>\n",
       "      <td>17:15:00</td>\n",
       "      <td>2020-03-13</td>\n",
       "      <td>APP WNL</td>\n",
       "      <td>ADOPTION</td>\n",
       "      <td>WESTMORELD</td>\n",
       "      <td>2020-03-14</td>\n",
       "      <td>13:59:00</td>\n",
       "      <td>APP WNL</td>\n",
       "      <td>MAR.2020</td>\n",
       "      <td>FY2020</td>\n",
       "    </tr>\n",
       "    <tr>\n",
       "      <td>17426</td>\n",
       "      <td>A1095990</td>\n",
       "      <td>DOG</td>\n",
       "      <td>GERM SHEPHERD</td>\n",
       "      <td>CC 17</td>\n",
       "      <td>UNAVAILABLE</td>\n",
       "      <td>NaN</td>\n",
       "      <td>NaN</td>\n",
       "      <td>OWNER SURRENDER</td>\n",
       "      <td>GENERAL</td>\n",
       "      <td>2020-02-14</td>\n",
       "      <td>11:47:00</td>\n",
       "      <td>2020-02-14</td>\n",
       "      <td>APP WNL</td>\n",
       "      <td>TRANSFER</td>\n",
       "      <td>TRANSPORT</td>\n",
       "      <td>2020-02-18</td>\n",
       "      <td>16:38:00</td>\n",
       "      <td>APP WNL</td>\n",
       "      <td>FEB.2020</td>\n",
       "      <td>FY2020</td>\n",
       "    </tr>\n",
       "    <tr>\n",
       "      <td>16460</td>\n",
       "      <td>A1092913</td>\n",
       "      <td>DOG</td>\n",
       "      <td>AUST CATTLE DOG</td>\n",
       "      <td>LOST</td>\n",
       "      <td>IMPOUNDED</td>\n",
       "      <td>NaN</td>\n",
       "      <td>NaN</td>\n",
       "      <td>STRAY</td>\n",
       "      <td>WEB</td>\n",
       "      <td>2020-01-06</td>\n",
       "      <td>00:25:00</td>\n",
       "      <td>2020-01-09</td>\n",
       "      <td>NORMAL</td>\n",
       "      <td>LOST EXP</td>\n",
       "      <td>OTHER</td>\n",
       "      <td>2020-02-09</td>\n",
       "      <td>00:00:00</td>\n",
       "      <td>NaN</td>\n",
       "      <td>JAN.2020</td>\n",
       "      <td>FY2020</td>\n",
       "    </tr>\n",
       "    <tr>\n",
       "      <td>15740</td>\n",
       "      <td>A1092301</td>\n",
       "      <td>DOG</td>\n",
       "      <td>SIBERIAN HUSKY</td>\n",
       "      <td>LOST</td>\n",
       "      <td>IMPOUNDED</td>\n",
       "      <td>NaN</td>\n",
       "      <td>NaN</td>\n",
       "      <td>STRAY</td>\n",
       "      <td>WEB</td>\n",
       "      <td>2019-12-28</td>\n",
       "      <td>00:25:00</td>\n",
       "      <td>2020-01-02</td>\n",
       "      <td>NORMAL</td>\n",
       "      <td>LOST EXP</td>\n",
       "      <td>OTHER</td>\n",
       "      <td>2020-02-02</td>\n",
       "      <td>00:00:00</td>\n",
       "      <td>NaN</td>\n",
       "      <td>DEC.2019</td>\n",
       "      <td>FY2020</td>\n",
       "    </tr>\n",
       "  </tbody>\n",
       "</table>\n",
       "</div>"
      ],
      "text/plain": [
       "      Animal Id Animal Type     Animal Breed Kennel Number Kennel Status  \\\n",
       "17772  A1087160         DOG        GREYHOUND        AD 067   UNAVAILABLE   \n",
       "19797  A1098385         DOG        CATAHOULA       LFSD 04   UNAVAILABLE   \n",
       "17426  A1095990         DOG    GERM SHEPHERD         CC 17   UNAVAILABLE   \n",
       "16460  A1092913         DOG  AUST CATTLE DOG          LOST     IMPOUNDED   \n",
       "15740  A1092301         DOG   SIBERIAN HUSKY          LOST     IMPOUNDED   \n",
       "\n",
       "      Census Tract Council District      Intake Type Intake Subtype  \\\n",
       "17772          NaN              NaN         TRANSFER          OTHER   \n",
       "19797          NaN              NaN  OWNER SURRENDER        GENERAL   \n",
       "17426          NaN              NaN  OWNER SURRENDER        GENERAL   \n",
       "16460          NaN              NaN            STRAY            WEB   \n",
       "15740          NaN              NaN            STRAY            WEB   \n",
       "\n",
       "      Intake Date Intake Time    Due Out Intake Condition Outcome Type  \\\n",
       "17772  2020-02-15    13:38:00 2020-02-15          APP WNL     ADOPTION   \n",
       "19797  2020-03-12    17:15:00 2020-03-13          APP WNL     ADOPTION   \n",
       "17426  2020-02-14    11:47:00 2020-02-14          APP WNL     TRANSFER   \n",
       "16460  2020-01-06    00:25:00 2020-01-09           NORMAL     LOST EXP   \n",
       "15740  2019-12-28    00:25:00 2020-01-02           NORMAL     LOST EXP   \n",
       "\n",
       "      Outcome Subtype Outcome Date Outcome Time Outcome Condition     Month  \\\n",
       "17772         WALK IN   2020-02-28     12:47:00           APP WNL  FEB.2020   \n",
       "19797      WESTMORELD   2020-03-14     13:59:00           APP WNL  MAR.2020   \n",
       "17426       TRANSPORT   2020-02-18     16:38:00           APP WNL  FEB.2020   \n",
       "16460           OTHER   2020-02-09     00:00:00               NaN  JAN.2020   \n",
       "15740           OTHER   2020-02-02     00:00:00               NaN  DEC.2019   \n",
       "\n",
       "         Year  \n",
       "17772  FY2020  \n",
       "19797  FY2020  \n",
       "17426  FY2020  \n",
       "16460  FY2020  \n",
       "15740  FY2020  "
      ]
     },
     "execution_count": 72,
     "metadata": {},
     "output_type": "execute_result"
    }
   ],
   "source": [
    "df.loc[df['Census Tract'].isnull()].sample(5)"
   ]
  },
  {
   "cell_type": "code",
   "execution_count": 73,
   "metadata": {},
   "outputs": [
    {
     "data": {
      "text/html": [
       "<div>\n",
       "<style scoped>\n",
       "    .dataframe tbody tr th:only-of-type {\n",
       "        vertical-align: middle;\n",
       "    }\n",
       "\n",
       "    .dataframe tbody tr th {\n",
       "        vertical-align: top;\n",
       "    }\n",
       "\n",
       "    .dataframe thead th {\n",
       "        text-align: right;\n",
       "    }\n",
       "</style>\n",
       "<table border=\"1\" class=\"dataframe\">\n",
       "  <thead>\n",
       "    <tr style=\"text-align: right;\">\n",
       "      <th></th>\n",
       "      <th>Animal Id</th>\n",
       "      <th>Animal Type</th>\n",
       "      <th>Animal Breed</th>\n",
       "      <th>Kennel Number</th>\n",
       "      <th>Kennel Status</th>\n",
       "      <th>Census Tract</th>\n",
       "      <th>Council District</th>\n",
       "      <th>Intake Type</th>\n",
       "      <th>Intake Subtype</th>\n",
       "      <th>Intake Date</th>\n",
       "      <th>Intake Time</th>\n",
       "      <th>Due Out</th>\n",
       "      <th>Intake Condition</th>\n",
       "      <th>Outcome Type</th>\n",
       "      <th>Outcome Subtype</th>\n",
       "      <th>Outcome Date</th>\n",
       "      <th>Outcome Time</th>\n",
       "      <th>Outcome Condition</th>\n",
       "      <th>Month</th>\n",
       "      <th>Year</th>\n",
       "    </tr>\n",
       "  </thead>\n",
       "  <tbody>\n",
       "    <tr>\n",
       "      <td>20477</td>\n",
       "      <td>A1095902</td>\n",
       "      <td>CAT</td>\n",
       "      <td>DOMESTIC SH</td>\n",
       "      <td>F1</td>\n",
       "      <td>UNAVAILABLE</td>\n",
       "      <td>NaN</td>\n",
       "      <td>NaN</td>\n",
       "      <td>TREATMENT</td>\n",
       "      <td>ILLNESS</td>\n",
       "      <td>2020-04-10</td>\n",
       "      <td>09:42:00</td>\n",
       "      <td>2020-04-10</td>\n",
       "      <td>APP WNL</td>\n",
       "      <td>TREATMENT</td>\n",
       "      <td>COMPLETED</td>\n",
       "      <td>2020-04-10</td>\n",
       "      <td>12:46:00</td>\n",
       "      <td>APP WNL</td>\n",
       "      <td>APR.2020</td>\n",
       "      <td>FY2020</td>\n",
       "    </tr>\n",
       "    <tr>\n",
       "      <td>1445</td>\n",
       "      <td>A1096231</td>\n",
       "      <td>DOG</td>\n",
       "      <td>CHIHUAHUA SH</td>\n",
       "      <td>INJD 015</td>\n",
       "      <td>UNAVAILABLE</td>\n",
       "      <td>NaN</td>\n",
       "      <td>NaN</td>\n",
       "      <td>OWNER SURRENDER</td>\n",
       "      <td>GENERAL</td>\n",
       "      <td>2020-02-17</td>\n",
       "      <td>14:52:00</td>\n",
       "      <td>2020-02-17</td>\n",
       "      <td>APP WNL</td>\n",
       "      <td>TRANSFER</td>\n",
       "      <td>MEDICAL-CONTAGIOUS</td>\n",
       "      <td>2020-02-19</td>\n",
       "      <td>11:14:00</td>\n",
       "      <td>APP WNL</td>\n",
       "      <td>FEB.2020</td>\n",
       "      <td>FY2020</td>\n",
       "    </tr>\n",
       "    <tr>\n",
       "      <td>19151</td>\n",
       "      <td>A1091964</td>\n",
       "      <td>DOG</td>\n",
       "      <td>GERM SHEPHERD</td>\n",
       "      <td>LFD 080</td>\n",
       "      <td>UNAVAILABLE</td>\n",
       "      <td>NaN</td>\n",
       "      <td>NaN</td>\n",
       "      <td>OWNER SURRENDER</td>\n",
       "      <td>GENERAL</td>\n",
       "      <td>2020-03-05</td>\n",
       "      <td>17:45:00</td>\n",
       "      <td>2020-03-05</td>\n",
       "      <td>APP WNL</td>\n",
       "      <td>ADOPTION</td>\n",
       "      <td>WALK IN</td>\n",
       "      <td>2020-03-06</td>\n",
       "      <td>14:12:00</td>\n",
       "      <td>APP WNL</td>\n",
       "      <td>MAR.2020</td>\n",
       "      <td>FY2020</td>\n",
       "    </tr>\n",
       "    <tr>\n",
       "      <td>20060</td>\n",
       "      <td>A1097212</td>\n",
       "      <td>DOG</td>\n",
       "      <td>PIT BULL</td>\n",
       "      <td>F1</td>\n",
       "      <td>AVAILABLE</td>\n",
       "      <td>NaN</td>\n",
       "      <td>NaN</td>\n",
       "      <td>FOSTER</td>\n",
       "      <td>TREATMENT</td>\n",
       "      <td>2020-03-27</td>\n",
       "      <td>11:46:00</td>\n",
       "      <td>2020-03-27</td>\n",
       "      <td>APP WNL</td>\n",
       "      <td>FOSTER</td>\n",
       "      <td>TREATMENT</td>\n",
       "      <td>2020-03-27</td>\n",
       "      <td>15:26:00</td>\n",
       "      <td>APP WNL</td>\n",
       "      <td>MAR.2020</td>\n",
       "      <td>FY2020</td>\n",
       "    </tr>\n",
       "    <tr>\n",
       "      <td>22081</td>\n",
       "      <td>A1094690</td>\n",
       "      <td>DOG</td>\n",
       "      <td>GERM SHEPHERD</td>\n",
       "      <td>AD 001</td>\n",
       "      <td>UNAVAILABLE</td>\n",
       "      <td>NaN</td>\n",
       "      <td>NaN</td>\n",
       "      <td>FOSTER</td>\n",
       "      <td>RETURN</td>\n",
       "      <td>2020-05-04</td>\n",
       "      <td>12:34:00</td>\n",
       "      <td>2020-05-04</td>\n",
       "      <td>APP WNL</td>\n",
       "      <td>ADOPTION</td>\n",
       "      <td>IN FOSTER</td>\n",
       "      <td>2020-05-04</td>\n",
       "      <td>12:40:00</td>\n",
       "      <td>APP WNL</td>\n",
       "      <td>MAY.2020</td>\n",
       "      <td>FY2020</td>\n",
       "    </tr>\n",
       "  </tbody>\n",
       "</table>\n",
       "</div>"
      ],
      "text/plain": [
       "      Animal Id Animal Type   Animal Breed Kennel Number Kennel Status  \\\n",
       "20477  A1095902         CAT    DOMESTIC SH            F1   UNAVAILABLE   \n",
       "1445   A1096231         DOG   CHIHUAHUA SH      INJD 015   UNAVAILABLE   \n",
       "19151  A1091964         DOG  GERM SHEPHERD       LFD 080   UNAVAILABLE   \n",
       "20060  A1097212         DOG       PIT BULL            F1     AVAILABLE   \n",
       "22081  A1094690         DOG  GERM SHEPHERD        AD 001   UNAVAILABLE   \n",
       "\n",
       "      Census Tract Council District      Intake Type Intake Subtype  \\\n",
       "20477          NaN              NaN        TREATMENT        ILLNESS   \n",
       "1445           NaN              NaN  OWNER SURRENDER        GENERAL   \n",
       "19151          NaN              NaN  OWNER SURRENDER        GENERAL   \n",
       "20060          NaN              NaN           FOSTER      TREATMENT   \n",
       "22081          NaN              NaN           FOSTER         RETURN   \n",
       "\n",
       "      Intake Date Intake Time    Due Out Intake Condition Outcome Type  \\\n",
       "20477  2020-04-10    09:42:00 2020-04-10          APP WNL    TREATMENT   \n",
       "1445   2020-02-17    14:52:00 2020-02-17          APP WNL     TRANSFER   \n",
       "19151  2020-03-05    17:45:00 2020-03-05          APP WNL     ADOPTION   \n",
       "20060  2020-03-27    11:46:00 2020-03-27          APP WNL       FOSTER   \n",
       "22081  2020-05-04    12:34:00 2020-05-04          APP WNL     ADOPTION   \n",
       "\n",
       "          Outcome Subtype Outcome Date Outcome Time Outcome Condition  \\\n",
       "20477           COMPLETED   2020-04-10     12:46:00           APP WNL   \n",
       "1445   MEDICAL-CONTAGIOUS   2020-02-19     11:14:00           APP WNL   \n",
       "19151             WALK IN   2020-03-06     14:12:00           APP WNL   \n",
       "20060           TREATMENT   2020-03-27     15:26:00           APP WNL   \n",
       "22081           IN FOSTER   2020-05-04     12:40:00           APP WNL   \n",
       "\n",
       "          Month    Year  \n",
       "20477  APR.2020  FY2020  \n",
       "1445   FEB.2020  FY2020  \n",
       "19151  MAR.2020  FY2020  \n",
       "20060  MAR.2020  FY2020  \n",
       "22081  MAY.2020  FY2020  "
      ]
     },
     "execution_count": 73,
     "metadata": {},
     "output_type": "execute_result"
    }
   ],
   "source": [
    "df.loc[df['Council District'].isnull()].sample(5)"
   ]
  },
  {
   "cell_type": "code",
   "execution_count": 82,
   "metadata": {},
   "outputs": [
    {
     "data": {
      "text/plain": [
       "True"
      ]
     },
     "execution_count": 82,
     "metadata": {},
     "output_type": "execute_result"
    }
   ],
   "source": [
    "# Check if the missing values for 'Council District' and 'Census Tract' occur within the same records\n",
    "temp_df1 = df.loc[df['Council District'].isnull()]\n",
    "temp_df2 = df.loc[df['Census Tract'].isnull()]\n",
    "\n",
    "temp_df1.equals(temp_df2) # yes"
   ]
  },
  {
   "cell_type": "markdown",
   "metadata": {},
   "source": [
    "## Univariate Analysis"
   ]
  },
  {
   "cell_type": "markdown",
   "metadata": {},
   "source": [
    "### Types of Animals"
   ]
  },
  {
   "cell_type": "code",
   "execution_count": 105,
   "metadata": {},
   "outputs": [
    {
     "name": "stdout",
     "output_type": "stream",
     "text": [
      "Types of Animals:  ['DOG', 'CAT', 'BIRD', 'WILDLIFE', 'LIVESTOCK'] \n",
      "\n",
      "DOG          16617\n",
      "CAT           5143\n",
      "WILDLIFE       671\n",
      "BIRD           111\n",
      "LIVESTOCK       15\n",
      "Name: Animal Type, dtype: int64\n"
     ]
    },
    {
     "data": {
      "text/plain": [
       "<matplotlib.axes._subplots.AxesSubplot at 0x12337bc88>"
      ]
     },
     "execution_count": 105,
     "metadata": {},
     "output_type": "execute_result"
    },
    {
     "data": {
      "image/png": "[encoded data removed]",
      "text/plain": [
       "<Figure size 432x288 with 1 Axes>"
      ]
     },
     "metadata": {
      "needs_background": "light"
     },
     "output_type": "display_data"
    }
   ],
   "source": [
    "# Explore the Animal Type field\n",
    "\n",
    "# List unique categories\n",
    "print('Types of Animals: ', list(df['Animal Type'].unique()), '\\n')\n",
    "\n",
    "# Frequency counts\n",
    "print(df['Animal Type'].value_counts())\n",
    "\n",
    "# simple bar chart\n",
    "df['Animal Type'].value_counts().plot.bar()\n",
    "\n",
    "# df['Animal Type'].value_counts().iplot(\n",
    "#     kind='bar', xTitle='Count', linecolor='black', orientation='v', color='blue', title='Distribution of Animal Types')"
   ]
  },
  {
   "cell_type": "code",
   "execution_count": 95,
   "metadata": {},
   "outputs": [
    {
     "data": {
      "text/plain": [
       "<matplotlib.axes._subplots.AxesSubplot at 0x12264f2e8>"
      ]
     },
     "execution_count": 95,
     "metadata": {},
     "output_type": "execute_result"
    },
    {
     "data": {
      "image/png": "[encoded data removed]",
      "text/plain": [
       "<Figure size 432x288 with 1 Axes>"
      ]
     },
     "metadata": {
      "needs_background": "light"
     },
     "output_type": "display_data"
    }
   ],
   "source": [
    "df['Animal Type'].value_counts(normalize=True).plot.bar()"
   ]
  },
  {
   "cell_type": "markdown",
   "metadata": {},
   "source": [
    "### Location of Events"
   ]
  },
  {
   "cell_type": "code",
   "execution_count": 108,
   "metadata": {},
   "outputs": [
    {
     "name": "stdout",
     "output_type": "stream",
     "text": [
      "Total Census Tracts:  312\n",
      "Total Council Districts:  17\n"
     ]
    }
   ],
   "source": [
    "print('Total Census Tracts: ',len(df['Census Tract'].unique()))\n",
    "print('Total Council Districts: ',len(df['Council District'].unique()))"
   ]
  },
  {
   "cell_type": "markdown",
   "metadata": {},
   "source": [
    "#### Census Tracts"
   ]
  },
  {
   "cell_type": "code",
   "execution_count": 170,
   "metadata": {},
   "outputs": [
    {
     "name": "stdout",
     "output_type": "stream",
     "text": [
      "Top Census Tracts with Events Occuring: \n",
      "\n",
      "20500    3684\n",
      "11900     241\n",
      "11602     237\n",
      "17102     236\n",
      "8802      220\n",
      "11800     218\n",
      "11701     218\n",
      "10601     215\n",
      "9201      208\n",
      "17004     203\n",
      "Name: Census Tract, dtype: int64\n"
     ]
    },
    {
     "data": {
      "text/plain": [
       "<matplotlib.axes._subplots.AxesSubplot at 0x126da6d68>"
      ]
     },
     "execution_count": 170,
     "metadata": {},
     "output_type": "execute_result"
    },
    {
     "data": {
      "image/png": "[encoded data removed]",
      "text/plain": [
       "<Figure size 432x288 with 1 Axes>"
      ]
     },
     "metadata": {
      "needs_background": "light"
     },
     "output_type": "display_data"
    }
   ],
   "source": [
    "# Explore frequency of animal rescues by census tracts\n",
    "print('Top Census Tracts with Events Occuring:', '\\n')\n",
    "print(df['Census Tract'].value_counts().sort_values(ascending=False).head(10))\n",
    "\n",
    "tract_freq = df['Census Tract'].value_counts()\n",
    "tract_freq.loc[tract_freq<250].plot(kind='hist')\n",
    "# df['Animal Type'].value_counts().plot.bar()"
   ]
  },
  {
   "cell_type": "code",
   "execution_count": 119,
   "metadata": {},
   "outputs": [
    {
     "data": {
      "text/plain": [
       "<matplotlib.axes._subplots.AxesSubplot at 0x120b19240>"
      ]
     },
     "execution_count": 119,
     "metadata": {},
     "output_type": "execute_result"
    },
    {
     "data": {
      "image/png": "[encoded data removed]",
      "text/plain": [
       "<Figure size 432x288 with 1 Axes>"
      ]
     },
     "metadata": {
      "needs_background": "light"
     },
     "output_type": "display_data"
    }
   ],
   "source": [
    "# Alternatively\n",
    "tract_freq.loc[tract_freq<250].to_frame().boxplot()"
   ]
  },
  {
   "cell_type": "markdown",
   "metadata": {},
   "source": [
    "#### Council Districts"
   ]
  },
  {
   "cell_type": "code",
   "execution_count": 158,
   "metadata": {},
   "outputs": [
    {
     "data": {
      "text/plain": [
       "6     5158\n",
       "4     2404\n",
       "8     2238\n",
       "5     2069\n",
       "7     1609\n",
       "1     1436\n",
       "3     1413\n",
       "2      869\n",
       "9      751\n",
       "10     456\n",
       "14     392\n",
       "13     392\n",
       "11     347\n",
       "12     250\n",
       "Name: Council District, dtype: int64"
      ]
     },
     "execution_count": 158,
     "metadata": {},
     "output_type": "execute_result"
    }
   ],
   "source": [
    "district_freq = df['Council District'].value_counts().drop(labels=['AS',0])\n",
    "district_freq"
   ]
  },
  {
   "cell_type": "markdown",
   "metadata": {},
   "source": [
    "#### Frequency of Events by Council District"
   ]
  },
  {
   "cell_type": "code",
   "execution_count": 159,
   "metadata": {},
   "outputs": [
    {
     "data": {
      "text/plain": [
       "<matplotlib.axes._subplots.AxesSubplot at 0x126093860>"
      ]
     },
     "execution_count": 159,
     "metadata": {},
     "output_type": "execute_result"
    },
    {
     "data": {
      "image/png": "[encoded data removed]",
      "text/plain": [
       "<Figure size 432x288 with 1 Axes>"
      ]
     },
     "metadata": {
      "needs_background": "light"
     },
     "output_type": "display_data"
    }
   ],
   "source": [
    "sns.barplot(x=district_freq.index, y = district_freq, order=district_freq.index)"
   ]
  },
  {
   "cell_type": "code",
   "execution_count": 161,
   "metadata": {},
   "outputs": [
    {
     "data": {
      "text/plain": [
       "<matplotlib.axes._subplots.AxesSubplot at 0x126ce7470>"
      ]
     },
     "execution_count": 161,
     "metadata": {},
     "output_type": "execute_result"
    },
    {
     "data": {
      "image/png": "[encoded data removed]",
      "text/plain": [
       "<Figure size 432x288 with 1 Axes>"
      ]
     },
     "metadata": {
      "needs_background": "light"
     },
     "output_type": "display_data"
    }
   ],
   "source": [
    "trace = df['Council District'].value_counts(normalize=True).drop(labels=['AS',0])\n",
    "\n",
    "sns.barplot(x=district_freq.index, y = trace, order=district_freq.index)"
   ]
  },
  {
   "cell_type": "markdown",
   "metadata": {},
   "source": [
    "### Intake Type"
   ]
  },
  {
   "cell_type": "code",
   "execution_count": 165,
   "metadata": {},
   "outputs": [
    {
     "name": "stdout",
     "output_type": "stream",
     "text": [
      "Total Intake Types:  9\n"
     ]
    },
    {
     "data": {
      "text/plain": [
       "STRAY              13010\n",
       "OWNER SURRENDER     4500\n",
       "FOSTER              2414\n",
       "CONFISCATED          865\n",
       "TREATMENT            843\n",
       "WILDLIFE             532\n",
       "TRANSFER             350\n",
       "KEEPSAFE              33\n",
       "DISPOS REQ            10\n",
       "Name: Intake Type, dtype: int64"
      ]
     },
     "execution_count": 165,
     "metadata": {},
     "output_type": "execute_result"
    }
   ],
   "source": [
    "print('Total Intake Types: ', len(df['Intake Type'].unique()))\n",
    "intake_freq = df['Intake Type'].value_counts()\n",
    "intake_freq"
   ]
  },
  {
   "cell_type": "code",
   "execution_count": 171,
   "metadata": {},
   "outputs": [
    {
     "data": {
      "text/plain": [
       "<matplotlib.axes._subplots.AxesSubplot at 0x126c9a4a8>"
      ]
     },
     "execution_count": 171,
     "metadata": {},
     "output_type": "execute_result"
    },
    {
     "data": {
      "image/png": "[encoded data removed]",
      "text/plain": [
       "<Figure size 432x288 with 1 Axes>"
      ]
     },
     "metadata": {
      "needs_background": "light"
     },
     "output_type": "display_data"
    }
   ],
   "source": [
    "df['Intake Type'].value_counts().plot.bar()"
   ]
  },
  {
   "cell_type": "code",
   "execution_count": 172,
   "metadata": {
    "scrolled": false
   },
   "outputs": [
    {
     "data": {
      "text/plain": [
       "<matplotlib.axes._subplots.AxesSubplot at 0x126e75828>"
      ]
     },
     "execution_count": 172,
     "metadata": {},
     "output_type": "execute_result"
    },
    {
     "data": {
      "image/png": "[encoded data removed]",
      "text/plain": [
       "<Figure size 432x288 with 1 Axes>"
      ]
     },
     "metadata": {
      "needs_background": "light"
     },
     "output_type": "display_data"
    }
   ],
   "source": [
    "df['Intake Type'].value_counts(normalize=True).plot.bar()"
   ]
  },
  {
   "cell_type": "markdown",
   "metadata": {},
   "source": [
    "We can see that the majority of shelter animals are strays. With ~80% being strays or surrendered animals."
   ]
  },
  {
   "cell_type": "markdown",
   "metadata": {},
   "source": [
    "### Intake Date"
   ]
  },
  {
   "cell_type": "markdown",
   "metadata": {},
   "source": [
    "When are these events occurring during the year?"
   ]
  },
  {
   "cell_type": "code",
   "execution_count": null,
   "metadata": {},
   "outputs": [],
   "source": []
  }
 ],
 "metadata": {
  "kernelspec": {
   "display_name": "Python 3",
   "language": "python",
   "name": "python3"
  },
  "language_info": {
   "codemirror_mode": {
    "name": "ipython",
    "version": 3
   },
   "file_extension": ".py",
   "mimetype": "text/x-python",
   "name": "python",
   "nbconvert_exporter": "python",
   "pygments_lexer": "ipython3",
   "version": "3.6.9"
  }
 },
 "nbformat": 4,
 "nbformat_minor": 2
}
